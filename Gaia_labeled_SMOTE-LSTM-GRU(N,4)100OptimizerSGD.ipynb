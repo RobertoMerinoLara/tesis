{
 "cells": [
  {
   "cell_type": "code",
   "execution_count": 1,
   "id": "af1c0d1a",
   "metadata": {
    "executionInfo": {
     "elapsed": 245,
     "status": "ok",
     "timestamp": 1656443890080,
     "user": {
      "displayName": "Pablo Jara",
      "userId": "18260261620479430424"
     },
     "user_tz": 240
    },
    "id": "af1c0d1a"
   },
   "outputs": [],
   "source": [
    "import IPython\n",
    "import IPython.display\n",
    "import numpy as np\n",
    "import pandas as pd\n",
    "import glob\n",
    "import joblib  \n",
    "import matplotlib.pyplot as plt\n",
    "import seaborn as sns\n",
    "import tensorflow as tf\n",
    "from sklearn.model_selection import train_test_split\n",
    "from imblearn.over_sampling import SMOTE\n",
    "import imblearn\n",
    "from collections import Counter\n",
    "from sklearn.preprocessing import LabelEncoder\n",
    "from imblearn.datasets import make_imbalance\n",
    "from sklearn.compose import make_column_transformer\n",
    "from sklearn.pipeline import Pipeline, make_pipeline\n",
    "import numpy as geek\n",
    "from keras.models import load_model "
   ]
  },
  {
   "cell_type": "code",
   "execution_count": 2,
   "id": "by9M1QU6ifRM",
   "metadata": {
    "executionInfo": {
     "elapsed": 236,
     "status": "ok",
     "timestamp": 1656443894355,
     "user": {
      "displayName": "Pablo Jara",
      "userId": "18260261620479430424"
     },
     "user_tz": 240
    },
    "id": "by9M1QU6ifRM"
   },
   "outputs": [],
   "source": [
    "# !pip install h5py"
   ]
  },
  {
   "cell_type": "code",
   "execution_count": 3,
   "id": "b9347a73",
   "metadata": {
    "executionInfo": {
     "elapsed": 274,
     "status": "ok",
     "timestamp": 1656443895883,
     "user": {
      "displayName": "Pablo Jara",
      "userId": "18260261620479430424"
     },
     "user_tz": 240
    },
    "id": "b9347a73"
   },
   "outputs": [],
   "source": [
    "df1 = pd.read_hdf('D:\\Tesis\\hdf\\gaia\\gaia_label_full_22_500.hdf')\n",
    "yframes = pd.read_hdf('D:\\Tesis\\hdf\\gaia\\gaia_output_ful_22_500.hdf')\n",
    "# df1 = pd.read_hdf('/content/drive/MyDrive/hdfdiff/gaia_label_full_22_500.hdf')\n",
    "# yframes = pd.read_hdf('/content/drive/MyDrive/hdfdiff/gaia_output_ful_22_500.hdf')"
   ]
  },
  {
   "cell_type": "code",
   "execution_count": 4,
   "id": "PPQqBRMbKe92",
   "metadata": {
    "executionInfo": {
     "elapsed": 1645,
     "status": "ok",
     "timestamp": 1656443898838,
     "user": {
      "displayName": "Pablo Jara",
      "userId": "18260261620479430424"
     },
     "user_tz": 240
    },
    "id": "PPQqBRMbKe92"
   },
   "outputs": [],
   "source": [
    "# yframes = pd.read_hdf('/content/drive/MyDrive/Colab Notebooks/Data/gaia_output_full_diff.hdf')\n",
    "df2 = pd.read_hdf('D:\\Tesis\\hdf\\gaia\\gaia_label_full_diff.hdf')\n",
    "# df2 = pd.read_hdf('/content/drive/MyDrive/hdfdiff/gaia_label_full_diff.hdf')"
   ]
  },
  {
   "cell_type": "code",
   "execution_count": 5,
   "id": "CWWCceZKonKX",
   "metadata": {
    "id": "CWWCceZKonKX"
   },
   "outputs": [],
   "source": [
    "# from google.colab import drive\n",
    "# drive.mount('/content/drive')"
   ]
  },
  {
   "cell_type": "code",
   "execution_count": 6,
   "id": "7815191c",
   "metadata": {
    "colab": {
     "base_uri": "https://localhost:8080/"
    },
    "executionInfo": {
     "elapsed": 238,
     "status": "ok",
     "timestamp": 1656443902080,
     "user": {
      "displayName": "Pablo Jara",
      "userId": "18260261620479430424"
     },
     "user_tz": 240
    },
    "id": "7815191c",
    "outputId": "9a35b67a-8418-44b8-acb9-84e1921b149c"
   },
   "outputs": [
    {
     "name": "stdout",
     "output_type": "stream",
     "text": [
      "                time        mag\n",
      "0        1711.234429  19.595734\n",
      "1        1711.308429  19.755899\n",
      "2        1733.180046  19.918856\n",
      "3        1733.356191  19.303412\n",
      "4        1733.606337  19.871112\n",
      "...              ...        ...\n",
      "3886537  1897.958046  14.752536\n",
      "3886538  1898.208233  15.127580\n",
      "3886539  1898.458392  15.327697\n",
      "3886540  1940.361672  15.240801\n",
      "3886541  1978.841512  15.328986\n",
      "\n",
      "[3886542 rows x 2 columns]\n"
     ]
    }
   ],
   "source": [
    "print(df1)"
   ]
  },
  {
   "cell_type": "code",
   "execution_count": 7,
   "id": "m52gdqN3NvAd",
   "metadata": {
    "colab": {
     "base_uri": "https://localhost:8080/"
    },
    "executionInfo": {
     "elapsed": 2,
     "status": "ok",
     "timestamp": 1656443903599,
     "user": {
      "displayName": "Pablo Jara",
      "userId": "18260261620479430424"
     },
     "user_tz": 240
    },
    "id": "m52gdqN3NvAd",
    "outputId": "ac7d915c-9f32-4cb7-e56b-fadeb30c2bdd"
   },
   "outputs": [
    {
     "name": "stdout",
     "output_type": "stream",
     "text": [
      "              time       mag\n",
      "0         0.074000  0.160165\n",
      "1        21.871617  0.162957\n",
      "2         0.176146 -0.615444\n",
      "3         0.250145  0.567700\n",
      "4         0.250143 -0.426121\n",
      "...            ...       ...\n",
      "3886537   0.250186  0.375043\n",
      "3886538   0.250159  0.200117\n",
      "3886539  41.903280 -0.086895\n",
      "3886540  38.479840  0.088185\n",
      "3886541   0.074014 -0.219634\n",
      "\n",
      "[3886542 rows x 2 columns]\n"
     ]
    }
   ],
   "source": [
    "print(df2)"
   ]
  },
  {
   "cell_type": "code",
   "execution_count": 8,
   "id": "xUh507NYOcTO",
   "metadata": {
    "executionInfo": {
     "elapsed": 222,
     "status": "ok",
     "timestamp": 1656443905134,
     "user": {
      "displayName": "Pablo Jara",
      "userId": "18260261620479430424"
     },
     "user_tz": 240
    },
    "id": "xUh507NYOcTO"
   },
   "outputs": [],
   "source": [
    "df1.columns = ['Time','Mag']\n",
    "df2.columns = ['diffTime','diffMag']"
   ]
  },
  {
   "cell_type": "code",
   "execution_count": 9,
   "id": "rdbsAQ75O8gd",
   "metadata": {
    "colab": {
     "base_uri": "https://localhost:8080/"
    },
    "executionInfo": {
     "elapsed": 226,
     "status": "ok",
     "timestamp": 1656443906332,
     "user": {
      "displayName": "Pablo Jara",
      "userId": "18260261620479430424"
     },
     "user_tz": 240
    },
    "id": "rdbsAQ75O8gd",
    "outputId": "f4d0e1d3-e069-4e18-b175-fa9efcf5c2fe"
   },
   "outputs": [
    {
     "name": "stdout",
     "output_type": "stream",
     "text": [
      "          diffTime   diffMag\n",
      "0         0.074000  0.160165\n",
      "1        21.871617  0.162957\n",
      "2         0.176146 -0.615444\n",
      "3         0.250145  0.567700\n",
      "4         0.250143 -0.426121\n",
      "...            ...       ...\n",
      "3886537   0.250186  0.375043\n",
      "3886538   0.250159  0.200117\n",
      "3886539  41.903280 -0.086895\n",
      "3886540  38.479840  0.088185\n",
      "3886541   0.074014 -0.219634\n",
      "\n",
      "[3886542 rows x 2 columns]\n"
     ]
    }
   ],
   "source": [
    "print(df2)"
   ]
  },
  {
   "cell_type": "code",
   "execution_count": 10,
   "id": "2WBzIgEjO_yV",
   "metadata": {
    "executionInfo": {
     "elapsed": 317,
     "status": "ok",
     "timestamp": 1656443907691,
     "user": {
      "displayName": "Pablo Jara",
      "userId": "18260261620479430424"
     },
     "user_tz": 240
    },
    "id": "2WBzIgEjO_yV"
   },
   "outputs": [],
   "source": [
    "df = pd.concat([df1, df2], axis=1)"
   ]
  },
  {
   "cell_type": "code",
   "execution_count": 11,
   "id": "sUgVwV-BPq4u",
   "metadata": {
    "colab": {
     "base_uri": "https://localhost:8080/"
    },
    "executionInfo": {
     "elapsed": 2,
     "status": "ok",
     "timestamp": 1656443908689,
     "user": {
      "displayName": "Pablo Jara",
      "userId": "18260261620479430424"
     },
     "user_tz": 240
    },
    "id": "sUgVwV-BPq4u",
    "outputId": "d75f1036-5fd2-45f1-87e7-07d4c214081f"
   },
   "outputs": [
    {
     "name": "stdout",
     "output_type": "stream",
     "text": [
      "                Time        Mag   diffTime   diffMag\n",
      "0        1711.234429  19.595734   0.074000  0.160165\n",
      "1        1711.308429  19.755899  21.871617  0.162957\n",
      "2        1733.180046  19.918856   0.176146 -0.615444\n",
      "3        1733.356191  19.303412   0.250145  0.567700\n",
      "4        1733.606337  19.871112   0.250143 -0.426121\n",
      "...              ...        ...        ...       ...\n",
      "3886537  1897.958046  14.752536   0.250186  0.375043\n",
      "3886538  1898.208233  15.127580   0.250159  0.200117\n",
      "3886539  1898.458392  15.327697  41.903280 -0.086895\n",
      "3886540  1940.361672  15.240801  38.479840  0.088185\n",
      "3886541  1978.841512  15.328986   0.074014 -0.219634\n",
      "\n",
      "[3886542 rows x 4 columns]\n"
     ]
    }
   ],
   "source": [
    "print(df)"
   ]
  },
  {
   "cell_type": "code",
   "execution_count": 12,
   "id": "d13ac9c8",
   "metadata": {
    "executionInfo": {
     "elapsed": 245,
     "status": "ok",
     "timestamp": 1656443909896,
     "user": {
      "displayName": "Pablo Jara",
      "userId": "18260261620479430424"
     },
     "user_tz": 240
    },
    "id": "d13ac9c8"
   },
   "outputs": [],
   "source": [
    "# df = df.drop(['diffMag'], axis = 1)"
   ]
  },
  {
   "cell_type": "code",
   "execution_count": 13,
   "id": "c12f21dc",
   "metadata": {
    "colab": {
     "base_uri": "https://localhost:8080/"
    },
    "executionInfo": {
     "elapsed": 2,
     "status": "ok",
     "timestamp": 1656443910986,
     "user": {
      "displayName": "Pablo Jara",
      "userId": "18260261620479430424"
     },
     "user_tz": 240
    },
    "id": "c12f21dc",
    "outputId": "9fdfb6c5-c15f-43b1-e82f-8cfa88821472"
   },
   "outputs": [
    {
     "name": "stdout",
     "output_type": "stream",
     "text": [
      "                Time        Mag   diffTime   diffMag\n",
      "0        1711.234429  19.595734   0.074000  0.160165\n",
      "1        1711.308429  19.755899  21.871617  0.162957\n",
      "2        1733.180046  19.918856   0.176146 -0.615444\n",
      "3        1733.356191  19.303412   0.250145  0.567700\n",
      "4        1733.606337  19.871112   0.250143 -0.426121\n",
      "...              ...        ...        ...       ...\n",
      "3886537  1897.958046  14.752536   0.250186  0.375043\n",
      "3886538  1898.208233  15.127580   0.250159  0.200117\n",
      "3886539  1898.458392  15.327697  41.903280 -0.086895\n",
      "3886540  1940.361672  15.240801  38.479840  0.088185\n",
      "3886541  1978.841512  15.328986   0.074014 -0.219634\n",
      "\n",
      "[3886542 rows x 4 columns]\n"
     ]
    }
   ],
   "source": [
    "print(df)"
   ]
  },
  {
   "cell_type": "code",
   "execution_count": 14,
   "id": "TB7612DTP7MW",
   "metadata": {
    "colab": {
     "base_uri": "https://localhost:8080/"
    },
    "executionInfo": {
     "elapsed": 400,
     "status": "ok",
     "timestamp": 1656443912761,
     "user": {
      "displayName": "Pablo Jara",
      "userId": "18260261620479430424"
     },
     "user_tz": 240
    },
    "id": "TB7612DTP7MW",
    "outputId": "ed9e8806-34c2-455e-a876-f09f762f59fb"
   },
   "outputs": [
    {
     "name": "stdout",
     "output_type": "stream",
     "text": [
      "(3886542, 4)\n"
     ]
    }
   ],
   "source": [
    "print(df.shape)"
   ]
  },
  {
   "cell_type": "code",
   "execution_count": 15,
   "id": "6a7d33e2",
   "metadata": {
    "colab": {
     "base_uri": "https://localhost:8080/"
    },
    "executionInfo": {
     "elapsed": 2,
     "status": "ok",
     "timestamp": 1656443913580,
     "user": {
      "displayName": "Pablo Jara",
      "userId": "18260261620479430424"
     },
     "user_tz": 240
    },
    "id": "6a7d33e2",
    "outputId": "5451f711-04f9-40b2-ccac-367492a4ba02"
   },
   "outputs": [
    {
     "name": "stdout",
     "output_type": "stream",
     "text": [
      "(176661, 1)\n"
     ]
    }
   ],
   "source": [
    "print(yframes.shape)"
   ]
  },
  {
   "cell_type": "code",
   "execution_count": 16,
   "id": "f6b6232a",
   "metadata": {
    "executionInfo": {
     "elapsed": 1,
     "status": "ok",
     "timestamp": 1656443915082,
     "user": {
      "displayName": "Pablo Jara",
      "userId": "18260261620479430424"
     },
     "user_tz": 240
    },
    "id": "f6b6232a"
   },
   "outputs": [],
   "source": [
    "sample_size = 22"
   ]
  },
  {
   "cell_type": "code",
   "execution_count": 17,
   "id": "bf738f63",
   "metadata": {
    "colab": {
     "base_uri": "https://localhost:8080/",
     "height": 770
    },
    "executionInfo": {
     "elapsed": 232,
     "status": "ok",
     "timestamp": 1656443916276,
     "user": {
      "displayName": "Pablo Jara",
      "userId": "18260261620479430424"
     },
     "user_tz": 240
    },
    "id": "bf738f63",
    "outputId": "38b02a83-94a1-419c-c555-5eec23aad2e5"
   },
   "outputs": [
    {
     "data": {
      "text/html": [
       "<div>\n",
       "<style scoped>\n",
       "    .dataframe tbody tr th:only-of-type {\n",
       "        vertical-align: middle;\n",
       "    }\n",
       "\n",
       "    .dataframe tbody tr th {\n",
       "        vertical-align: top;\n",
       "    }\n",
       "\n",
       "    .dataframe thead th {\n",
       "        text-align: right;\n",
       "    }\n",
       "</style>\n",
       "<table border=\"1\" class=\"dataframe\">\n",
       "  <thead>\n",
       "    <tr style=\"text-align: right;\">\n",
       "      <th></th>\n",
       "      <th>Time</th>\n",
       "      <th>Mag</th>\n",
       "      <th>diffTime</th>\n",
       "      <th>diffMag</th>\n",
       "    </tr>\n",
       "  </thead>\n",
       "  <tbody>\n",
       "    <tr>\n",
       "      <th>0</th>\n",
       "      <td>1711.234429</td>\n",
       "      <td>19.595734</td>\n",
       "      <td>0.074000</td>\n",
       "      <td>0.160165</td>\n",
       "    </tr>\n",
       "    <tr>\n",
       "      <th>1</th>\n",
       "      <td>1711.308429</td>\n",
       "      <td>19.755899</td>\n",
       "      <td>21.871617</td>\n",
       "      <td>0.162957</td>\n",
       "    </tr>\n",
       "    <tr>\n",
       "      <th>2</th>\n",
       "      <td>1733.180046</td>\n",
       "      <td>19.918856</td>\n",
       "      <td>0.176146</td>\n",
       "      <td>-0.615444</td>\n",
       "    </tr>\n",
       "    <tr>\n",
       "      <th>3</th>\n",
       "      <td>1733.356191</td>\n",
       "      <td>19.303412</td>\n",
       "      <td>0.250145</td>\n",
       "      <td>0.567700</td>\n",
       "    </tr>\n",
       "    <tr>\n",
       "      <th>4</th>\n",
       "      <td>1733.606337</td>\n",
       "      <td>19.871112</td>\n",
       "      <td>0.250143</td>\n",
       "      <td>-0.426121</td>\n",
       "    </tr>\n",
       "    <tr>\n",
       "      <th>5</th>\n",
       "      <td>1733.856479</td>\n",
       "      <td>19.444991</td>\n",
       "      <td>5.002683</td>\n",
       "      <td>0.479983</td>\n",
       "    </tr>\n",
       "    <tr>\n",
       "      <th>6</th>\n",
       "      <td>1738.859162</td>\n",
       "      <td>19.924974</td>\n",
       "      <td>0.250144</td>\n",
       "      <td>-0.250726</td>\n",
       "    </tr>\n",
       "    <tr>\n",
       "      <th>7</th>\n",
       "      <td>1739.109307</td>\n",
       "      <td>19.674248</td>\n",
       "      <td>0.074001</td>\n",
       "      <td>0.184989</td>\n",
       "    </tr>\n",
       "    <tr>\n",
       "      <th>8</th>\n",
       "      <td>1739.183308</td>\n",
       "      <td>19.859238</td>\n",
       "      <td>0.176145</td>\n",
       "      <td>0.166251</td>\n",
       "    </tr>\n",
       "    <tr>\n",
       "      <th>9</th>\n",
       "      <td>1739.359453</td>\n",
       "      <td>20.025488</td>\n",
       "      <td>0.073974</td>\n",
       "      <td>-1.040372</td>\n",
       "    </tr>\n",
       "    <tr>\n",
       "      <th>10</th>\n",
       "      <td>1739.433428</td>\n",
       "      <td>18.985117</td>\n",
       "      <td>0.176175</td>\n",
       "      <td>0.813892</td>\n",
       "    </tr>\n",
       "    <tr>\n",
       "      <th>11</th>\n",
       "      <td>1739.609603</td>\n",
       "      <td>19.799009</td>\n",
       "      <td>87.367772</td>\n",
       "      <td>0.179823</td>\n",
       "    </tr>\n",
       "    <tr>\n",
       "      <th>12</th>\n",
       "      <td>1826.977375</td>\n",
       "      <td>19.978831</td>\n",
       "      <td>0.176171</td>\n",
       "      <td>-0.572535</td>\n",
       "    </tr>\n",
       "    <tr>\n",
       "      <th>13</th>\n",
       "      <td>1827.153546</td>\n",
       "      <td>19.406297</td>\n",
       "      <td>0.074005</td>\n",
       "      <td>0.243120</td>\n",
       "    </tr>\n",
       "    <tr>\n",
       "      <th>14</th>\n",
       "      <td>1827.227551</td>\n",
       "      <td>19.649417</td>\n",
       "      <td>0.176175</td>\n",
       "      <td>0.347751</td>\n",
       "    </tr>\n",
       "    <tr>\n",
       "      <th>15</th>\n",
       "      <td>1827.403726</td>\n",
       "      <td>19.997167</td>\n",
       "      <td>10.505863</td>\n",
       "      <td>-0.887691</td>\n",
       "    </tr>\n",
       "    <tr>\n",
       "      <th>16</th>\n",
       "      <td>1837.909589</td>\n",
       "      <td>19.109477</td>\n",
       "      <td>0.074012</td>\n",
       "      <td>0.414910</td>\n",
       "    </tr>\n",
       "    <tr>\n",
       "      <th>17</th>\n",
       "      <td>1837.983601</td>\n",
       "      <td>19.524387</td>\n",
       "      <td>0.176172</td>\n",
       "      <td>0.378822</td>\n",
       "    </tr>\n",
       "    <tr>\n",
       "      <th>18</th>\n",
       "      <td>1838.159773</td>\n",
       "      <td>19.903209</td>\n",
       "      <td>0.074014</td>\n",
       "      <td>0.033502</td>\n",
       "    </tr>\n",
       "    <tr>\n",
       "      <th>19</th>\n",
       "      <td>1838.233787</td>\n",
       "      <td>19.936711</td>\n",
       "      <td>76.129854</td>\n",
       "      <td>-0.261412</td>\n",
       "    </tr>\n",
       "    <tr>\n",
       "      <th>20</th>\n",
       "      <td>1914.363641</td>\n",
       "      <td>19.675298</td>\n",
       "      <td>0.250187</td>\n",
       "      <td>0.309713</td>\n",
       "    </tr>\n",
       "    <tr>\n",
       "      <th>21</th>\n",
       "      <td>1914.613828</td>\n",
       "      <td>19.985012</td>\n",
       "      <td>0.074013</td>\n",
       "      <td>-0.747104</td>\n",
       "    </tr>\n",
       "    <tr>\n",
       "      <th>22</th>\n",
       "      <td>1760.852059</td>\n",
       "      <td>16.864279</td>\n",
       "      <td>0.074028</td>\n",
       "      <td>0.080791</td>\n",
       "    </tr>\n",
       "  </tbody>\n",
       "</table>\n",
       "</div>"
      ],
      "text/plain": [
       "           Time        Mag   diffTime   diffMag\n",
       "0   1711.234429  19.595734   0.074000  0.160165\n",
       "1   1711.308429  19.755899  21.871617  0.162957\n",
       "2   1733.180046  19.918856   0.176146 -0.615444\n",
       "3   1733.356191  19.303412   0.250145  0.567700\n",
       "4   1733.606337  19.871112   0.250143 -0.426121\n",
       "5   1733.856479  19.444991   5.002683  0.479983\n",
       "6   1738.859162  19.924974   0.250144 -0.250726\n",
       "7   1739.109307  19.674248   0.074001  0.184989\n",
       "8   1739.183308  19.859238   0.176145  0.166251\n",
       "9   1739.359453  20.025488   0.073974 -1.040372\n",
       "10  1739.433428  18.985117   0.176175  0.813892\n",
       "11  1739.609603  19.799009  87.367772  0.179823\n",
       "12  1826.977375  19.978831   0.176171 -0.572535\n",
       "13  1827.153546  19.406297   0.074005  0.243120\n",
       "14  1827.227551  19.649417   0.176175  0.347751\n",
       "15  1827.403726  19.997167  10.505863 -0.887691\n",
       "16  1837.909589  19.109477   0.074012  0.414910\n",
       "17  1837.983601  19.524387   0.176172  0.378822\n",
       "18  1838.159773  19.903209   0.074014  0.033502\n",
       "19  1838.233787  19.936711  76.129854 -0.261412\n",
       "20  1914.363641  19.675298   0.250187  0.309713\n",
       "21  1914.613828  19.985012   0.074013 -0.747104\n",
       "22  1760.852059  16.864279   0.074028  0.080791"
      ]
     },
     "execution_count": 17,
     "metadata": {},
     "output_type": "execute_result"
    }
   ],
   "source": [
    "df.head(sample_size+1)"
   ]
  },
  {
   "cell_type": "code",
   "execution_count": 18,
   "id": "b04ca8c9",
   "metadata": {
    "executionInfo": {
     "elapsed": 212,
     "status": "ok",
     "timestamp": 1656443918253,
     "user": {
      "displayName": "Pablo Jara",
      "userId": "18260261620479430424"
     },
     "user_tz": 240
    },
    "id": "b04ca8c9"
   },
   "outputs": [],
   "source": [
    "# plt.plot(df.iloc[0:(sample_size-1), 0], df.iloc[0:(sample_size-1), 1])"
   ]
  },
  {
   "cell_type": "code",
   "execution_count": 19,
   "id": "f8d5996c",
   "metadata": {
    "colab": {
     "base_uri": "https://localhost:8080/"
    },
    "executionInfo": {
     "elapsed": 2,
     "status": "ok",
     "timestamp": 1656443919217,
     "user": {
      "displayName": "Pablo Jara",
      "userId": "18260261620479430424"
     },
     "user_tz": 240
    },
    "id": "f8d5996c",
    "outputId": "5b66caca-22e5-4e09-d20f-2b316a26cb5a"
   },
   "outputs": [
    {
     "data": {
      "text/plain": [
       "Time        1914.613828\n",
       "Mag           19.985012\n",
       "diffTime       0.074013\n",
       "diffMag       -0.747104\n",
       "Name: 21, dtype: float64"
      ]
     },
     "execution_count": 19,
     "metadata": {},
     "output_type": "execute_result"
    }
   ],
   "source": [
    "df.iloc[sample_size-1]"
   ]
  },
  {
   "cell_type": "code",
   "execution_count": 20,
   "id": "d753d2f0",
   "metadata": {
    "colab": {
     "base_uri": "https://localhost:8080/"
    },
    "executionInfo": {
     "elapsed": 821,
     "status": "ok",
     "timestamp": 1656443922046,
     "user": {
      "displayName": "Pablo Jara",
      "userId": "18260261620479430424"
     },
     "user_tz": 240
    },
    "id": "d753d2f0",
    "outputId": "8e322dc1-a97e-4b8e-d480-94c2d0e95e79"
   },
   "outputs": [
    {
     "name": "stdout",
     "output_type": "stream",
     "text": [
      "train_df:  (141489, 22, 4)\n",
      "y_train_df:  (141489, 1)\n",
      "val_df:  (17490, 22, 4)\n",
      "test_df:  (17667, 22, 4)\n",
      "trash_x (15, 22, 4)\n"
     ]
    }
   ],
   "source": [
    "#yframes lista de clase de salida\n",
    "df_array = df.to_numpy()\n",
    "array_flat = np.reshape(df_array,((int(len(df)/sample_size), sample_size, 4)))\n",
    "#df_array.shape\n",
    "\n",
    "column_indices = {name: i for i, name in enumerate(df.columns)}\n",
    "\n",
    "#Tomamos el 10% de la data para test (0.1)\n",
    "X_train_val, test_df, y_train_val, y_test_df = train_test_split(array_flat, yframes, test_size=0.1, random_state=42)\n",
    "#Tomamos el 10% de la data para validación (0.11)\n",
    "X_trainp, val_df, y_trainp, y_val_df = train_test_split(X_train_val, y_train_val, test_size=0.11, random_state=42)\n",
    "\n",
    "#Generar training, 1-test_size = porcentaje\n",
    "train_df, trash_x, y_train_df, trash_y = train_test_split(X_trainp, y_trainp, test_size=0.0001, random_state=42)\n",
    "\n",
    "# X_train_val, test_df = train_test_split(array_flat, test_size=0.1, random_state=42)\n",
    "# train_df, val_df = train_test_split(X_train_val, test_size=0.384, random_state=42)\n",
    "\n",
    "print('train_df: ',train_df.shape)\n",
    "print('y_train_df: ',y_train_df.shape)\n",
    "print('val_df: ',val_df.shape)\n",
    "print('test_df: ',test_df.shape)\n",
    "print('trash_x',trash_x.shape)"
   ]
  },
  {
   "cell_type": "code",
   "execution_count": 21,
   "id": "80407c4d",
   "metadata": {
    "executionInfo": {
     "elapsed": 215,
     "status": "ok",
     "timestamp": 1656443924830,
     "user": {
      "displayName": "Pablo Jara",
      "userId": "18260261620479430424"
     },
     "user_tz": 240
    },
    "id": "80407c4d"
   },
   "outputs": [],
   "source": [
    "# y_train_df.head(50)"
   ]
  },
  {
   "cell_type": "code",
   "execution_count": 22,
   "id": "f63fd970",
   "metadata": {
    "executionInfo": {
     "elapsed": 1,
     "status": "ok",
     "timestamp": 1656443925815,
     "user": {
      "displayName": "Pablo Jara",
      "userId": "18260261620479430424"
     },
     "user_tz": 240
    },
    "id": "f63fd970"
   },
   "outputs": [],
   "source": [
    "train_df = train_df.reshape(141489*22 , 4)"
   ]
  },
  {
   "cell_type": "code",
   "execution_count": 23,
   "id": "671566b6",
   "metadata": {
    "colab": {
     "base_uri": "https://localhost:8080/"
    },
    "executionInfo": {
     "elapsed": 2,
     "status": "ok",
     "timestamp": 1656443926676,
     "user": {
      "displayName": "Pablo Jara",
      "userId": "18260261620479430424"
     },
     "user_tz": 240
    },
    "id": "671566b6",
    "outputId": "ac5731ee-05f3-4d73-b3be-272e9dc9ecaf"
   },
   "outputs": [
    {
     "data": {
      "text/plain": [
       "(3112758, 4)"
      ]
     },
     "execution_count": 23,
     "metadata": {},
     "output_type": "execute_result"
    }
   ],
   "source": [
    "train_df.shape"
   ]
  },
  {
   "cell_type": "code",
   "execution_count": 24,
   "id": "74052e2e",
   "metadata": {
    "colab": {
     "base_uri": "https://localhost:8080/"
    },
    "executionInfo": {
     "elapsed": 2,
     "status": "ok",
     "timestamp": 1656443927924,
     "user": {
      "displayName": "Pablo Jara",
      "userId": "18260261620479430424"
     },
     "user_tz": 240
    },
    "id": "74052e2e",
    "outputId": "2110cb26-7939-4d35-a172-73be02bc3807"
   },
   "outputs": [
    {
     "name": "stdout",
     "output_type": "stream",
     "text": [
      "        class\n",
      "114208      2\n",
      "47587       6\n",
      "79697       2\n",
      "23450       2\n",
      "139558      2\n",
      "...       ...\n",
      "64021       0\n",
      "36177       2\n",
      "83246       2\n",
      "31266       5\n",
      "142285      3\n",
      "\n",
      "[141489 rows x 1 columns]\n"
     ]
    }
   ],
   "source": [
    "print(y_train_df)"
   ]
  },
  {
   "cell_type": "code",
   "execution_count": 25,
   "id": "f6cc51a0",
   "metadata": {
    "executionInfo": {
     "elapsed": 231,
     "status": "ok",
     "timestamp": 1656443929200,
     "user": {
      "displayName": "Pablo Jara",
      "userId": "18260261620479430424"
     },
     "user_tz": 240
    },
    "id": "f6cc51a0"
   },
   "outputs": [],
   "source": [
    "y_train_df = y_train_df.to_numpy()"
   ]
  },
  {
   "cell_type": "code",
   "execution_count": 26,
   "id": "ae6ab24f",
   "metadata": {
    "executionInfo": {
     "elapsed": 1,
     "status": "ok",
     "timestamp": 1656443930124,
     "user": {
      "displayName": "Pablo Jara",
      "userId": "18260261620479430424"
     },
     "user_tz": 240
    },
    "id": "ae6ab24f"
   },
   "outputs": [],
   "source": [
    "repetitions = 22\n",
    "y_train_df = geek.repeat(y_train_df, repetitions) "
   ]
  },
  {
   "cell_type": "code",
   "execution_count": 27,
   "id": "edeba0e1",
   "metadata": {
    "colab": {
     "base_uri": "https://localhost:8080/"
    },
    "executionInfo": {
     "elapsed": 2,
     "status": "ok",
     "timestamp": 1656443931253,
     "user": {
      "displayName": "Pablo Jara",
      "userId": "18260261620479430424"
     },
     "user_tz": 240
    },
    "id": "edeba0e1",
    "outputId": "3783d00a-0e1e-4cfc-d252-2b1389e5ee71"
   },
   "outputs": [
    {
     "data": {
      "text/plain": [
       "3112758"
      ]
     },
     "execution_count": 27,
     "metadata": {},
     "output_type": "execute_result"
    }
   ],
   "source": [
    "len(y_train_df)"
   ]
  },
  {
   "cell_type": "code",
   "execution_count": 28,
   "id": "9b0b167a",
   "metadata": {
    "executionInfo": {
     "elapsed": 1,
     "status": "ok",
     "timestamp": 1656443932354,
     "user": {
      "displayName": "Pablo Jara",
      "userId": "18260261620479430424"
     },
     "user_tz": 240
    },
    "id": "9b0b167a"
   },
   "outputs": [],
   "source": [
    "train_df = pd.DataFrame(train_df)\n",
    "y_train_df = pd.DataFrame(y_train_df)"
   ]
  },
  {
   "cell_type": "code",
   "execution_count": 29,
   "id": "dfadead0",
   "metadata": {
    "executionInfo": {
     "elapsed": 1,
     "status": "ok",
     "timestamp": 1656443933511,
     "user": {
      "displayName": "Pablo Jara",
      "userId": "18260261620479430424"
     },
     "user_tz": 240
    },
    "id": "dfadead0"
   },
   "outputs": [],
   "source": [
    "train_df.columns = ['Time','Mag','diffTime','diffMag']\n",
    "y_train_df.columns = ['Class']"
   ]
  },
  {
   "cell_type": "code",
   "execution_count": 30,
   "id": "2b8ce426",
   "metadata": {
    "colab": {
     "base_uri": "https://localhost:8080/"
    },
    "executionInfo": {
     "elapsed": 222,
     "status": "ok",
     "timestamp": 1656443934703,
     "user": {
      "displayName": "Pablo Jara",
      "userId": "18260261620479430424"
     },
     "user_tz": 240
    },
    "id": "2b8ce426",
    "outputId": "4734acc9-fe34-4aee-d851-ec477f7d19f4"
   },
   "outputs": [
    {
     "name": "stdout",
     "output_type": "stream",
     "text": [
      "         Class\n",
      "0            2\n",
      "1            2\n",
      "2            2\n",
      "3            2\n",
      "4            2\n",
      "...        ...\n",
      "3112753      3\n",
      "3112754      3\n",
      "3112755      3\n",
      "3112756      3\n",
      "3112757      3\n",
      "\n",
      "[3112758 rows x 1 columns]\n"
     ]
    }
   ],
   "source": [
    "print(y_train_df)"
   ]
  },
  {
   "cell_type": "code",
   "execution_count": 31,
   "id": "fdee43df",
   "metadata": {
    "colab": {
     "base_uri": "https://localhost:8080/"
    },
    "executionInfo": {
     "elapsed": 392,
     "status": "ok",
     "timestamp": 1656443935985,
     "user": {
      "displayName": "Pablo Jara",
      "userId": "18260261620479430424"
     },
     "user_tz": 240
    },
    "id": "fdee43df",
    "outputId": "fda81abe-0d8c-4301-c040-ee4866d4455e"
   },
   "outputs": [
    {
     "name": "stdout",
     "output_type": "stream",
     "text": [
      "                Time        Mag   diffTime   diffMag\n",
      "0        1706.454215  13.316761   0.074029  0.005147\n",
      "1        1706.528244  13.321909  34.301776 -0.162099\n",
      "2        1740.830020  13.159809   0.074001 -0.006424\n",
      "3        1740.904021  13.153386  94.859545  0.144594\n",
      "4        1835.763566  13.297980   0.176166 -0.023104\n",
      "...              ...        ...        ...       ...\n",
      "3112753  2128.105280  17.604920   0.074001 -0.241334\n",
      "3112754  2128.179281  17.363586  28.913071 -0.130828\n",
      "3112755  2157.092352  17.232758  24.065341  0.216394\n",
      "3112756  2181.157693  17.449152  95.371862  0.025411\n",
      "3112757  2276.529556  17.474564   0.176138 -0.120981\n",
      "\n",
      "[3112758 rows x 4 columns]\n"
     ]
    }
   ],
   "source": [
    "print(train_df)"
   ]
  },
  {
   "cell_type": "code",
   "execution_count": 32,
   "id": "9ca978fa",
   "metadata": {
    "executionInfo": {
     "elapsed": 223,
     "status": "ok",
     "timestamp": 1656443937231,
     "user": {
      "displayName": "Pablo Jara",
      "userId": "18260261620479430424"
     },
     "user_tz": 240
    },
    "id": "9ca978fa"
   },
   "outputs": [],
   "source": [
    "labels_gaia_train = pd.concat([train_df, y_train_df], axis=1)"
   ]
  },
  {
   "cell_type": "code",
   "execution_count": 33,
   "id": "7d1742e2",
   "metadata": {
    "colab": {
     "base_uri": "https://localhost:8080/"
    },
    "executionInfo": {
     "elapsed": 2,
     "status": "ok",
     "timestamp": 1656443938027,
     "user": {
      "displayName": "Pablo Jara",
      "userId": "18260261620479430424"
     },
     "user_tz": 240
    },
    "id": "7d1742e2",
    "outputId": "710f7408-6cc3-42c2-be37-4357458828de"
   },
   "outputs": [
    {
     "name": "stdout",
     "output_type": "stream",
     "text": [
      "                Time        Mag   diffTime   diffMag  Class\n",
      "0        1706.454215  13.316761   0.074029  0.005147      2\n",
      "1        1706.528244  13.321909  34.301776 -0.162099      2\n",
      "2        1740.830020  13.159809   0.074001 -0.006424      2\n",
      "3        1740.904021  13.153386  94.859545  0.144594      2\n",
      "4        1835.763566  13.297980   0.176166 -0.023104      2\n",
      "...              ...        ...        ...       ...    ...\n",
      "3112753  2128.105280  17.604920   0.074001 -0.241334      3\n",
      "3112754  2128.179281  17.363586  28.913071 -0.130828      3\n",
      "3112755  2157.092352  17.232758  24.065341  0.216394      3\n",
      "3112756  2181.157693  17.449152  95.371862  0.025411      3\n",
      "3112757  2276.529556  17.474564   0.176138 -0.120981      3\n",
      "\n",
      "[3112758 rows x 5 columns]\n"
     ]
    }
   ],
   "source": [
    "print(labels_gaia_train)"
   ]
  },
  {
   "cell_type": "code",
   "execution_count": 34,
   "id": "9d74ef65",
   "metadata": {
    "colab": {
     "base_uri": "https://localhost:8080/",
     "height": 397
    },
    "executionInfo": {
     "elapsed": 1034,
     "status": "ok",
     "timestamp": 1656443940432,
     "user": {
      "displayName": "Pablo Jara",
      "userId": "18260261620479430424"
     },
     "user_tz": 240
    },
    "id": "9d74ef65",
    "outputId": "d9e7c163-10f5-48f0-b37e-450a12a65743"
   },
   "outputs": [
    {
     "name": "stdout",
     "output_type": "stream",
     "text": [
      "Class=2, n=1409540 (45.283%)\n",
      "Class=6, n=20614 (0.662%)\n",
      "Class=0, n=1176186 (37.786%)\n",
      "Class=4, n=102784 (3.302%)\n",
      "Class=1, n=323466 (10.392%)\n",
      "Class=5, n=71302 (2.291%)\n",
      "Class=3, n=8866 (0.285%)\n"
     ]
    },
    {
     "data": {
      "image/png": "[encoded data removed]",
      "text/plain": [
       "<Figure size 432x288 with 1 Axes>"
      ]
     },
     "metadata": {
      "needs_background": "light"
     },
     "output_type": "display_data"
    }
   ],
   "source": [
    "data = labels_gaia_train.values\n",
    "# split into input and output elements\n",
    "X, y = data[:, :-1], data[:, -1]\n",
    "# label encode the target variable\n",
    "y = LabelEncoder().fit_transform(y)\n",
    "# summarize distribution\n",
    "counter = Counter(y)\n",
    "for k,v in counter.items():\n",
    "    per = v / len(y) * 100\n",
    "    print('Class=%d, n=%d (%.3f%%)' % (k, v, per))\n",
    "# plot the distribution\n",
    "plt.bar(counter.keys(), counter.values())\n",
    "plt.show()"
   ]
  },
  {
   "cell_type": "code",
   "execution_count": 35,
   "id": "12a138c6",
   "metadata": {
    "colab": {
     "base_uri": "https://localhost:8080/",
     "height": 397
    },
    "executionInfo": {
     "elapsed": 21807,
     "status": "ok",
     "timestamp": 1656443963890,
     "user": {
      "displayName": "Pablo Jara",
      "userId": "18260261620479430424"
     },
     "user_tz": 240
    },
    "id": "12a138c6",
    "outputId": "ce85f4ed-a1b5-4b20-be12-0944918e0491"
   },
   "outputs": [
    {
     "name": "stdout",
     "output_type": "stream",
     "text": [
      "Class=2, n=1409540 (14.286%)\n",
      "Class=6, n=1409540 (14.286%)\n",
      "Class=0, n=1409540 (14.286%)\n",
      "Class=4, n=1409540 (14.286%)\n",
      "Class=1, n=1409540 (14.286%)\n",
      "Class=5, n=1409540 (14.286%)\n",
      "Class=3, n=1409540 (14.286%)\n"
     ]
    },
    {
     "data": {
      "image/png": "[encoded data removed]",
      "text/plain": [
       "<Figure size 432x288 with 1 Axes>"
      ]
     },
     "metadata": {
      "needs_background": "light"
     },
     "output_type": "display_data"
    }
   ],
   "source": [
    "data = labels_gaia_train.values\n",
    "# split into input and output elements\n",
    "X, y = data[:, :-1], data[:, -1]\n",
    "# label encode the target variable\n",
    "y = LabelEncoder().fit_transform(y)\n",
    "# transform the dataset\n",
    "oversample = SMOTE()\n",
    "X, y = oversample.fit_resample(X, y)\n",
    "# summarize distribution\n",
    "counter = Counter(y)\n",
    "for k,v in counter.items():\n",
    "    per = v / len(y) * 100\n",
    "    print('Class=%d, n=%d (%.3f%%)' % (k, v, per))\n",
    "# plot the distribution\n",
    "plt.bar(counter.keys(), counter.values())\n",
    "plt.show()"
   ]
  },
  {
   "cell_type": "code",
   "execution_count": 36,
   "id": "b5cb3314",
   "metadata": {
    "colab": {
     "base_uri": "https://localhost:8080/"
    },
    "executionInfo": {
     "elapsed": 236,
     "status": "ok",
     "timestamp": 1656443966500,
     "user": {
      "displayName": "Pablo Jara",
      "userId": "18260261620479430424"
     },
     "user_tz": 240
    },
    "id": "b5cb3314",
    "outputId": "5a02dc71-ec43-439b-ec36-1b8199d26662"
   },
   "outputs": [
    {
     "name": "stdout",
     "output_type": "stream",
     "text": [
      "[[ 1.70645422e+03  1.33167615e+01  7.40289600e-02  5.14727000e-03\n",
      "   2.00000000e+00]\n",
      " [ 1.70652824e+03  1.33219088e+01  3.43017757e+01 -1.62099280e-01\n",
      "   2.00000000e+00]\n",
      " [ 1.74083002e+03  1.31598095e+01  7.40013800e-02 -6.42393000e-03\n",
      "   2.00000000e+00]\n",
      " ...\n",
      " [ 2.15709235e+03  1.72327584e+01  2.40653413e+01  2.16393860e-01\n",
      "   3.00000000e+00]\n",
      " [ 2.18115769e+03  1.74491523e+01  9.53718622e+01  2.54114800e-02\n",
      "   3.00000000e+00]\n",
      " [ 2.27652956e+03  1.74745638e+01  1.76137810e-01 -1.20980770e-01\n",
      "   3.00000000e+00]]\n"
     ]
    }
   ],
   "source": [
    "print(data)"
   ]
  },
  {
   "cell_type": "code",
   "execution_count": 37,
   "id": "fc5dd3a2",
   "metadata": {
    "colab": {
     "base_uri": "https://localhost:8080/"
    },
    "executionInfo": {
     "elapsed": 395,
     "status": "ok",
     "timestamp": 1656443968428,
     "user": {
      "displayName": "Pablo Jara",
      "userId": "18260261620479430424"
     },
     "user_tz": 240
    },
    "id": "fc5dd3a2",
    "outputId": "c0212426-2e6e-46f1-f227-0dc308fb402a"
   },
   "outputs": [
    {
     "name": "stdout",
     "output_type": "stream",
     "text": [
      "[[ 1.70645422e+03  1.33167615e+01  7.40289600e-02  5.14727000e-03]\n",
      " [ 1.70652824e+03  1.33219088e+01  3.43017757e+01 -1.62099280e-01]\n",
      " [ 1.74083002e+03  1.31598095e+01  7.40013800e-02 -6.42393000e-03]\n",
      " ...\n",
      " [ 1.89762337e+03  1.23230362e+01  2.94153272e+01  2.18421684e-01]\n",
      " [ 2.17649951e+03  1.44022310e+01  3.85489359e+01  3.20866236e-01]\n",
      " [ 1.97845763e+03  1.13677356e+01  1.76165248e-01 -4.71421664e-02]] [2 2 2 ... 6 6 6]\n"
     ]
    }
   ],
   "source": [
    "print(X, y)"
   ]
  },
  {
   "cell_type": "code",
   "execution_count": 38,
   "id": "1ed05812",
   "metadata": {
    "colab": {
     "base_uri": "https://localhost:8080/"
    },
    "executionInfo": {
     "elapsed": 2,
     "status": "ok",
     "timestamp": 1656443969589,
     "user": {
      "displayName": "Pablo Jara",
      "userId": "18260261620479430424"
     },
     "user_tz": 240
    },
    "id": "1ed05812",
    "outputId": "0afda1b6-43e7-4faa-cd43-e679041d213e"
   },
   "outputs": [
    {
     "name": "stdout",
     "output_type": "stream",
     "text": [
      "[2 2 2 ... 6 6 6]\n"
     ]
    }
   ],
   "source": [
    "print(y)"
   ]
  },
  {
   "cell_type": "code",
   "execution_count": 39,
   "id": "30143f35",
   "metadata": {
    "executionInfo": {
     "elapsed": 1,
     "status": "ok",
     "timestamp": 1656443970846,
     "user": {
      "displayName": "Pablo Jara",
      "userId": "18260261620479430424"
     },
     "user_tz": 240
    },
    "id": "30143f35"
   },
   "outputs": [],
   "source": [
    "train_df = X\n",
    "y_train_df = y"
   ]
  },
  {
   "cell_type": "code",
   "execution_count": 40,
   "id": "99d11fbf",
   "metadata": {
    "colab": {
     "base_uri": "https://localhost:8080/"
    },
    "executionInfo": {
     "elapsed": 1,
     "status": "ok",
     "timestamp": 1656443971823,
     "user": {
      "displayName": "Pablo Jara",
      "userId": "18260261620479430424"
     },
     "user_tz": 240
    },
    "id": "99d11fbf",
    "outputId": "c58d4bb4-c393-4fd3-f0b4-9a18238be527"
   },
   "outputs": [
    {
     "name": "stdout",
     "output_type": "stream",
     "text": [
      "(9866780, 4)\n",
      "(9866780,)\n",
      "(17490, 22, 4)\n",
      "(17667, 22, 4)\n"
     ]
    }
   ],
   "source": [
    "print(train_df.shape)\n",
    "print(y_train_df.shape)\n",
    "print(val_df.shape)\n",
    "print(test_df.shape)"
   ]
  },
  {
   "cell_type": "code",
   "execution_count": 41,
   "id": "9f66147b",
   "metadata": {
    "executionInfo": {
     "elapsed": 243,
     "status": "ok",
     "timestamp": 1656443973462,
     "user": {
      "displayName": "Pablo Jara",
      "userId": "18260261620479430424"
     },
     "user_tz": 240
    },
    "id": "9f66147b"
   },
   "outputs": [],
   "source": [
    "#448490 = 9866780/22\n",
    "train_df = np.asarray(train_df).reshape(448490,22,4)"
   ]
  },
  {
   "cell_type": "code",
   "execution_count": 42,
   "id": "c07d14f2",
   "metadata": {
    "executionInfo": {
     "elapsed": 1,
     "status": "ok",
     "timestamp": 1656443974633,
     "user": {
      "displayName": "Pablo Jara",
      "userId": "18260261620479430424"
     },
     "user_tz": 240
    },
    "id": "c07d14f2"
   },
   "outputs": [],
   "source": [
    "y_train_df = pd.DataFrame(y_train_df)\n",
    "y_val_df = pd.DataFrame(y_val_df)\n",
    "y_test_df = pd.DataFrame(y_test_df)"
   ]
  },
  {
   "cell_type": "code",
   "execution_count": 43,
   "id": "9d507d10",
   "metadata": {
    "colab": {
     "base_uri": "https://localhost:8080/"
    },
    "executionInfo": {
     "elapsed": 230,
     "status": "ok",
     "timestamp": 1656443975821,
     "user": {
      "displayName": "Pablo Jara",
      "userId": "18260261620479430424"
     },
     "user_tz": 240
    },
    "id": "9d507d10",
    "outputId": "4e768285-d785-439b-b28d-14f891ebfe14"
   },
   "outputs": [
    {
     "data": {
      "text/plain": [
       "(448490, 22, 4)"
      ]
     },
     "execution_count": 43,
     "metadata": {},
     "output_type": "execute_result"
    }
   ],
   "source": [
    "train_df.shape"
   ]
  },
  {
   "cell_type": "code",
   "execution_count": 44,
   "id": "8459edb6",
   "metadata": {
    "colab": {
     "base_uri": "https://localhost:8080/"
    },
    "executionInfo": {
     "elapsed": 2,
     "status": "ok",
     "timestamp": 1656443977049,
     "user": {
      "displayName": "Pablo Jara",
      "userId": "18260261620479430424"
     },
     "user_tz": 240
    },
    "id": "8459edb6",
    "outputId": "09eb5605-f497-45c3-ed48-0d11008e02b1"
   },
   "outputs": [
    {
     "data": {
      "text/plain": [
       "(9866780, 1)"
      ]
     },
     "execution_count": 44,
     "metadata": {},
     "output_type": "execute_result"
    }
   ],
   "source": [
    "y_train_df.shape"
   ]
  },
  {
   "cell_type": "code",
   "execution_count": 45,
   "id": "c968a9bd",
   "metadata": {
    "colab": {
     "base_uri": "https://localhost:8080/"
    },
    "executionInfo": {
     "elapsed": 223,
     "status": "ok",
     "timestamp": 1656443978014,
     "user": {
      "displayName": "Pablo Jara",
      "userId": "18260261620479430424"
     },
     "user_tz": 240
    },
    "id": "c968a9bd",
    "outputId": "8a62f0d8-6ef6-46bb-82ce-cb4e306c2d06"
   },
   "outputs": [
    {
     "name": "stdout",
     "output_type": "stream",
     "text": [
      "train_df:  (448490, 22, 4)\n",
      "y_train_df:  (9866780, 1)\n",
      "val_df:  (17490, 22, 4)\n",
      "y_val_df:  (17490, 1)\n"
     ]
    }
   ],
   "source": [
    "print('train_df: ',train_df.shape)\n",
    "print('y_train_df: ',y_train_df.shape)\n",
    "print('val_df: ',val_df.shape)\n",
    "print('y_val_df: ',y_val_df.shape)"
   ]
  },
  {
   "cell_type": "code",
   "execution_count": 46,
   "id": "0a0643ee",
   "metadata": {
    "executionInfo": {
     "elapsed": 219,
     "status": "ok",
     "timestamp": 1656443979316,
     "user": {
      "displayName": "Pablo Jara",
      "userId": "18260261620479430424"
     },
     "user_tz": 240
    },
    "id": "0a0643ee"
   },
   "outputs": [],
   "source": [
    "y_train_df= y_train_df[y_train_df.index % 22 == 0]"
   ]
  },
  {
   "cell_type": "code",
   "execution_count": 47,
   "id": "f14793b0",
   "metadata": {
    "colab": {
     "base_uri": "https://localhost:8080/"
    },
    "executionInfo": {
     "elapsed": 2,
     "status": "ok",
     "timestamp": 1656443980279,
     "user": {
      "displayName": "Pablo Jara",
      "userId": "18260261620479430424"
     },
     "user_tz": 240
    },
    "id": "f14793b0",
    "outputId": "8d1a37d7-1e96-4f7b-ba30-c0a309319911"
   },
   "outputs": [
    {
     "name": "stdout",
     "output_type": "stream",
     "text": [
      "train_df:  (448490, 22, 4)\n",
      "y_train_df:  (448490, 1)\n",
      "val_df:  (17490, 22, 4)\n",
      "y_val_df:  (17490, 1)\n"
     ]
    }
   ],
   "source": [
    "print('train_df: ',train_df.shape)\n",
    "print('y_train_df: ',y_train_df.shape)\n",
    "print('val_df: ',val_df.shape)\n",
    "print('y_val_df: ',y_val_df.shape)"
   ]
  },
  {
   "cell_type": "code",
   "execution_count": 48,
   "id": "4ef283f5",
   "metadata": {
    "executionInfo": {
     "elapsed": 228,
     "status": "ok",
     "timestamp": 1656443981936,
     "user": {
      "displayName": "Pablo Jara",
      "userId": "18260261620479430424"
     },
     "user_tz": 240
    },
    "id": "4ef283f5"
   },
   "outputs": [],
   "source": [
    "#Normalización de siempre\n",
    "train_mean = train_df.mean()\n",
    "train_std = train_df.std()\n",
    "train_df = (train_df - train_mean) / train_std\n",
    "val_df = (val_df - train_mean) / train_std\n",
    "test_df = (test_df - train_mean) / train_std"
   ]
  },
  {
   "cell_type": "code",
   "execution_count": 49,
   "id": "6fb94b91",
   "metadata": {
    "executionInfo": {
     "elapsed": 215,
     "status": "ok",
     "timestamp": 1656443983786,
     "user": {
      "displayName": "Pablo Jara",
      "userId": "18260261620479430424"
     },
     "user_tz": 240
    },
    "id": "6fb94b91"
   },
   "outputs": [],
   "source": [
    "MAX_EPOCHS = 500\n",
    "checkpoint_filepath = \"D:\\Tesis\\LSTMGRUSMOTE\\GaiaLSTMGRU(n,4)Train100\\GaiaGruDIFFn4\"\n",
    "\n",
    "sgd = tf.keras.optimizers.SGD(learning_rate = 0.01)\n",
    "\n",
    "def compile_and_fit(model, x, y, x_val,y_val, patience=50):\n",
    "  early_stopping = tf.keras.callbacks.EarlyStopping(monitor='val_loss',\n",
    "                                                    patience=patience,\n",
    "                                                    mode='min')\n",
    "#   print(x.shape)\n",
    "#   print(y.shape)\n",
    "\n",
    "  # early_stopping = tf.keras.callbacks.EarlyStopping(monitor='val_mean_absolute_error',\n",
    "  #                                                   patience=patience,\n",
    "  #                                                   mode='min')\n",
    "  \n",
    "  model_checkpoint_callback = tf.keras.callbacks.ModelCheckpoint(\n",
    "    filepath=checkpoint_filepath,\n",
    "    save_weights_only=True,\n",
    "    monitor='val_accuracy',\n",
    "    mode='max',\n",
    "    save_best_only=True)\n",
    "\n",
    "  model.compile(loss=tf.losses.SparseCategoricalCrossentropy(),\n",
    "                optimizer=sgd,\n",
    "                metrics=['accuracy'])\n",
    "  #print(model.summary())\n",
    "  history = model.fit(x, y, epochs=MAX_EPOCHS,\n",
    "                      validation_data=(x_val, y_val),\n",
    "                      callbacks=[early_stopping, model_checkpoint_callback])\n",
    "  return history"
   ]
  },
  {
   "cell_type": "markdown",
   "id": "YfGidbg57Hfb",
   "metadata": {
    "id": "YfGidbg57Hfb"
   },
   "source": [
    "# LSTM"
   ]
  },
  {
   "cell_type": "code",
   "execution_count": 50,
   "id": "00a0df12",
   "metadata": {
    "id": "00a0df12"
   },
   "outputs": [],
   "source": [
    "# lstm_model = tf.keras.models.Sequential([\n",
    "\n",
    "#     # Shape [batch, time, features] => [batch, time, lstm_units]\n",
    "#     tf.keras.layers.LSTM(128, return_sequences=True),\n",
    "#     #tf.keras.layers.Dropout(0.1),\n",
    "#     tf.keras.layers.LSTM(64, return_sequences=True),\n",
    "#     #tf.keras.layers.Dropout(0.1),\n",
    "#     tf.keras.layers.LSTM(16, return_sequences=False),\n",
    "#     tf.keras.layers.Dense(units=7 , activation = 'softmax')\n",
    "# ])"
   ]
  },
  {
   "cell_type": "code",
   "execution_count": 51,
   "id": "869d02f2",
   "metadata": {
    "id": "869d02f2"
   },
   "outputs": [],
   "source": [
    "# loaded_model = load_model(\"D:\\Tesis\\GaiaLSTM(N,3)\\lstm_model_diff_gaia_N3.h5\") \n",
    "# loss, accuracy = loaded_model.evaluate(test_df, y_test_df)"
   ]
  },
  {
   "cell_type": "code",
   "execution_count": 52,
   "id": "1c8452ec",
   "metadata": {
    "id": "1c8452ec"
   },
   "outputs": [],
   "source": [
    "# history = compile_and_fit(lstm_model, train_df, y_train_df, val_df, y_val_df)\n",
    "# val_performance = {}\n",
    "# performance = {}\n",
    "# val_performance['LSTM'] = lstm_model.evaluate(val_df, y_val_df)\n",
    "# performance['LSTM'] = lstm_model.evaluate(test_df, y_test_df, verbose=1)"
   ]
  },
  {
   "cell_type": "code",
   "execution_count": 53,
   "id": "46e54ffd",
   "metadata": {
    "id": "46e54ffd"
   },
   "outputs": [],
   "source": [
    "# lstm_model.save(\"lstm_model_diff_gaia_N4.h5\") "
   ]
  },
  {
   "cell_type": "code",
   "execution_count": 54,
   "id": "d4253ef2",
   "metadata": {
    "id": "d4253ef2"
   },
   "outputs": [],
   "source": [
    "# # history = model.fit(X_train, Y_train, validation_data=(X_test, Y_test), batch_size=32, epochs=10, verbose=1)\n",
    "\n",
    "# # Get training and test loss histories\n",
    "# training_loss = history.history['accuracy']\n",
    "# test_loss = history.history['val_accuracy']\n",
    "\n",
    "# # Create count of the number of epochs\n",
    "# epoch_count = range(1, len(training_loss) + 1)\n",
    "\n",
    "# # Visualize loss history\n",
    "# plt.plot(epoch_count, training_loss, 'r--')\n",
    "# plt.plot(epoch_count, test_loss, 'b-')\n",
    "# plt.legend(['Training accuracy', 'Test accuracy'])\n",
    "# plt.xlabel('Epoch')\n",
    "# plt.ylabel('accuracy')\n",
    "# plt.show()"
   ]
  },
  {
   "cell_type": "code",
   "execution_count": 55,
   "id": "a2ece9c4",
   "metadata": {
    "id": "a2ece9c4"
   },
   "outputs": [],
   "source": [
    "# MAX_EPOCHS = 500\n",
    "# checkpoint_filepath = \"D:\\Tesis\\grulstm\\GaiagruDIFFn4\"\n",
    "\n",
    "# def compile_and_fit(model, x, y, x_val,y_val, patience=50):\n",
    "#   early_stopping = tf.keras.callbacks.EarlyStopping(monitor='val_loss',\n",
    "#                                                     patience=patience,\n",
    "#                                                     mode='min')\n",
    "# #   print(x.shape)\n",
    "# #   print(y.shape)\n",
    "\n",
    "#   # early_stopping = tf.keras.callbacks.EarlyStopping(monitor='val_mean_absolute_error',\n",
    "#   #                                                   patience=patience,\n",
    "#   #                                                   mode='min')\n",
    "  \n",
    "#   model_checkpoint_callback = tf.keras.callbacks.ModelCheckpoint(\n",
    "#     filepath=checkpoint_filepath,\n",
    "#     save_weights_only=True,\n",
    "#     monitor='val_accuracy',\n",
    "#     mode='max',\n",
    "#     save_best_only=True)\n",
    "\n",
    "#   model.compile(loss=tf.losses.SparseCategoricalCrossentropy(),\n",
    "#                 optimizer=tf.optimizers.Adam(),\n",
    "#                 metrics=['accuracy'])\n",
    "#   #print(model.summary())\n",
    "#   history = model.fit(x, y, epochs=MAX_EPOCHS,\n",
    "#                       validation_data=(x_val, y_val),\n",
    "#                       callbacks=[early_stopping, model_checkpoint_callback])\n",
    "#   return history"
   ]
  },
  {
   "cell_type": "markdown",
   "id": "bb24aefe",
   "metadata": {
    "id": "bb24aefe"
   },
   "source": [
    "# GRU"
   ]
  },
  {
   "cell_type": "code",
   "execution_count": 56,
   "id": "18c66862",
   "metadata": {
    "executionInfo": {
     "elapsed": 5119,
     "status": "ok",
     "timestamp": 1656443993112,
     "user": {
      "displayName": "Pablo Jara",
      "userId": "18260261620479430424"
     },
     "user_tz": 240
    },
    "id": "18c66862"
   },
   "outputs": [],
   "source": [
    "gru_model = tf.keras.models.Sequential([\n",
    "\n",
    "    # Shape [batch, time, features] => [batch, time, lstm_units]\n",
    "    tf.keras.layers.GRU(128, return_sequences=True),\n",
    "    tf.keras.layers.Dropout(0.1),\n",
    "    tf.keras.layers.GRU(64, return_sequences=True),\n",
    "    tf.keras.layers.Dropout(0.1),\n",
    "    tf.keras.layers.GRU(16, return_sequences=False),\n",
    "    tf.keras.layers.Dense(units=7 , activation = 'softmax')\n",
    "])"
   ]
  },
  {
   "cell_type": "code",
   "execution_count": 57,
   "id": "d2969a98",
   "metadata": {
    "colab": {
     "base_uri": "https://localhost:8080/"
    },
    "id": "d2969a98",
    "outputId": "790573cf-fc78-473b-b4cf-83dca0d9a2af"
   },
   "outputs": [
    {
     "name": "stdout",
     "output_type": "stream",
     "text": [
      "Epoch 1/500\n",
      "14016/14016 [==============================] - 81s 6ms/step - loss: 1.7846 - accuracy: 0.2372 - val_loss: 1.3565 - val_accuracy: 0.4454\n",
      "Epoch 2/500\n",
      "14016/14016 [==============================] - 78s 6ms/step - loss: 1.5807 - accuracy: 0.3101 - val_loss: 1.2204 - val_accuracy: 0.4994\n",
      "Epoch 3/500\n",
      "14016/14016 [==============================] - 78s 6ms/step - loss: 1.5533 - accuracy: 0.3225 - val_loss: 1.2193 - val_accuracy: 0.4818\n",
      "Epoch 4/500\n",
      "14016/14016 [==============================] - 79s 6ms/step - loss: 1.5276 - accuracy: 0.3282 - val_loss: 1.1611 - val_accuracy: 0.4970\n",
      "Epoch 5/500\n",
      "14016/14016 [==============================] - 78s 6ms/step - loss: 1.5111 - accuracy: 0.3389 - val_loss: 1.1626 - val_accuracy: 0.5111\n",
      "Epoch 6/500\n",
      "14016/14016 [==============================] - 79s 6ms/step - loss: 1.4680 - accuracy: 0.3774 - val_loss: 1.1542 - val_accuracy: 0.5117\n",
      "Epoch 7/500\n",
      "14016/14016 [==============================] - 78s 6ms/step - loss: 1.4468 - accuracy: 0.3913 - val_loss: 1.1522 - val_accuracy: 0.5144\n",
      "Epoch 8/500\n",
      "14016/14016 [==============================] - 78s 6ms/step - loss: 1.4377 - accuracy: 0.3987 - val_loss: 1.1457 - val_accuracy: 0.5228\n",
      "Epoch 9/500\n",
      "14016/14016 [==============================] - 78s 6ms/step - loss: 1.4279 - accuracy: 0.4064 - val_loss: 1.1451 - val_accuracy: 0.5146\n",
      "Epoch 10/500\n",
      "14016/14016 [==============================] - 78s 6ms/step - loss: 1.4209 - accuracy: 0.4104 - val_loss: 1.1479 - val_accuracy: 0.5005\n",
      "Epoch 11/500\n",
      "14016/14016 [==============================] - 78s 6ms/step - loss: 1.4158 - accuracy: 0.4136 - val_loss: 1.1290 - val_accuracy: 0.5322\n",
      "Epoch 12/500\n",
      "14016/14016 [==============================] - 78s 6ms/step - loss: 1.4114 - accuracy: 0.4160 - val_loss: 1.1203 - val_accuracy: 0.5417\n",
      "Epoch 13/500\n",
      "14016/14016 [==============================] - 78s 6ms/step - loss: 1.4065 - accuracy: 0.4214 - val_loss: 1.1197 - val_accuracy: 0.5306\n",
      "Epoch 14/500\n",
      "14016/14016 [==============================] - 78s 6ms/step - loss: 1.4017 - accuracy: 0.4233 - val_loss: 1.1181 - val_accuracy: 0.5280\n",
      "Epoch 15/500\n",
      "14016/14016 [==============================] - 78s 6ms/step - loss: 1.3956 - accuracy: 0.4282 - val_loss: 1.1068 - val_accuracy: 0.5466\n",
      "Epoch 16/500\n",
      "14016/14016 [==============================] - 79s 6ms/step - loss: 1.3897 - accuracy: 0.4327 - val_loss: 1.0911 - val_accuracy: 0.5640\n",
      "Epoch 17/500\n",
      "14016/14016 [==============================] - 78s 6ms/step - loss: 1.3835 - accuracy: 0.4364 - val_loss: 1.0510 - val_accuracy: 0.6006\n",
      "Epoch 18/500\n",
      "14016/14016 [==============================] - 78s 6ms/step - loss: 1.3771 - accuracy: 0.4409 - val_loss: 1.1496 - val_accuracy: 0.5148\n",
      "Epoch 19/500\n",
      "14016/14016 [==============================] - 78s 6ms/step - loss: 1.3701 - accuracy: 0.4452 - val_loss: 1.0353 - val_accuracy: 0.6060\n",
      "Epoch 20/500\n",
      "14016/14016 [==============================] - 78s 6ms/step - loss: 1.3633 - accuracy: 0.4490 - val_loss: 1.1350 - val_accuracy: 0.5241\n",
      "Epoch 21/500\n",
      "14016/14016 [==============================] - 78s 6ms/step - loss: 1.3562 - accuracy: 0.4537 - val_loss: 0.9617 - val_accuracy: 0.6730\n",
      "Epoch 22/500\n",
      "14016/14016 [==============================] - 78s 6ms/step - loss: 1.3497 - accuracy: 0.4574 - val_loss: 1.0283 - val_accuracy: 0.6218\n",
      "Epoch 23/500\n",
      "14016/14016 [==============================] - 78s 6ms/step - loss: 1.3435 - accuracy: 0.4613 - val_loss: 1.6154 - val_accuracy: 0.3882\n",
      "Epoch 24/500\n",
      "14016/14016 [==============================] - 78s 6ms/step - loss: 1.3380 - accuracy: 0.4647 - val_loss: 1.0033 - val_accuracy: 0.6398\n",
      "Epoch 25/500\n",
      "14016/14016 [==============================] - 78s 6ms/step - loss: 1.3329 - accuracy: 0.4668 - val_loss: 1.1422 - val_accuracy: 0.5238\n",
      "Epoch 26/500\n",
      "14016/14016 [==============================] - 78s 6ms/step - loss: 1.3271 - accuracy: 0.4709 - val_loss: 1.0630 - val_accuracy: 0.5597\n",
      "Epoch 27/500\n",
      "14016/14016 [==============================] - 78s 6ms/step - loss: 1.3221 - accuracy: 0.4726 - val_loss: 0.9263 - val_accuracy: 0.6709\n",
      "Epoch 28/500\n",
      "14016/14016 [==============================] - 78s 6ms/step - loss: 1.3147 - accuracy: 0.4772 - val_loss: 1.0287 - val_accuracy: 0.5886\n",
      "Epoch 29/500\n",
      "14016/14016 [==============================] - 78s 6ms/step - loss: 1.3085 - accuracy: 0.4803 - val_loss: 0.9767 - val_accuracy: 0.6484\n",
      "Epoch 30/500\n",
      "14016/14016 [==============================] - 79s 6ms/step - loss: 1.3018 - accuracy: 0.4842 - val_loss: 0.9731 - val_accuracy: 0.6558\n",
      "Epoch 31/500\n",
      "14016/14016 [==============================] - 78s 6ms/step - loss: 1.2913 - accuracy: 0.4883 - val_loss: 0.9069 - val_accuracy: 0.6942\n",
      "Epoch 32/500\n",
      "14016/14016 [==============================] - 78s 6ms/step - loss: 1.2763 - accuracy: 0.4952 - val_loss: 1.5184 - val_accuracy: 0.4185\n",
      "Epoch 33/500\n",
      "14016/14016 [==============================] - 78s 6ms/step - loss: 1.2500 - accuracy: 0.5077 - val_loss: 0.8340 - val_accuracy: 0.7266\n",
      "Epoch 34/500\n",
      "14016/14016 [==============================] - 78s 6ms/step - loss: 1.2243 - accuracy: 0.5191 - val_loss: 1.1474 - val_accuracy: 0.5300\n",
      "Epoch 35/500\n",
      "14016/14016 [==============================] - 78s 6ms/step - loss: 1.2008 - accuracy: 0.5276 - val_loss: 0.9256 - val_accuracy: 0.6556\n",
      "Epoch 36/500\n",
      "14016/14016 [==============================] - 78s 6ms/step - loss: 1.1862 - accuracy: 0.5341 - val_loss: 1.0830 - val_accuracy: 0.5458\n",
      "Epoch 37/500\n",
      "14016/14016 [==============================] - 78s 6ms/step - loss: 1.1774 - accuracy: 0.5384 - val_loss: 0.7754 - val_accuracy: 0.7587\n",
      "Epoch 38/500\n",
      "14016/14016 [==============================] - 78s 6ms/step - loss: 1.1614 - accuracy: 0.5443 - val_loss: 1.2380 - val_accuracy: 0.4992\n",
      "Epoch 39/500\n",
      "14016/14016 [==============================] - 78s 6ms/step - loss: 1.1472 - accuracy: 0.5506 - val_loss: 0.9027 - val_accuracy: 0.6758\n",
      "Epoch 40/500\n",
      "14016/14016 [==============================] - 78s 6ms/step - loss: 1.1357 - accuracy: 0.5556 - val_loss: 0.7916 - val_accuracy: 0.7460\n",
      "Epoch 41/500\n",
      "14016/14016 [==============================] - 78s 6ms/step - loss: 1.1247 - accuracy: 0.5604 - val_loss: 0.9320 - val_accuracy: 0.6525\n",
      "Epoch 42/500\n",
      "14016/14016 [==============================] - 78s 6ms/step - loss: 1.1174 - accuracy: 0.5635 - val_loss: 1.0631 - val_accuracy: 0.5608\n",
      "Epoch 43/500\n",
      "14016/14016 [==============================] - 78s 6ms/step - loss: 1.1058 - accuracy: 0.5688 - val_loss: 1.6758 - val_accuracy: 0.4525\n",
      "Epoch 44/500\n",
      "14016/14016 [==============================] - 78s 6ms/step - loss: 1.1004 - accuracy: 0.5713 - val_loss: 0.7486 - val_accuracy: 0.7661\n",
      "Epoch 45/500\n",
      "14016/14016 [==============================] - 78s 6ms/step - loss: 1.0920 - accuracy: 0.5754 - val_loss: 0.8446 - val_accuracy: 0.6931\n",
      "Epoch 46/500\n",
      "14016/14016 [==============================] - 78s 6ms/step - loss: 1.0854 - accuracy: 0.5785 - val_loss: 0.9574 - val_accuracy: 0.6309\n",
      "Epoch 47/500\n",
      "14016/14016 [==============================] - 78s 6ms/step - loss: 1.0798 - accuracy: 0.5807 - val_loss: 0.8090 - val_accuracy: 0.7346\n",
      "Epoch 48/500\n",
      "14016/14016 [==============================] - 78s 6ms/step - loss: 1.0752 - accuracy: 0.5823 - val_loss: 1.0988 - val_accuracy: 0.5599\n",
      "Epoch 49/500\n",
      "14016/14016 [==============================] - 78s 6ms/step - loss: 1.0675 - accuracy: 0.5859 - val_loss: 0.7657 - val_accuracy: 0.7443\n",
      "Epoch 50/500\n",
      "14016/14016 [==============================] - 78s 6ms/step - loss: 1.0624 - accuracy: 0.5878 - val_loss: 1.2305 - val_accuracy: 0.5127\n",
      "Epoch 51/500\n",
      "14016/14016 [==============================] - 78s 6ms/step - loss: 1.0548 - accuracy: 0.5914 - val_loss: 0.7207 - val_accuracy: 0.7709\n",
      "Epoch 52/500\n",
      "14016/14016 [==============================] - 78s 6ms/step - loss: 1.0475 - accuracy: 0.5941 - val_loss: 1.0754 - val_accuracy: 0.5624\n",
      "Epoch 53/500\n",
      "14016/14016 [==============================] - 78s 6ms/step - loss: 1.0335 - accuracy: 0.6023 - val_loss: 0.7395 - val_accuracy: 0.7566\n",
      "Epoch 54/500\n",
      "14016/14016 [==============================] - 78s 6ms/step - loss: 1.0090 - accuracy: 0.6156 - val_loss: 0.8595 - val_accuracy: 0.6909\n",
      "Epoch 55/500\n",
      "14016/14016 [==============================] - 78s 6ms/step - loss: 0.9724 - accuracy: 0.6329 - val_loss: 0.9912 - val_accuracy: 0.6300\n",
      "Epoch 56/500\n"
     ]
    },
    {
     "name": "stdout",
     "output_type": "stream",
     "text": [
      "14016/14016 [==============================] - 78s 6ms/step - loss: 1.0522 - accuracy: 0.5994 - val_loss: 0.8453 - val_accuracy: 0.7087\n",
      "Epoch 57/500\n",
      "14016/14016 [==============================] - 78s 6ms/step - loss: 0.9252 - accuracy: 0.6536 - val_loss: 0.9244 - val_accuracy: 0.6541\n",
      "Epoch 58/500\n",
      "14016/14016 [==============================] - 78s 6ms/step - loss: 0.8834 - accuracy: 0.6711 - val_loss: 1.0600 - val_accuracy: 0.5892\n",
      "Epoch 59/500\n",
      "14016/14016 [==============================] - 78s 6ms/step - loss: 0.8540 - accuracy: 0.6835 - val_loss: 0.7023 - val_accuracy: 0.7734\n",
      "Epoch 60/500\n",
      "14016/14016 [==============================] - 78s 6ms/step - loss: 0.8213 - accuracy: 0.6972 - val_loss: 0.7742 - val_accuracy: 0.7491\n",
      "Epoch 61/500\n",
      "14016/14016 [==============================] - 78s 6ms/step - loss: 0.7899 - accuracy: 0.7112 - val_loss: 0.7585 - val_accuracy: 0.7365\n",
      "Epoch 62/500\n",
      "14016/14016 [==============================] - 78s 6ms/step - loss: 0.7388 - accuracy: 0.7333 - val_loss: 0.9797 - val_accuracy: 0.6282\n",
      "Epoch 63/500\n",
      "14016/14016 [==============================] - 78s 6ms/step - loss: 0.6746 - accuracy: 0.7600 - val_loss: 0.8166 - val_accuracy: 0.7224\n",
      "Epoch 64/500\n",
      "14016/14016 [==============================] - 78s 6ms/step - loss: 0.6199 - accuracy: 0.7814 - val_loss: 0.7269 - val_accuracy: 0.7469\n",
      "Epoch 65/500\n",
      "14016/14016 [==============================] - 78s 6ms/step - loss: 0.5777 - accuracy: 0.7978 - val_loss: 0.8875 - val_accuracy: 0.6871\n",
      "Epoch 66/500\n",
      "14016/14016 [==============================] - 78s 6ms/step - loss: 0.5515 - accuracy: 0.8074 - val_loss: 0.6946 - val_accuracy: 0.7751\n",
      "Epoch 67/500\n",
      "14016/14016 [==============================] - 78s 6ms/step - loss: 0.5327 - accuracy: 0.8141 - val_loss: 0.6684 - val_accuracy: 0.7705\n",
      "Epoch 68/500\n",
      "14016/14016 [==============================] - 78s 6ms/step - loss: 0.5162 - accuracy: 0.8201 - val_loss: 1.1612 - val_accuracy: 0.5739\n",
      "Epoch 69/500\n",
      "14016/14016 [==============================] - 78s 6ms/step - loss: 0.5059 - accuracy: 0.8236 - val_loss: 0.6403 - val_accuracy: 0.7847\n",
      "Epoch 70/500\n",
      "14016/14016 [==============================] - 78s 6ms/step - loss: 0.4981 - accuracy: 0.8263 - val_loss: 0.6541 - val_accuracy: 0.7820\n",
      "Epoch 71/500\n",
      "14016/14016 [==============================] - 78s 6ms/step - loss: 0.4882 - accuracy: 0.8298 - val_loss: 0.6574 - val_accuracy: 0.7753\n",
      "Epoch 72/500\n",
      "14016/14016 [==============================] - 78s 6ms/step - loss: 0.4820 - accuracy: 0.8314 - val_loss: 0.6325 - val_accuracy: 0.7889\n",
      "Epoch 73/500\n",
      "14016/14016 [==============================] - 78s 6ms/step - loss: 0.4718 - accuracy: 0.8350 - val_loss: 0.6236 - val_accuracy: 0.7903\n",
      "Epoch 74/500\n",
      "14016/14016 [==============================] - 78s 6ms/step - loss: 0.4662 - accuracy: 0.8373 - val_loss: 0.6140 - val_accuracy: 0.7913\n",
      "Epoch 75/500\n",
      "14016/14016 [==============================] - 78s 6ms/step - loss: 0.4645 - accuracy: 0.8378 - val_loss: 1.2609 - val_accuracy: 0.6030\n",
      "Epoch 76/500\n",
      "14016/14016 [==============================] - 78s 6ms/step - loss: 0.4536 - accuracy: 0.8409 - val_loss: 0.6691 - val_accuracy: 0.7639\n",
      "Epoch 77/500\n",
      "14016/14016 [==============================] - 78s 6ms/step - loss: 0.4482 - accuracy: 0.8432 - val_loss: 0.6944 - val_accuracy: 0.7523\n",
      "Epoch 78/500\n",
      "14016/14016 [==============================] - 78s 6ms/step - loss: 0.4407 - accuracy: 0.8453 - val_loss: 0.7088 - val_accuracy: 0.7369\n",
      "Epoch 79/500\n",
      "14016/14016 [==============================] - 78s 6ms/step - loss: 0.4340 - accuracy: 0.8476 - val_loss: 0.6401 - val_accuracy: 0.7836\n",
      "Epoch 80/500\n",
      "14016/14016 [==============================] - 78s 6ms/step - loss: 0.4263 - accuracy: 0.8498 - val_loss: 1.8711 - val_accuracy: 0.4684\n",
      "Epoch 81/500\n",
      "14016/14016 [==============================] - 78s 6ms/step - loss: 0.4182 - accuracy: 0.8520 - val_loss: 1.1525 - val_accuracy: 0.6023\n",
      "Epoch 82/500\n",
      "14016/14016 [==============================] - 78s 6ms/step - loss: 0.4079 - accuracy: 0.8551 - val_loss: 0.5876 - val_accuracy: 0.7880\n",
      "Epoch 83/500\n",
      "14016/14016 [==============================] - 78s 6ms/step - loss: 0.3984 - accuracy: 0.8578 - val_loss: 0.5092 - val_accuracy: 0.8252\n",
      "Epoch 84/500\n",
      "14016/14016 [==============================] - 78s 6ms/step - loss: 0.3922 - accuracy: 0.8595 - val_loss: 0.4623 - val_accuracy: 0.8294\n",
      "Epoch 85/500\n",
      "14016/14016 [==============================] - 78s 6ms/step - loss: 0.3832 - accuracy: 0.8624 - val_loss: 0.4687 - val_accuracy: 0.8329\n",
      "Epoch 86/500\n",
      "14016/14016 [==============================] - 78s 6ms/step - loss: 0.3730 - accuracy: 0.8661 - val_loss: 0.4630 - val_accuracy: 0.8398\n",
      "Epoch 87/500\n",
      "14016/14016 [==============================] - 78s 6ms/step - loss: 0.3661 - accuracy: 0.8680 - val_loss: 0.4349 - val_accuracy: 0.8489\n",
      "Epoch 88/500\n",
      "14016/14016 [==============================] - 78s 6ms/step - loss: 0.3611 - accuracy: 0.8692 - val_loss: 0.4908 - val_accuracy: 0.8135\n",
      "Epoch 89/500\n",
      "14016/14016 [==============================] - 78s 6ms/step - loss: 0.3533 - accuracy: 0.8725 - val_loss: 0.4612 - val_accuracy: 0.8310\n",
      "Epoch 90/500\n",
      "14016/14016 [==============================] - 78s 6ms/step - loss: 0.3465 - accuracy: 0.8747 - val_loss: 0.4171 - val_accuracy: 0.8524\n",
      "Epoch 91/500\n",
      "14016/14016 [==============================] - 78s 6ms/step - loss: 0.3407 - accuracy: 0.8766 - val_loss: 0.5436 - val_accuracy: 0.7866\n",
      "Epoch 92/500\n",
      "14016/14016 [==============================] - 78s 6ms/step - loss: 0.3388 - accuracy: 0.8777 - val_loss: 0.4984 - val_accuracy: 0.8226\n",
      "Epoch 93/500\n",
      "14016/14016 [==============================] - 78s 6ms/step - loss: 0.3309 - accuracy: 0.8802 - val_loss: 0.3865 - val_accuracy: 0.8628\n",
      "Epoch 94/500\n",
      "14016/14016 [==============================] - 78s 6ms/step - loss: 0.3255 - accuracy: 0.8823 - val_loss: 0.3728 - val_accuracy: 0.8686\n",
      "Epoch 95/500\n",
      "14016/14016 [==============================] - 78s 6ms/step - loss: 0.3181 - accuracy: 0.8848 - val_loss: 0.6289 - val_accuracy: 0.7760\n",
      "Epoch 96/500\n",
      "14016/14016 [==============================] - 78s 6ms/step - loss: 0.3131 - accuracy: 0.8871 - val_loss: 0.3470 - val_accuracy: 0.8718\n",
      "Epoch 97/500\n",
      "14016/14016 [==============================] - 78s 6ms/step - loss: 0.3087 - accuracy: 0.8885 - val_loss: 0.5322 - val_accuracy: 0.8002\n",
      "Epoch 98/500\n",
      "14016/14016 [==============================] - 78s 6ms/step - loss: 0.3029 - accuracy: 0.8908 - val_loss: 0.5297 - val_accuracy: 0.8003\n",
      "Epoch 99/500\n",
      "14016/14016 [==============================] - 78s 6ms/step - loss: 0.2999 - accuracy: 0.8920 - val_loss: 0.3492 - val_accuracy: 0.8730\n",
      "Epoch 100/500\n",
      "14016/14016 [==============================] - 78s 6ms/step - loss: 0.2927 - accuracy: 0.8945 - val_loss: 0.2977 - val_accuracy: 0.8926\n",
      "Epoch 101/500\n",
      "14016/14016 [==============================] - 78s 6ms/step - loss: 0.2931 - accuracy: 0.8947 - val_loss: 0.3204 - val_accuracy: 0.8887\n",
      "Epoch 102/500\n",
      "14016/14016 [==============================] - 78s 6ms/step - loss: 0.2858 - accuracy: 0.8975 - val_loss: 0.3205 - val_accuracy: 0.8844\n",
      "Epoch 103/500\n",
      "14016/14016 [==============================] - 78s 6ms/step - loss: 0.2843 - accuracy: 0.8980 - val_loss: 0.2932 - val_accuracy: 0.9005\n",
      "Epoch 104/500\n",
      "14016/14016 [==============================] - 78s 6ms/step - loss: 0.2800 - accuracy: 0.8995 - val_loss: 0.3012 - val_accuracy: 0.8919\n",
      "Epoch 105/500\n",
      "14016/14016 [==============================] - 78s 6ms/step - loss: 0.2771 - accuracy: 0.9016 - val_loss: 0.2905 - val_accuracy: 0.8965\n",
      "Epoch 106/500\n",
      "14016/14016 [==============================] - 78s 6ms/step - loss: 0.2725 - accuracy: 0.9028 - val_loss: 0.2571 - val_accuracy: 0.9098\n",
      "Epoch 107/500\n",
      "14016/14016 [==============================] - 78s 6ms/step - loss: 0.2718 - accuracy: 0.9033 - val_loss: 0.2732 - val_accuracy: 0.9014\n",
      "Epoch 108/500\n",
      "14016/14016 [==============================] - 78s 6ms/step - loss: 0.2679 - accuracy: 0.9048 - val_loss: 0.2618 - val_accuracy: 0.9128\n",
      "Epoch 109/500\n",
      "14016/14016 [==============================] - 78s 6ms/step - loss: 0.2658 - accuracy: 0.9057 - val_loss: 0.3496 - val_accuracy: 0.8792\n",
      "Epoch 110/500\n",
      "14016/14016 [==============================] - 78s 6ms/step - loss: 0.2607 - accuracy: 0.9072 - val_loss: 0.2554 - val_accuracy: 0.9148\n"
     ]
    },
    {
     "name": "stdout",
     "output_type": "stream",
     "text": [
      "Epoch 111/500\n",
      "14016/14016 [==============================] - 78s 6ms/step - loss: 0.2594 - accuracy: 0.9083 - val_loss: 0.2596 - val_accuracy: 0.9136\n",
      "Epoch 112/500\n",
      "14016/14016 [==============================] - 78s 6ms/step - loss: 0.2581 - accuracy: 0.9088 - val_loss: 0.2742 - val_accuracy: 0.9018\n",
      "Epoch 113/500\n",
      "14016/14016 [==============================] - 78s 6ms/step - loss: 0.2579 - accuracy: 0.9089 - val_loss: 0.2639 - val_accuracy: 0.9134\n",
      "Epoch 114/500\n",
      "14016/14016 [==============================] - 78s 6ms/step - loss: 0.2525 - accuracy: 0.9107 - val_loss: 0.3763 - val_accuracy: 0.8663\n",
      "Epoch 115/500\n",
      "14016/14016 [==============================] - 78s 6ms/step - loss: 0.2527 - accuracy: 0.9108 - val_loss: 0.2472 - val_accuracy: 0.9136\n",
      "Epoch 116/500\n",
      "14016/14016 [==============================] - 78s 6ms/step - loss: 0.2508 - accuracy: 0.9117 - val_loss: 0.2736 - val_accuracy: 0.9065\n",
      "Epoch 117/500\n",
      "14016/14016 [==============================] - 78s 6ms/step - loss: 0.2506 - accuracy: 0.9115 - val_loss: 0.2968 - val_accuracy: 0.9019\n",
      "Epoch 118/500\n",
      "14016/14016 [==============================] - 78s 6ms/step - loss: 0.2488 - accuracy: 0.9125 - val_loss: 0.2194 - val_accuracy: 0.9266\n",
      "Epoch 119/500\n",
      "14016/14016 [==============================] - 78s 6ms/step - loss: 0.2468 - accuracy: 0.9134 - val_loss: 0.2519 - val_accuracy: 0.9154\n",
      "Epoch 120/500\n",
      "14016/14016 [==============================] - 78s 6ms/step - loss: 0.2468 - accuracy: 0.9132 - val_loss: 0.2757 - val_accuracy: 0.9029\n",
      "Epoch 121/500\n",
      "14016/14016 [==============================] - 78s 6ms/step - loss: 0.2426 - accuracy: 0.9145 - val_loss: 0.2354 - val_accuracy: 0.9215\n",
      "Epoch 122/500\n",
      "14016/14016 [==============================] - 78s 6ms/step - loss: 0.2429 - accuracy: 0.9149 - val_loss: 0.2456 - val_accuracy: 0.9162\n",
      "Epoch 123/500\n",
      "14016/14016 [==============================] - 78s 6ms/step - loss: 0.2418 - accuracy: 0.9149 - val_loss: 0.2242 - val_accuracy: 0.9246\n",
      "Epoch 124/500\n",
      "14016/14016 [==============================] - 78s 6ms/step - loss: 0.2414 - accuracy: 0.9149 - val_loss: 0.2267 - val_accuracy: 0.9232\n",
      "Epoch 125/500\n",
      "14016/14016 [==============================] - 78s 6ms/step - loss: 0.2403 - accuracy: 0.9155 - val_loss: 0.2306 - val_accuracy: 0.9217\n",
      "Epoch 126/500\n",
      "14016/14016 [==============================] - 78s 6ms/step - loss: 0.2400 - accuracy: 0.9156 - val_loss: 0.2149 - val_accuracy: 0.9270\n",
      "Epoch 127/500\n",
      "14016/14016 [==============================] - 78s 6ms/step - loss: 0.2381 - accuracy: 0.9160 - val_loss: 0.2269 - val_accuracy: 0.9264\n",
      "Epoch 128/500\n",
      "14016/14016 [==============================] - 78s 6ms/step - loss: 0.2375 - accuracy: 0.9166 - val_loss: 0.2590 - val_accuracy: 0.9129\n",
      "Epoch 129/500\n",
      "14016/14016 [==============================] - 78s 6ms/step - loss: 0.2376 - accuracy: 0.9169 - val_loss: 0.2368 - val_accuracy: 0.9211\n",
      "Epoch 130/500\n",
      "14016/14016 [==============================] - 78s 6ms/step - loss: 0.2346 - accuracy: 0.9179 - val_loss: 0.2214 - val_accuracy: 0.9265\n",
      "Epoch 131/500\n",
      "14016/14016 [==============================] - 78s 6ms/step - loss: 0.2359 - accuracy: 0.9174 - val_loss: 0.2169 - val_accuracy: 0.9270\n",
      "Epoch 132/500\n",
      "14016/14016 [==============================] - 78s 6ms/step - loss: 0.2306 - accuracy: 0.9187 - val_loss: 0.4849 - val_accuracy: 0.8432\n",
      "Epoch 133/500\n",
      "14016/14016 [==============================] - 78s 6ms/step - loss: 0.2311 - accuracy: 0.9183 - val_loss: 0.2215 - val_accuracy: 0.9251\n",
      "Epoch 134/500\n",
      "14016/14016 [==============================] - 78s 6ms/step - loss: 0.2284 - accuracy: 0.9196 - val_loss: 0.2069 - val_accuracy: 0.9315\n",
      "Epoch 135/500\n",
      "14016/14016 [==============================] - 78s 6ms/step - loss: 0.2301 - accuracy: 0.9191 - val_loss: 0.2036 - val_accuracy: 0.9329\n",
      "Epoch 136/500\n",
      "14016/14016 [==============================] - 78s 6ms/step - loss: 0.2272 - accuracy: 0.9200 - val_loss: 0.2073 - val_accuracy: 0.9314\n",
      "Epoch 137/500\n",
      "14016/14016 [==============================] - 78s 6ms/step - loss: 0.2260 - accuracy: 0.9209 - val_loss: 0.2167 - val_accuracy: 0.9285\n",
      "Epoch 138/500\n",
      "14016/14016 [==============================] - 78s 6ms/step - loss: 0.2256 - accuracy: 0.9209 - val_loss: 0.2075 - val_accuracy: 0.9307\n",
      "Epoch 139/500\n",
      "14016/14016 [==============================] - 78s 6ms/step - loss: 0.2220 - accuracy: 0.9226 - val_loss: 0.2977 - val_accuracy: 0.8993\n",
      "Epoch 140/500\n",
      "14016/14016 [==============================] - 78s 6ms/step - loss: 0.2265 - accuracy: 0.9208 - val_loss: 0.1972 - val_accuracy: 0.9344\n",
      "Epoch 141/500\n",
      "14016/14016 [==============================] - 78s 6ms/step - loss: 0.2235 - accuracy: 0.9217 - val_loss: 0.2119 - val_accuracy: 0.9292\n",
      "Epoch 142/500\n",
      "14016/14016 [==============================] - 78s 6ms/step - loss: 0.2229 - accuracy: 0.9219 - val_loss: 0.1991 - val_accuracy: 0.9350\n",
      "Epoch 143/500\n",
      "14016/14016 [==============================] - 78s 6ms/step - loss: 0.2224 - accuracy: 0.9219 - val_loss: 0.1925 - val_accuracy: 0.9357\n",
      "Epoch 144/500\n",
      "14016/14016 [==============================] - 78s 6ms/step - loss: 0.2218 - accuracy: 0.9222 - val_loss: 0.1875 - val_accuracy: 0.9389\n",
      "Epoch 145/500\n",
      "14016/14016 [==============================] - 78s 6ms/step - loss: 0.2179 - accuracy: 0.9234 - val_loss: 0.2078 - val_accuracy: 0.9312\n",
      "Epoch 146/500\n",
      "14016/14016 [==============================] - 78s 6ms/step - loss: 0.2213 - accuracy: 0.9226 - val_loss: 0.1893 - val_accuracy: 0.9372\n",
      "Epoch 147/500\n",
      "14016/14016 [==============================] - 79s 6ms/step - loss: 0.2199 - accuracy: 0.9227 - val_loss: 0.2210 - val_accuracy: 0.9280\n",
      "Epoch 148/500\n",
      "14016/14016 [==============================] - 78s 6ms/step - loss: 0.2192 - accuracy: 0.9230 - val_loss: 0.1871 - val_accuracy: 0.9382\n",
      "Epoch 149/500\n",
      "14016/14016 [==============================] - 78s 6ms/step - loss: 0.2183 - accuracy: 0.9233 - val_loss: 0.1973 - val_accuracy: 0.9366\n",
      "Epoch 150/500\n",
      "14016/14016 [==============================] - 78s 6ms/step - loss: 0.2153 - accuracy: 0.9242 - val_loss: 0.1940 - val_accuracy: 0.9354\n",
      "Epoch 151/500\n",
      "14016/14016 [==============================] - 78s 6ms/step - loss: 0.2167 - accuracy: 0.9236 - val_loss: 0.1829 - val_accuracy: 0.9398\n",
      "Epoch 152/500\n",
      "14016/14016 [==============================] - 78s 6ms/step - loss: 0.2135 - accuracy: 0.9255 - val_loss: 0.1869 - val_accuracy: 0.9372\n",
      "Epoch 153/500\n",
      "14016/14016 [==============================] - 78s 6ms/step - loss: 0.2135 - accuracy: 0.9248 - val_loss: 0.2898 - val_accuracy: 0.9063\n",
      "Epoch 154/500\n",
      "14016/14016 [==============================] - 78s 6ms/step - loss: 0.2157 - accuracy: 0.9241 - val_loss: 0.1993 - val_accuracy: 0.9336\n",
      "Epoch 155/500\n",
      "14016/14016 [==============================] - 78s 6ms/step - loss: 0.2110 - accuracy: 0.9254 - val_loss: 0.1950 - val_accuracy: 0.9377\n",
      "Epoch 156/500\n",
      "14016/14016 [==============================] - 78s 6ms/step - loss: 0.2126 - accuracy: 0.9251 - val_loss: 0.2026 - val_accuracy: 0.9324\n",
      "Epoch 157/500\n",
      "14016/14016 [==============================] - 78s 6ms/step - loss: 0.2121 - accuracy: 0.9258 - val_loss: 0.2267 - val_accuracy: 0.9252\n",
      "Epoch 158/500\n",
      "14016/14016 [==============================] - 78s 6ms/step - loss: 0.2130 - accuracy: 0.9250 - val_loss: 0.2700 - val_accuracy: 0.9115\n",
      "Epoch 159/500\n",
      "14016/14016 [==============================] - 78s 6ms/step - loss: 0.2116 - accuracy: 0.9256 - val_loss: 0.2752 - val_accuracy: 0.9094\n",
      "Epoch 160/500\n",
      "14016/14016 [==============================] - 78s 6ms/step - loss: 0.2127 - accuracy: 0.9252 - val_loss: 0.1904 - val_accuracy: 0.9387\n",
      "Epoch 161/500\n",
      "14016/14016 [==============================] - 78s 6ms/step - loss: 0.2092 - accuracy: 0.9266 - val_loss: 0.1909 - val_accuracy: 0.9353\n",
      "Epoch 162/500\n",
      "14016/14016 [==============================] - 78s 6ms/step - loss: 0.2119 - accuracy: 0.9252 - val_loss: 0.1906 - val_accuracy: 0.9352\n",
      "Epoch 163/500\n",
      "14016/14016 [==============================] - 78s 6ms/step - loss: 0.2070 - accuracy: 0.9273 - val_loss: 0.1732 - val_accuracy: 0.9422\n",
      "Epoch 164/500\n",
      "14016/14016 [==============================] - 78s 6ms/step - loss: 0.2083 - accuracy: 0.9270 - val_loss: 0.1724 - val_accuracy: 0.9427\n",
      "Epoch 165/500\n"
     ]
    },
    {
     "name": "stdout",
     "output_type": "stream",
     "text": [
      "14016/14016 [==============================] - 78s 6ms/step - loss: 0.2097 - accuracy: 0.9261 - val_loss: 0.1765 - val_accuracy: 0.9413\n",
      "Epoch 166/500\n",
      "14016/14016 [==============================] - 78s 6ms/step - loss: 0.2055 - accuracy: 0.9278 - val_loss: 0.1789 - val_accuracy: 0.9425\n",
      "Epoch 167/500\n",
      "14016/14016 [==============================] - 78s 6ms/step - loss: 0.2064 - accuracy: 0.9275 - val_loss: 0.1761 - val_accuracy: 0.9422\n",
      "Epoch 168/500\n",
      "14016/14016 [==============================] - 78s 6ms/step - loss: 0.2062 - accuracy: 0.9276 - val_loss: 0.1781 - val_accuracy: 0.9421\n",
      "Epoch 169/500\n",
      "14016/14016 [==============================] - 78s 6ms/step - loss: 0.2061 - accuracy: 0.9282 - val_loss: 0.1727 - val_accuracy: 0.9429\n",
      "Epoch 170/500\n",
      "14016/14016 [==============================] - 78s 6ms/step - loss: 0.2038 - accuracy: 0.9283 - val_loss: 0.1750 - val_accuracy: 0.9431\n",
      "Epoch 171/500\n",
      "14016/14016 [==============================] - 78s 6ms/step - loss: 0.2041 - accuracy: 0.9282 - val_loss: 0.1761 - val_accuracy: 0.9430\n",
      "Epoch 172/500\n",
      "14016/14016 [==============================] - 78s 6ms/step - loss: 0.2039 - accuracy: 0.9283 - val_loss: 0.1983 - val_accuracy: 0.9337\n",
      "Epoch 173/500\n",
      "14016/14016 [==============================] - 78s 6ms/step - loss: 0.2016 - accuracy: 0.9293 - val_loss: 0.1777 - val_accuracy: 0.9406\n",
      "Epoch 174/500\n",
      "14016/14016 [==============================] - 78s 6ms/step - loss: 0.2027 - accuracy: 0.9286 - val_loss: 0.2389 - val_accuracy: 0.9180\n",
      "Epoch 175/500\n",
      "14016/14016 [==============================] - 78s 6ms/step - loss: 0.2015 - accuracy: 0.9298 - val_loss: 0.1899 - val_accuracy: 0.9364\n",
      "Epoch 176/500\n",
      "14016/14016 [==============================] - 78s 6ms/step - loss: 0.2029 - accuracy: 0.9285 - val_loss: 0.1679 - val_accuracy: 0.9447\n",
      "Epoch 177/500\n",
      "14016/14016 [==============================] - 78s 6ms/step - loss: 0.1970 - accuracy: 0.9309 - val_loss: 0.1678 - val_accuracy: 0.9450\n",
      "Epoch 178/500\n",
      "14016/14016 [==============================] - 78s 6ms/step - loss: 0.2018 - accuracy: 0.9291 - val_loss: 0.1760 - val_accuracy: 0.9434\n",
      "Epoch 179/500\n",
      "14016/14016 [==============================] - 78s 6ms/step - loss: 0.2008 - accuracy: 0.9296 - val_loss: 0.2583 - val_accuracy: 0.9148\n",
      "Epoch 180/500\n",
      "14016/14016 [==============================] - 78s 6ms/step - loss: 0.1981 - accuracy: 0.9302 - val_loss: 0.1717 - val_accuracy: 0.9432\n",
      "Epoch 181/500\n",
      "14016/14016 [==============================] - 78s 6ms/step - loss: 0.1993 - accuracy: 0.9298 - val_loss: 0.1899 - val_accuracy: 0.9359\n",
      "Epoch 182/500\n",
      "14016/14016 [==============================] - 78s 6ms/step - loss: 0.2031 - accuracy: 0.9289 - val_loss: 0.1678 - val_accuracy: 0.9453\n",
      "Epoch 183/500\n",
      "14016/14016 [==============================] - 78s 6ms/step - loss: 0.1990 - accuracy: 0.9299 - val_loss: 0.1631 - val_accuracy: 0.9460\n",
      "Epoch 184/500\n",
      "14016/14016 [==============================] - 78s 6ms/step - loss: 0.1977 - accuracy: 0.9307 - val_loss: 0.1693 - val_accuracy: 0.9445\n",
      "Epoch 185/500\n",
      "14016/14016 [==============================] - 78s 6ms/step - loss: 0.1963 - accuracy: 0.9308 - val_loss: 0.1735 - val_accuracy: 0.9430\n",
      "Epoch 186/500\n",
      "14016/14016 [==============================] - 78s 6ms/step - loss: 0.1972 - accuracy: 0.9308 - val_loss: 0.1705 - val_accuracy: 0.9437\n",
      "Epoch 187/500\n",
      "14016/14016 [==============================] - 78s 6ms/step - loss: 0.1980 - accuracy: 0.9303 - val_loss: 0.1864 - val_accuracy: 0.9376\n",
      "Epoch 188/500\n",
      "14016/14016 [==============================] - 78s 6ms/step - loss: 0.1979 - accuracy: 0.9306 - val_loss: 0.1861 - val_accuracy: 0.9405\n",
      "Epoch 189/500\n",
      "14016/14016 [==============================] - 79s 6ms/step - loss: 0.1979 - accuracy: 0.9306 - val_loss: 0.3164 - val_accuracy: 0.8935\n",
      "Epoch 190/500\n",
      "14016/14016 [==============================] - 78s 6ms/step - loss: 0.1955 - accuracy: 0.9312 - val_loss: 0.1660 - val_accuracy: 0.9445\n",
      "Epoch 191/500\n",
      "14016/14016 [==============================] - 78s 6ms/step - loss: 0.1952 - accuracy: 0.9313 - val_loss: 0.1769 - val_accuracy: 0.9419\n",
      "Epoch 192/500\n",
      "14016/14016 [==============================] - 78s 6ms/step - loss: 0.1970 - accuracy: 0.9311 - val_loss: 0.1784 - val_accuracy: 0.9431\n",
      "Epoch 193/500\n",
      "14016/14016 [==============================] - 78s 6ms/step - loss: 0.1929 - accuracy: 0.9324 - val_loss: 0.2171 - val_accuracy: 0.9283\n",
      "Epoch 194/500\n",
      "14016/14016 [==============================] - 78s 6ms/step - loss: 0.1943 - accuracy: 0.9318 - val_loss: 0.1659 - val_accuracy: 0.9474\n",
      "Epoch 195/500\n",
      "14016/14016 [==============================] - 78s 6ms/step - loss: 0.1921 - accuracy: 0.9323 - val_loss: 0.1665 - val_accuracy: 0.9464\n",
      "Epoch 196/500\n",
      "14016/14016 [==============================] - 78s 6ms/step - loss: 0.1954 - accuracy: 0.9312 - val_loss: 0.1710 - val_accuracy: 0.9440\n",
      "Epoch 197/500\n",
      "14016/14016 [==============================] - 78s 6ms/step - loss: 0.1947 - accuracy: 0.9316 - val_loss: 0.1659 - val_accuracy: 0.9456\n",
      "Epoch 198/500\n",
      "14016/14016 [==============================] - 78s 6ms/step - loss: 0.1912 - accuracy: 0.9328 - val_loss: 0.1838 - val_accuracy: 0.9422\n",
      "Epoch 199/500\n",
      "14016/14016 [==============================] - 78s 6ms/step - loss: 0.1930 - accuracy: 0.9324 - val_loss: 0.1632 - val_accuracy: 0.9475\n",
      "Epoch 200/500\n",
      "14016/14016 [==============================] - 78s 6ms/step - loss: 0.1908 - accuracy: 0.9327 - val_loss: 0.2402 - val_accuracy: 0.9214\n",
      "Epoch 201/500\n",
      "14016/14016 [==============================] - 78s 6ms/step - loss: 0.1924 - accuracy: 0.9322 - val_loss: 0.1597 - val_accuracy: 0.9461\n",
      "Epoch 202/500\n",
      "14016/14016 [==============================] - 78s 6ms/step - loss: 0.1902 - accuracy: 0.9332 - val_loss: 0.1668 - val_accuracy: 0.9462\n",
      "Epoch 203/500\n",
      "14016/14016 [==============================] - 78s 6ms/step - loss: 0.1934 - accuracy: 0.9321 - val_loss: 0.1610 - val_accuracy: 0.9483\n",
      "Epoch 204/500\n",
      "14016/14016 [==============================] - 78s 6ms/step - loss: 0.1917 - accuracy: 0.9328 - val_loss: 0.1582 - val_accuracy: 0.9485\n",
      "Epoch 205/500\n",
      "14016/14016 [==============================] - 78s 6ms/step - loss: 0.1912 - accuracy: 0.9324 - val_loss: 0.3586 - val_accuracy: 0.8867\n",
      "Epoch 206/500\n",
      "14016/14016 [==============================] - 78s 6ms/step - loss: 0.1885 - accuracy: 0.9337 - val_loss: 0.1664 - val_accuracy: 0.9462\n",
      "Epoch 207/500\n",
      "14016/14016 [==============================] - 78s 6ms/step - loss: 0.1902 - accuracy: 0.9331 - val_loss: 0.1590 - val_accuracy: 0.9493\n",
      "Epoch 208/500\n",
      "14016/14016 [==============================] - 78s 6ms/step - loss: 0.1872 - accuracy: 0.9340 - val_loss: 0.1669 - val_accuracy: 0.9467\n",
      "Epoch 209/500\n",
      "14016/14016 [==============================] - 78s 6ms/step - loss: 0.1888 - accuracy: 0.9334 - val_loss: 0.1690 - val_accuracy: 0.9460\n",
      "Epoch 210/500\n",
      "14016/14016 [==============================] - 78s 6ms/step - loss: 0.1886 - accuracy: 0.9336 - val_loss: 0.1708 - val_accuracy: 0.9452\n",
      "Epoch 211/500\n",
      "14016/14016 [==============================] - 78s 6ms/step - loss: 0.1915 - accuracy: 0.9327 - val_loss: 0.1726 - val_accuracy: 0.9442\n",
      "Epoch 212/500\n",
      "14016/14016 [==============================] - 78s 6ms/step - loss: 0.1886 - accuracy: 0.9336 - val_loss: 0.1615 - val_accuracy: 0.9470\n",
      "Epoch 213/500\n",
      "14016/14016 [==============================] - 78s 6ms/step - loss: 0.1883 - accuracy: 0.9337 - val_loss: 0.1588 - val_accuracy: 0.9490\n",
      "Epoch 214/500\n",
      "14016/14016 [==============================] - 78s 6ms/step - loss: 0.1915 - accuracy: 0.9327 - val_loss: 0.1628 - val_accuracy: 0.9477\n",
      "Epoch 215/500\n",
      "14016/14016 [==============================] - 78s 6ms/step - loss: 0.1856 - accuracy: 0.9347 - val_loss: 0.1518 - val_accuracy: 0.9515\n",
      "Epoch 216/500\n",
      "14016/14016 [==============================] - 78s 6ms/step - loss: 0.1869 - accuracy: 0.9342 - val_loss: 0.2038 - val_accuracy: 0.9342\n",
      "Epoch 217/500\n",
      "14016/14016 [==============================] - 78s 6ms/step - loss: 0.1860 - accuracy: 0.9341 - val_loss: 0.1636 - val_accuracy: 0.9462\n",
      "Epoch 218/500\n",
      "14016/14016 [==============================] - 78s 6ms/step - loss: 0.1862 - accuracy: 0.9344 - val_loss: 0.1538 - val_accuracy: 0.9507\n",
      "Epoch 219/500\n",
      "14016/14016 [==============================] - 78s 6ms/step - loss: 0.1852 - accuracy: 0.9346 - val_loss: 0.2022 - val_accuracy: 0.9333\n"
     ]
    },
    {
     "name": "stdout",
     "output_type": "stream",
     "text": [
      "Epoch 220/500\n",
      "14016/14016 [==============================] - 79s 6ms/step - loss: 0.1869 - accuracy: 0.9343 - val_loss: 0.1602 - val_accuracy: 0.9477\n",
      "Epoch 221/500\n",
      "14016/14016 [==============================] - 78s 6ms/step - loss: 0.1887 - accuracy: 0.9337 - val_loss: 0.1509 - val_accuracy: 0.9513\n",
      "Epoch 222/500\n",
      "14016/14016 [==============================] - 78s 6ms/step - loss: 0.1906 - accuracy: 0.9332 - val_loss: 0.1535 - val_accuracy: 0.9498\n",
      "Epoch 223/500\n",
      "14016/14016 [==============================] - 78s 6ms/step - loss: 0.1836 - accuracy: 0.9355 - val_loss: 0.1808 - val_accuracy: 0.9427\n",
      "Epoch 224/500\n",
      "14016/14016 [==============================] - 78s 6ms/step - loss: 0.1857 - accuracy: 0.9343 - val_loss: 0.2269 - val_accuracy: 0.9256\n",
      "Epoch 225/500\n",
      "14016/14016 [==============================] - 78s 6ms/step - loss: 0.1831 - accuracy: 0.9353 - val_loss: 0.1539 - val_accuracy: 0.9504\n",
      "Epoch 226/500\n",
      "14016/14016 [==============================] - 78s 6ms/step - loss: 0.1840 - accuracy: 0.9351 - val_loss: 0.1490 - val_accuracy: 0.9521\n",
      "Epoch 227/500\n",
      "14016/14016 [==============================] - 78s 6ms/step - loss: 0.1858 - accuracy: 0.9348 - val_loss: 0.1570 - val_accuracy: 0.9498\n",
      "Epoch 228/500\n",
      "14016/14016 [==============================] - 78s 6ms/step - loss: 0.1798 - accuracy: 0.9368 - val_loss: 0.1501 - val_accuracy: 0.9512\n",
      "Epoch 229/500\n",
      "14016/14016 [==============================] - 78s 6ms/step - loss: 0.1860 - accuracy: 0.9347 - val_loss: 0.1663 - val_accuracy: 0.9441\n",
      "Epoch 230/500\n",
      "14016/14016 [==============================] - 78s 6ms/step - loss: 0.1836 - accuracy: 0.9354 - val_loss: 0.1647 - val_accuracy: 0.9471\n",
      "Epoch 231/500\n",
      "14016/14016 [==============================] - 78s 6ms/step - loss: 0.1812 - accuracy: 0.9362 - val_loss: 0.1525 - val_accuracy: 0.9500\n",
      "Epoch 232/500\n",
      "14016/14016 [==============================] - 78s 6ms/step - loss: 0.1806 - accuracy: 0.9363 - val_loss: 0.1544 - val_accuracy: 0.9499\n",
      "Epoch 233/500\n",
      "14016/14016 [==============================] - 79s 6ms/step - loss: 0.1835 - accuracy: 0.9356 - val_loss: 0.1741 - val_accuracy: 0.9431\n",
      "Epoch 234/500\n",
      "14016/14016 [==============================] - 78s 6ms/step - loss: 0.1807 - accuracy: 0.9364 - val_loss: 0.1496 - val_accuracy: 0.9520\n",
      "Epoch 235/500\n",
      "14016/14016 [==============================] - 78s 6ms/step - loss: 0.1815 - accuracy: 0.9364 - val_loss: 0.1722 - val_accuracy: 0.9437\n",
      "Epoch 236/500\n",
      "14016/14016 [==============================] - 78s 6ms/step - loss: 0.1827 - accuracy: 0.9358 - val_loss: 0.1526 - val_accuracy: 0.9507\n",
      "Epoch 237/500\n",
      "14016/14016 [==============================] - 78s 6ms/step - loss: 0.1857 - accuracy: 0.9348 - val_loss: 0.1659 - val_accuracy: 0.9455\n",
      "Epoch 238/500\n",
      "14016/14016 [==============================] - 78s 6ms/step - loss: 0.1798 - accuracy: 0.9366 - val_loss: 0.1606 - val_accuracy: 0.9484\n",
      "Epoch 239/500\n",
      "14016/14016 [==============================] - 78s 6ms/step - loss: 0.1799 - accuracy: 0.9366 - val_loss: 0.1464 - val_accuracy: 0.9532\n",
      "Epoch 240/500\n",
      "14016/14016 [==============================] - 79s 6ms/step - loss: 0.1833 - accuracy: 0.9356 - val_loss: 0.1618 - val_accuracy: 0.9475\n",
      "Epoch 241/500\n",
      "14016/14016 [==============================] - 78s 6ms/step - loss: 0.1797 - accuracy: 0.9365 - val_loss: 0.1459 - val_accuracy: 0.9531\n",
      "Epoch 242/500\n",
      "14016/14016 [==============================] - 78s 6ms/step - loss: 0.1781 - accuracy: 0.9374 - val_loss: 0.2484 - val_accuracy: 0.9196\n",
      "Epoch 243/500\n",
      "14016/14016 [==============================] - 78s 6ms/step - loss: 0.1793 - accuracy: 0.9371 - val_loss: 0.1522 - val_accuracy: 0.9496\n",
      "Epoch 244/500\n",
      "14016/14016 [==============================] - 78s 6ms/step - loss: 0.1776 - accuracy: 0.9377 - val_loss: 0.1670 - val_accuracy: 0.9440\n",
      "Epoch 245/500\n",
      "14016/14016 [==============================] - 78s 6ms/step - loss: 0.1789 - accuracy: 0.9371 - val_loss: 0.1472 - val_accuracy: 0.9522\n",
      "Epoch 246/500\n",
      "14016/14016 [==============================] - 78s 6ms/step - loss: 0.1789 - accuracy: 0.9372 - val_loss: 0.1787 - val_accuracy: 0.9412\n",
      "Epoch 247/500\n",
      "14016/14016 [==============================] - 78s 6ms/step - loss: 0.1795 - accuracy: 0.9367 - val_loss: 0.1450 - val_accuracy: 0.9537\n",
      "Epoch 248/500\n",
      "14016/14016 [==============================] - 78s 6ms/step - loss: 0.1780 - accuracy: 0.9377 - val_loss: 0.1613 - val_accuracy: 0.9467\n",
      "Epoch 249/500\n",
      "14016/14016 [==============================] - 78s 6ms/step - loss: 0.1778 - accuracy: 0.9374 - val_loss: 0.1489 - val_accuracy: 0.9512\n",
      "Epoch 250/500\n",
      "14016/14016 [==============================] - 78s 6ms/step - loss: 0.1770 - accuracy: 0.9373 - val_loss: 0.3258 - val_accuracy: 0.8950\n",
      "Epoch 251/500\n",
      "14016/14016 [==============================] - 78s 6ms/step - loss: 0.1781 - accuracy: 0.9373 - val_loss: 0.1510 - val_accuracy: 0.9524\n",
      "Epoch 252/500\n",
      "14016/14016 [==============================] - 79s 6ms/step - loss: 0.1800 - accuracy: 0.9368 - val_loss: 0.1476 - val_accuracy: 0.9528\n",
      "Epoch 253/500\n",
      "14016/14016 [==============================] - 78s 6ms/step - loss: 0.1762 - accuracy: 0.9381 - val_loss: 0.2050 - val_accuracy: 0.9335\n",
      "Epoch 254/500\n",
      "14016/14016 [==============================] - 78s 6ms/step - loss: 0.1786 - accuracy: 0.9369 - val_loss: 0.1493 - val_accuracy: 0.9531\n",
      "Epoch 255/500\n",
      "14016/14016 [==============================] - 78s 6ms/step - loss: 0.1759 - accuracy: 0.9380 - val_loss: 0.1711 - val_accuracy: 0.9428\n",
      "Epoch 256/500\n",
      "14016/14016 [==============================] - 78s 6ms/step - loss: 0.1756 - accuracy: 0.9380 - val_loss: 0.1549 - val_accuracy: 0.9484\n",
      "Epoch 257/500\n",
      "14016/14016 [==============================] - 78s 6ms/step - loss: 0.1757 - accuracy: 0.9383 - val_loss: 0.1439 - val_accuracy: 0.9542\n",
      "Epoch 258/500\n",
      "14016/14016 [==============================] - 78s 6ms/step - loss: 0.1744 - accuracy: 0.9386 - val_loss: 0.1529 - val_accuracy: 0.9499\n",
      "Epoch 259/500\n",
      "14016/14016 [==============================] - 78s 6ms/step - loss: 0.1783 - accuracy: 0.9374 - val_loss: 0.1637 - val_accuracy: 0.9472\n",
      "Epoch 260/500\n",
      "14016/14016 [==============================] - 78s 6ms/step - loss: 0.1737 - accuracy: 0.9388 - val_loss: 0.1845 - val_accuracy: 0.9406\n",
      "Epoch 261/500\n",
      "14016/14016 [==============================] - 78s 6ms/step - loss: 0.1752 - accuracy: 0.9383 - val_loss: 0.1533 - val_accuracy: 0.9499\n",
      "Epoch 262/500\n",
      "14016/14016 [==============================] - 78s 6ms/step - loss: 0.1751 - accuracy: 0.9385 - val_loss: 0.1473 - val_accuracy: 0.9521\n",
      "Epoch 263/500\n",
      "14016/14016 [==============================] - 78s 6ms/step - loss: 0.1732 - accuracy: 0.9389 - val_loss: 0.1496 - val_accuracy: 0.9518\n",
      "Epoch 264/500\n",
      "14016/14016 [==============================] - 78s 6ms/step - loss: 0.1740 - accuracy: 0.9386 - val_loss: 0.1658 - val_accuracy: 0.9451\n",
      "Epoch 265/500\n",
      "14016/14016 [==============================] - 78s 6ms/step - loss: 0.1729 - accuracy: 0.9390 - val_loss: 0.2117 - val_accuracy: 0.9306\n",
      "Epoch 266/500\n",
      "14016/14016 [==============================] - 78s 6ms/step - loss: 0.1760 - accuracy: 0.9381 - val_loss: 0.1521 - val_accuracy: 0.9513\n",
      "Epoch 267/500\n",
      "14016/14016 [==============================] - 79s 6ms/step - loss: 0.1745 - accuracy: 0.9389 - val_loss: 0.3784 - val_accuracy: 0.8717\n",
      "Epoch 268/500\n",
      "14016/14016 [==============================] - 78s 6ms/step - loss: 0.1757 - accuracy: 0.9381 - val_loss: 0.1608 - val_accuracy: 0.9478\n",
      "Epoch 269/500\n",
      "14016/14016 [==============================] - 78s 6ms/step - loss: 0.1752 - accuracy: 0.9383 - val_loss: 0.1517 - val_accuracy: 0.9504\n",
      "Epoch 270/500\n",
      "14016/14016 [==============================] - 78s 6ms/step - loss: 0.1719 - accuracy: 0.9393 - val_loss: 0.1473 - val_accuracy: 0.9518\n",
      "Epoch 271/500\n",
      "14016/14016 [==============================] - 78s 6ms/step - loss: 0.1729 - accuracy: 0.9393 - val_loss: 0.1511 - val_accuracy: 0.9504\n",
      "Epoch 272/500\n",
      "14016/14016 [==============================] - 78s 6ms/step - loss: 0.1737 - accuracy: 0.9387 - val_loss: 0.1489 - val_accuracy: 0.9531\n",
      "Epoch 273/500\n",
      "14016/14016 [==============================] - 78s 6ms/step - loss: 0.1780 - accuracy: 0.9374 - val_loss: 0.1626 - val_accuracy: 0.9467\n",
      "Epoch 274/500\n"
     ]
    },
    {
     "name": "stdout",
     "output_type": "stream",
     "text": [
      "14016/14016 [==============================] - 78s 6ms/step - loss: 0.1721 - accuracy: 0.9396 - val_loss: 0.1458 - val_accuracy: 0.9530\n",
      "Epoch 275/500\n",
      "14016/14016 [==============================] - 78s 6ms/step - loss: 0.1738 - accuracy: 0.9391 - val_loss: 0.1462 - val_accuracy: 0.9532\n",
      "Epoch 276/500\n",
      "14016/14016 [==============================] - 78s 6ms/step - loss: 0.1725 - accuracy: 0.9392 - val_loss: 0.1480 - val_accuracy: 0.9512\n",
      "Epoch 277/500\n",
      "14016/14016 [==============================] - 78s 6ms/step - loss: 0.1702 - accuracy: 0.9401 - val_loss: 0.1429 - val_accuracy: 0.9536\n",
      "Epoch 278/500\n",
      "14016/14016 [==============================] - 78s 6ms/step - loss: 0.1729 - accuracy: 0.9393 - val_loss: 0.1581 - val_accuracy: 0.9488\n",
      "Epoch 279/500\n",
      "14016/14016 [==============================] - 78s 6ms/step - loss: 0.1717 - accuracy: 0.9395 - val_loss: 0.1478 - val_accuracy: 0.9525\n",
      "Epoch 280/500\n",
      "14016/14016 [==============================] - 78s 6ms/step - loss: 0.1681 - accuracy: 0.9409 - val_loss: 0.1382 - val_accuracy: 0.9563\n",
      "Epoch 281/500\n",
      "14016/14016 [==============================] - 78s 6ms/step - loss: 0.1717 - accuracy: 0.9396 - val_loss: 0.1558 - val_accuracy: 0.9483\n",
      "Epoch 282/500\n",
      "14016/14016 [==============================] - 78s 6ms/step - loss: 0.1701 - accuracy: 0.9401 - val_loss: 0.1427 - val_accuracy: 0.9547\n",
      "Epoch 283/500\n",
      "14016/14016 [==============================] - 78s 6ms/step - loss: 0.1704 - accuracy: 0.9401 - val_loss: 0.1410 - val_accuracy: 0.9546\n",
      "Epoch 284/500\n",
      "14016/14016 [==============================] - 78s 6ms/step - loss: 0.1687 - accuracy: 0.9407 - val_loss: 0.1443 - val_accuracy: 0.9533\n",
      "Epoch 285/500\n",
      "14016/14016 [==============================] - 79s 6ms/step - loss: 0.1688 - accuracy: 0.9406 - val_loss: 0.1403 - val_accuracy: 0.9552\n",
      "Epoch 286/500\n",
      "14016/14016 [==============================] - 78s 6ms/step - loss: 0.1699 - accuracy: 0.9403 - val_loss: 0.1474 - val_accuracy: 0.9531\n",
      "Epoch 287/500\n",
      "14016/14016 [==============================] - 78s 6ms/step - loss: 0.1696 - accuracy: 0.9401 - val_loss: 0.1549 - val_accuracy: 0.9514\n",
      "Epoch 288/500\n",
      "14016/14016 [==============================] - 78s 6ms/step - loss: 0.1701 - accuracy: 0.9403 - val_loss: 0.1884 - val_accuracy: 0.9374\n",
      "Epoch 289/500\n",
      "14016/14016 [==============================] - 78s 6ms/step - loss: 0.1695 - accuracy: 0.9403 - val_loss: 0.2149 - val_accuracy: 0.9310\n",
      "Epoch 290/500\n",
      "14016/14016 [==============================] - 78s 6ms/step - loss: 0.1704 - accuracy: 0.9401 - val_loss: 0.2068 - val_accuracy: 0.9338\n",
      "Epoch 291/500\n",
      "14016/14016 [==============================] - 78s 6ms/step - loss: 0.1680 - accuracy: 0.9407 - val_loss: 0.1387 - val_accuracy: 0.9559\n",
      "Epoch 292/500\n",
      "14016/14016 [==============================] - 78s 6ms/step - loss: 0.1679 - accuracy: 0.9409 - val_loss: 0.1467 - val_accuracy: 0.9529\n",
      "Epoch 293/500\n",
      "14016/14016 [==============================] - 79s 6ms/step - loss: 0.1678 - accuracy: 0.9408 - val_loss: 0.1617 - val_accuracy: 0.9475\n",
      "Epoch 294/500\n",
      "14016/14016 [==============================] - 78s 6ms/step - loss: 0.1687 - accuracy: 0.9406 - val_loss: 0.2012 - val_accuracy: 0.9364\n",
      "Epoch 295/500\n",
      "14016/14016 [==============================] - 78s 6ms/step - loss: 0.1672 - accuracy: 0.9412 - val_loss: 0.1446 - val_accuracy: 0.9536\n",
      "Epoch 296/500\n",
      "14016/14016 [==============================] - 78s 6ms/step - loss: 0.1714 - accuracy: 0.9395 - val_loss: 0.1487 - val_accuracy: 0.9515\n",
      "Epoch 297/500\n",
      "14016/14016 [==============================] - 78s 6ms/step - loss: 0.1685 - accuracy: 0.9409 - val_loss: 0.1475 - val_accuracy: 0.9517\n",
      "Epoch 298/500\n",
      "14016/14016 [==============================] - 78s 6ms/step - loss: 0.1705 - accuracy: 0.9397 - val_loss: 0.1446 - val_accuracy: 0.9537\n",
      "Epoch 299/500\n",
      "14016/14016 [==============================] - 78s 6ms/step - loss: 0.1679 - accuracy: 0.9409 - val_loss: 0.1474 - val_accuracy: 0.9536\n",
      "Epoch 300/500\n",
      "14016/14016 [==============================] - 78s 6ms/step - loss: 0.1650 - accuracy: 0.9415 - val_loss: 0.1442 - val_accuracy: 0.9530\n",
      "Epoch 301/500\n",
      "14016/14016 [==============================] - 78s 6ms/step - loss: 0.1678 - accuracy: 0.9404 - val_loss: 0.1633 - val_accuracy: 0.9469\n",
      "Epoch 302/500\n",
      "14016/14016 [==============================] - 78s 6ms/step - loss: 0.1681 - accuracy: 0.9410 - val_loss: 0.1454 - val_accuracy: 0.9528\n",
      "Epoch 303/500\n",
      "14016/14016 [==============================] - 78s 6ms/step - loss: 0.1687 - accuracy: 0.9405 - val_loss: 0.1493 - val_accuracy: 0.9513\n",
      "Epoch 304/500\n",
      "14016/14016 [==============================] - 78s 6ms/step - loss: 0.1686 - accuracy: 0.9406 - val_loss: 0.2424 - val_accuracy: 0.9203\n",
      "Epoch 305/500\n",
      "14016/14016 [==============================] - 78s 6ms/step - loss: 0.1669 - accuracy: 0.9410 - val_loss: 0.1503 - val_accuracy: 0.9523\n",
      "Epoch 306/500\n",
      "14016/14016 [==============================] - 78s 6ms/step - loss: 0.1688 - accuracy: 0.9403 - val_loss: 0.2634 - val_accuracy: 0.9085\n",
      "Epoch 307/500\n",
      "14016/14016 [==============================] - 78s 6ms/step - loss: 0.1695 - accuracy: 0.9405 - val_loss: 0.1419 - val_accuracy: 0.9549\n",
      "Epoch 308/500\n",
      "14016/14016 [==============================] - 78s 6ms/step - loss: 0.1680 - accuracy: 0.9409 - val_loss: 0.1472 - val_accuracy: 0.9525\n",
      "Epoch 309/500\n",
      "14016/14016 [==============================] - 78s 6ms/step - loss: 0.1675 - accuracy: 0.9411 - val_loss: 0.1853 - val_accuracy: 0.9401\n",
      "Epoch 310/500\n",
      "14016/14016 [==============================] - 78s 6ms/step - loss: 0.1661 - accuracy: 0.9416 - val_loss: 0.1672 - val_accuracy: 0.9475\n",
      "Epoch 311/500\n",
      "14016/14016 [==============================] - 78s 6ms/step - loss: 0.1651 - accuracy: 0.9418 - val_loss: 0.1434 - val_accuracy: 0.9546\n",
      "Epoch 312/500\n",
      "14016/14016 [==============================] - 78s 6ms/step - loss: 0.1657 - accuracy: 0.9420 - val_loss: 0.1480 - val_accuracy: 0.9513\n",
      "Epoch 313/500\n",
      "14016/14016 [==============================] - 78s 6ms/step - loss: 0.1646 - accuracy: 0.9418 - val_loss: 0.1473 - val_accuracy: 0.9542\n",
      "Epoch 314/500\n",
      "14016/14016 [==============================] - 78s 6ms/step - loss: 0.1655 - accuracy: 0.9417 - val_loss: 0.1418 - val_accuracy: 0.9542\n",
      "Epoch 315/500\n",
      "14016/14016 [==============================] - 78s 6ms/step - loss: 0.1669 - accuracy: 0.9414 - val_loss: 0.1410 - val_accuracy: 0.9551\n",
      "Epoch 316/500\n",
      "14016/14016 [==============================] - 79s 6ms/step - loss: 0.1664 - accuracy: 0.9411 - val_loss: 0.1452 - val_accuracy: 0.9531\n",
      "Epoch 317/500\n",
      "14016/14016 [==============================] - 78s 6ms/step - loss: 0.1621 - accuracy: 0.9428 - val_loss: 0.1610 - val_accuracy: 0.9456\n",
      "Epoch 318/500\n",
      "14016/14016 [==============================] - 78s 6ms/step - loss: 0.1653 - accuracy: 0.9419 - val_loss: 0.1754 - val_accuracy: 0.9439\n",
      "Epoch 319/500\n",
      "14016/14016 [==============================] - 78s 6ms/step - loss: 0.1645 - accuracy: 0.9420 - val_loss: 0.1412 - val_accuracy: 0.9562\n",
      "Epoch 320/500\n",
      "14016/14016 [==============================] - 78s 6ms/step - loss: 0.1671 - accuracy: 0.9414 - val_loss: 0.1396 - val_accuracy: 0.9555\n",
      "Epoch 321/500\n",
      "14016/14016 [==============================] - 78s 6ms/step - loss: 0.1614 - accuracy: 0.9428 - val_loss: 0.1380 - val_accuracy: 0.9561\n",
      "Epoch 322/500\n",
      "14016/14016 [==============================] - 78s 6ms/step - loss: 0.1619 - accuracy: 0.9426 - val_loss: 0.1485 - val_accuracy: 0.9523\n",
      "Epoch 323/500\n",
      "14016/14016 [==============================] - 78s 6ms/step - loss: 0.1634 - accuracy: 0.9422 - val_loss: 0.1632 - val_accuracy: 0.9476\n",
      "Epoch 324/500\n",
      "14016/14016 [==============================] - 78s 6ms/step - loss: 0.1659 - accuracy: 0.9417 - val_loss: 0.1418 - val_accuracy: 0.9533\n",
      "Epoch 325/500\n",
      "14016/14016 [==============================] - 78s 6ms/step - loss: 0.1648 - accuracy: 0.9419 - val_loss: 0.1413 - val_accuracy: 0.9554\n",
      "Epoch 326/500\n",
      "14016/14016 [==============================] - 78s 6ms/step - loss: 0.1604 - accuracy: 0.9432 - val_loss: 0.1517 - val_accuracy: 0.9516\n",
      "Epoch 327/500\n",
      "14016/14016 [==============================] - 78s 6ms/step - loss: 0.1626 - accuracy: 0.9429 - val_loss: 0.1364 - val_accuracy: 0.9575\n",
      "Epoch 328/500\n",
      "14016/14016 [==============================] - 78s 6ms/step - loss: 0.1607 - accuracy: 0.9435 - val_loss: 0.1498 - val_accuracy: 0.9517\n"
     ]
    },
    {
     "name": "stdout",
     "output_type": "stream",
     "text": [
      "Epoch 329/500\n",
      "14016/14016 [==============================] - 78s 6ms/step - loss: 0.1627 - accuracy: 0.9427 - val_loss: 0.1602 - val_accuracy: 0.9466\n",
      "Epoch 330/500\n",
      "14016/14016 [==============================] - 78s 6ms/step - loss: 0.1621 - accuracy: 0.9427 - val_loss: 0.1355 - val_accuracy: 0.9573\n",
      "Epoch 331/500\n",
      "14016/14016 [==============================] - 78s 6ms/step - loss: 0.1628 - accuracy: 0.9427 - val_loss: 0.1760 - val_accuracy: 0.9432\n",
      "Epoch 332/500\n",
      "14016/14016 [==============================] - 78s 6ms/step - loss: 0.1609 - accuracy: 0.9433 - val_loss: 0.1376 - val_accuracy: 0.9556\n",
      "Epoch 333/500\n",
      "14016/14016 [==============================] - 78s 6ms/step - loss: 0.1638 - accuracy: 0.9422 - val_loss: 0.1408 - val_accuracy: 0.9556\n",
      "Epoch 334/500\n",
      "14016/14016 [==============================] - 78s 6ms/step - loss: 0.1649 - accuracy: 0.9419 - val_loss: 0.3312 - val_accuracy: 0.8874\n",
      "Epoch 335/500\n",
      "14016/14016 [==============================] - 78s 6ms/step - loss: 0.1616 - accuracy: 0.9430 - val_loss: 0.1393 - val_accuracy: 0.9561\n",
      "Epoch 336/500\n",
      "14016/14016 [==============================] - 78s 6ms/step - loss: 0.1618 - accuracy: 0.9428 - val_loss: 0.1993 - val_accuracy: 0.9354\n",
      "Epoch 337/500\n",
      "14016/14016 [==============================] - 78s 6ms/step - loss: 0.1603 - accuracy: 0.9432 - val_loss: 0.1362 - val_accuracy: 0.9572\n",
      "Epoch 338/500\n",
      "14016/14016 [==============================] - 78s 6ms/step - loss: 0.1638 - accuracy: 0.9426 - val_loss: 0.1375 - val_accuracy: 0.9557\n",
      "Epoch 339/500\n",
      "14016/14016 [==============================] - 78s 6ms/step - loss: 0.2444 - accuracy: 0.9161 - val_loss: 0.1374 - val_accuracy: 0.9563\n",
      "Epoch 340/500\n",
      "14016/14016 [==============================] - 78s 6ms/step - loss: 0.1627 - accuracy: 0.9429 - val_loss: 0.1499 - val_accuracy: 0.9530\n",
      "Epoch 341/500\n",
      "14016/14016 [==============================] - 78s 6ms/step - loss: 0.1625 - accuracy: 0.9428 - val_loss: 0.1500 - val_accuracy: 0.9526\n",
      "Epoch 342/500\n",
      "14016/14016 [==============================] - 78s 6ms/step - loss: 0.1625 - accuracy: 0.9428 - val_loss: 0.1526 - val_accuracy: 0.9507\n",
      "Epoch 343/500\n",
      "14016/14016 [==============================] - 78s 6ms/step - loss: 0.1601 - accuracy: 0.9436 - val_loss: 0.1382 - val_accuracy: 0.9572\n",
      "Epoch 344/500\n",
      "14016/14016 [==============================] - 78s 6ms/step - loss: 0.1581 - accuracy: 0.9439 - val_loss: 0.1421 - val_accuracy: 0.9540\n",
      "Epoch 345/500\n",
      "14016/14016 [==============================] - 78s 6ms/step - loss: 0.1590 - accuracy: 0.9440 - val_loss: 0.1379 - val_accuracy: 0.9566\n",
      "Epoch 346/500\n",
      "14016/14016 [==============================] - 78s 6ms/step - loss: 0.1628 - accuracy: 0.9430 - val_loss: 0.1389 - val_accuracy: 0.9568\n",
      "Epoch 347/500\n",
      "14016/14016 [==============================] - 78s 6ms/step - loss: 0.1600 - accuracy: 0.9438 - val_loss: 0.1520 - val_accuracy: 0.9523\n",
      "Epoch 348/500\n",
      "14016/14016 [==============================] - 79s 6ms/step - loss: 0.1599 - accuracy: 0.9438 - val_loss: 0.1369 - val_accuracy: 0.9561\n",
      "Epoch 349/500\n",
      "14016/14016 [==============================] - 78s 6ms/step - loss: 0.1597 - accuracy: 0.9439 - val_loss: 0.1569 - val_accuracy: 0.9485\n",
      "Epoch 350/500\n",
      "14016/14016 [==============================] - 78s 6ms/step - loss: 0.1593 - accuracy: 0.9438 - val_loss: 0.1459 - val_accuracy: 0.9525\n",
      "Epoch 351/500\n",
      "14016/14016 [==============================] - 78s 6ms/step - loss: 0.1625 - accuracy: 0.9426 - val_loss: 0.1486 - val_accuracy: 0.9527\n",
      "Epoch 352/500\n",
      "14016/14016 [==============================] - 78s 6ms/step - loss: 0.1599 - accuracy: 0.9436 - val_loss: 0.1484 - val_accuracy: 0.9517\n",
      "Epoch 353/500\n",
      "14016/14016 [==============================] - 78s 6ms/step - loss: 0.1580 - accuracy: 0.9444 - val_loss: 0.1338 - val_accuracy: 0.9575\n",
      "Epoch 354/500\n",
      "14016/14016 [==============================] - 78s 6ms/step - loss: 0.1613 - accuracy: 0.9436 - val_loss: 0.2283 - val_accuracy: 0.9256\n",
      "Epoch 355/500\n",
      "14016/14016 [==============================] - 78s 6ms/step - loss: 0.1604 - accuracy: 0.9436 - val_loss: 0.1336 - val_accuracy: 0.9571\n",
      "Epoch 356/500\n",
      "14016/14016 [==============================] - 78s 6ms/step - loss: 0.1587 - accuracy: 0.9437 - val_loss: 0.1384 - val_accuracy: 0.9575\n",
      "Epoch 357/500\n",
      "14016/14016 [==============================] - 78s 6ms/step - loss: 0.1606 - accuracy: 0.9437 - val_loss: 0.1319 - val_accuracy: 0.9584\n",
      "Epoch 358/500\n",
      "14016/14016 [==============================] - 78s 6ms/step - loss: 0.1600 - accuracy: 0.9437 - val_loss: 0.1473 - val_accuracy: 0.9539\n",
      "Epoch 359/500\n",
      "14016/14016 [==============================] - 78s 6ms/step - loss: 0.1599 - accuracy: 0.9438 - val_loss: 0.1559 - val_accuracy: 0.9504\n",
      "Epoch 360/500\n",
      "14016/14016 [==============================] - 78s 6ms/step - loss: 0.1617 - accuracy: 0.9431 - val_loss: 0.1464 - val_accuracy: 0.9527\n",
      "Epoch 361/500\n",
      "14016/14016 [==============================] - 78s 6ms/step - loss: 0.1595 - accuracy: 0.9440 - val_loss: 0.1625 - val_accuracy: 0.9491\n",
      "Epoch 362/500\n",
      "14016/14016 [==============================] - 78s 6ms/step - loss: 0.1612 - accuracy: 0.9432 - val_loss: 0.2757 - val_accuracy: 0.9100\n",
      "Epoch 363/500\n",
      "14016/14016 [==============================] - 78s 6ms/step - loss: 0.1581 - accuracy: 0.9444 - val_loss: 0.1325 - val_accuracy: 0.9576\n",
      "Epoch 364/500\n",
      "14016/14016 [==============================] - 78s 6ms/step - loss: 0.1593 - accuracy: 0.9441 - val_loss: 1.6306 - val_accuracy: 0.6331\n",
      "Epoch 365/500\n",
      "14016/14016 [==============================] - 78s 6ms/step - loss: 0.1559 - accuracy: 0.9455 - val_loss: 0.1370 - val_accuracy: 0.9557\n",
      "Epoch 366/500\n",
      "14016/14016 [==============================] - 78s 6ms/step - loss: 0.1568 - accuracy: 0.9447 - val_loss: 0.2509 - val_accuracy: 0.9152\n",
      "Epoch 367/500\n",
      "14016/14016 [==============================] - 78s 6ms/step - loss: 0.1600 - accuracy: 0.9439 - val_loss: 0.1320 - val_accuracy: 0.9589\n",
      "Epoch 368/500\n",
      "14016/14016 [==============================] - 78s 6ms/step - loss: 0.1572 - accuracy: 0.9448 - val_loss: 0.1449 - val_accuracy: 0.9541\n",
      "Epoch 369/500\n",
      "14016/14016 [==============================] - 78s 6ms/step - loss: 0.1572 - accuracy: 0.9447 - val_loss: 0.1686 - val_accuracy: 0.9463\n",
      "Epoch 370/500\n",
      "14016/14016 [==============================] - 78s 6ms/step - loss: 0.1571 - accuracy: 0.9446 - val_loss: 0.1402 - val_accuracy: 0.9550\n",
      "Epoch 371/500\n",
      "14016/14016 [==============================] - 78s 6ms/step - loss: 0.1588 - accuracy: 0.9441 - val_loss: 0.1324 - val_accuracy: 0.9575\n",
      "Epoch 372/500\n",
      "14016/14016 [==============================] - 78s 6ms/step - loss: 0.1576 - accuracy: 0.9446 - val_loss: 0.1460 - val_accuracy: 0.9540\n",
      "Epoch 373/500\n",
      "14016/14016 [==============================] - 78s 6ms/step - loss: 0.1547 - accuracy: 0.9454 - val_loss: 0.1335 - val_accuracy: 0.9573\n",
      "Epoch 374/500\n",
      "14016/14016 [==============================] - 78s 6ms/step - loss: 0.1560 - accuracy: 0.9453 - val_loss: 0.1366 - val_accuracy: 0.9572\n",
      "Epoch 375/500\n",
      "14016/14016 [==============================] - 78s 6ms/step - loss: 0.1568 - accuracy: 0.9448 - val_loss: 0.1336 - val_accuracy: 0.9573\n",
      "Epoch 376/500\n",
      "14016/14016 [==============================] - 78s 6ms/step - loss: 0.1560 - accuracy: 0.9453 - val_loss: 0.1358 - val_accuracy: 0.9565\n",
      "Epoch 377/500\n",
      "14016/14016 [==============================] - 78s 6ms/step - loss: 0.1579 - accuracy: 0.9446 - val_loss: 0.1481 - val_accuracy: 0.9516\n",
      "Epoch 378/500\n",
      "14016/14016 [==============================] - 78s 6ms/step - loss: 0.1546 - accuracy: 0.9454 - val_loss: 0.1319 - val_accuracy: 0.9585\n",
      "Epoch 379/500\n",
      "14016/14016 [==============================] - 78s 6ms/step - loss: 0.1578 - accuracy: 0.9444 - val_loss: 0.1373 - val_accuracy: 0.9575\n",
      "Epoch 380/500\n",
      "14016/14016 [==============================] - 79s 6ms/step - loss: 0.1548 - accuracy: 0.9455 - val_loss: 0.1420 - val_accuracy: 0.9557\n",
      "Epoch 381/500\n",
      "14016/14016 [==============================] - 78s 6ms/step - loss: 0.1559 - accuracy: 0.9450 - val_loss: 0.1416 - val_accuracy: 0.9552\n",
      "Epoch 382/500\n",
      "14016/14016 [==============================] - 78s 6ms/step - loss: 0.1543 - accuracy: 0.9456 - val_loss: 0.1370 - val_accuracy: 0.9583\n",
      "Epoch 383/500\n"
     ]
    },
    {
     "name": "stdout",
     "output_type": "stream",
     "text": [
      "14016/14016 [==============================] - 78s 6ms/step - loss: 0.1596 - accuracy: 0.9441 - val_loss: 0.3377 - val_accuracy: 0.8869\n",
      "Epoch 384/500\n",
      "14016/14016 [==============================] - 78s 6ms/step - loss: 0.1549 - accuracy: 0.9456 - val_loss: 0.1377 - val_accuracy: 0.9567\n",
      "Epoch 385/500\n",
      "14016/14016 [==============================] - 78s 6ms/step - loss: 0.1569 - accuracy: 0.9449 - val_loss: 0.1346 - val_accuracy: 0.9567\n",
      "Epoch 386/500\n",
      "14016/14016 [==============================] - 78s 6ms/step - loss: 0.1527 - accuracy: 0.9459 - val_loss: 0.1332 - val_accuracy: 0.9583\n",
      "Epoch 387/500\n",
      "14016/14016 [==============================] - 78s 6ms/step - loss: 0.1562 - accuracy: 0.9449 - val_loss: 0.1742 - val_accuracy: 0.9436\n",
      "Epoch 388/500\n",
      "14016/14016 [==============================] - 78s 6ms/step - loss: 0.1540 - accuracy: 0.9456 - val_loss: 0.1405 - val_accuracy: 0.9539\n",
      "Epoch 389/500\n",
      "14016/14016 [==============================] - 78s 6ms/step - loss: 0.1554 - accuracy: 0.9451 - val_loss: 0.1372 - val_accuracy: 0.9565\n",
      "Epoch 390/500\n",
      "14016/14016 [==============================] - 78s 6ms/step - loss: 0.1557 - accuracy: 0.9454 - val_loss: 0.1470 - val_accuracy: 0.9528\n",
      "Epoch 391/500\n",
      "14016/14016 [==============================] - 78s 6ms/step - loss: 0.1588 - accuracy: 0.9447 - val_loss: 0.1930 - val_accuracy: 0.9359\n",
      "Epoch 392/500\n",
      "14016/14016 [==============================] - 78s 6ms/step - loss: 0.1526 - accuracy: 0.9458 - val_loss: 0.1666 - val_accuracy: 0.9465\n",
      "Epoch 393/500\n",
      "14016/14016 [==============================] - 78s 6ms/step - loss: 0.1561 - accuracy: 0.9450 - val_loss: 0.1393 - val_accuracy: 0.9550\n",
      "Epoch 394/500\n",
      "14016/14016 [==============================] - 78s 6ms/step - loss: 0.1529 - accuracy: 0.9460 - val_loss: 0.1369 - val_accuracy: 0.9576\n",
      "Epoch 395/500\n",
      "14016/14016 [==============================] - 78s 6ms/step - loss: 0.1551 - accuracy: 0.9453 - val_loss: 0.3288 - val_accuracy: 0.8947\n",
      "Epoch 396/500\n",
      "14016/14016 [==============================] - 78s 6ms/step - loss: 0.1550 - accuracy: 0.9455 - val_loss: 0.1393 - val_accuracy: 0.9550\n",
      "Epoch 397/500\n",
      "14016/14016 [==============================] - 78s 6ms/step - loss: 0.1514 - accuracy: 0.9463 - val_loss: 0.1428 - val_accuracy: 0.9540\n",
      "Epoch 398/500\n",
      "14016/14016 [==============================] - 78s 6ms/step - loss: 0.1556 - accuracy: 0.9456 - val_loss: 0.1532 - val_accuracy: 0.9488\n",
      "Epoch 399/500\n",
      "14016/14016 [==============================] - 78s 6ms/step - loss: 0.1556 - accuracy: 0.9450 - val_loss: 0.1549 - val_accuracy: 0.9488\n",
      "Epoch 400/500\n",
      "14016/14016 [==============================] - 78s 6ms/step - loss: 0.1541 - accuracy: 0.9457 - val_loss: 0.1609 - val_accuracy: 0.9466\n",
      "Epoch 401/500\n",
      "14016/14016 [==============================] - 78s 6ms/step - loss: 0.1546 - accuracy: 0.9457 - val_loss: 0.1362 - val_accuracy: 0.9561\n",
      "Epoch 402/500\n",
      "14016/14016 [==============================] - 78s 6ms/step - loss: 0.1535 - accuracy: 0.9462 - val_loss: 0.1558 - val_accuracy: 0.9500\n",
      "Epoch 403/500\n",
      "14016/14016 [==============================] - 78s 6ms/step - loss: 0.1506 - accuracy: 0.9464 - val_loss: 0.1452 - val_accuracy: 0.9527\n",
      "Epoch 404/500\n",
      "14016/14016 [==============================] - 78s 6ms/step - loss: 0.1528 - accuracy: 0.9460 - val_loss: 0.1369 - val_accuracy: 0.9564\n",
      "Epoch 405/500\n",
      "14016/14016 [==============================] - 78s 6ms/step - loss: 0.1539 - accuracy: 0.9457 - val_loss: 0.1459 - val_accuracy: 0.9532\n",
      "Epoch 406/500\n",
      "14016/14016 [==============================] - 78s 6ms/step - loss: 0.1506 - accuracy: 0.9470 - val_loss: 0.1419 - val_accuracy: 0.9540\n",
      "Epoch 407/500\n",
      "14016/14016 [==============================] - 79s 6ms/step - loss: 0.1525 - accuracy: 0.9461 - val_loss: 0.1418 - val_accuracy: 0.9547\n",
      "547/547 [==============================] - 2s 3ms/step - loss: 0.1418 - accuracy: 0.9547\n",
      "553/553 [==============================] - 2s 3ms/step - loss: 0.1429 - accuracy: 0.9543\n"
     ]
    }
   ],
   "source": [
    "history = compile_and_fit(gru_model, train_df, y_train_df, val_df, y_val_df)\n",
    "val_performance = {}\n",
    "performance = {}\n",
    "val_performance['GRU'] = gru_model.evaluate(val_df, y_val_df)\n",
    "performance['GRU'] = gru_model.evaluate(test_df, y_test_df, verbose=1)"
   ]
  },
  {
   "cell_type": "code",
   "execution_count": 58,
   "id": "22c0b71d",
   "metadata": {
    "id": "22c0b71d"
   },
   "outputs": [],
   "source": [
    "# gru_model.save(\"/content/drive/MyDrive/hdfdiff/GRU_model_diff_gaia_N4.h5\")\n",
    "gru_model.save(\"GRU_model_diff_gaia_N4_100_optimazer.h5\") "
   ]
  },
  {
   "cell_type": "code",
   "execution_count": 59,
   "id": "ba9f160f",
   "metadata": {
    "id": "ba9f160f"
   },
   "outputs": [
    {
     "data": {
      "image/png": "[encoded data removed]",
      "text/plain": [
       "<Figure size 432x288 with 1 Axes>"
      ]
     },
     "metadata": {
      "needs_background": "light"
     },
     "output_type": "display_data"
    }
   ],
   "source": [
    "# history = model.fit(X_train, Y_train, validation_data=(X_test, Y_test), batch_size=32, epochs=10, verbose=1)\n",
    "\n",
    "# Get training and test loss histories\n",
    "training_loss = history.history['accuracy']\n",
    "test_loss = history.history['val_accuracy']\n",
    "\n",
    "# Create count of the number of epochs\n",
    "epoch_count = range(1, len(training_loss) + 1)\n",
    "\n",
    "# Visualize loss history\n",
    "plt.plot(epoch_count, training_loss, 'r--')\n",
    "plt.plot(epoch_count, test_loss, 'b-')\n",
    "plt.legend(['Training accuracy', 'Test accuracy'])\n",
    "plt.xlabel('Epoch')\n",
    "plt.ylabel('accuracy')\n",
    "plt.show()"
   ]
  },
  {
   "cell_type": "code",
   "execution_count": null,
   "id": "72fe8b9d",
   "metadata": {
    "id": "72fe8b9d"
   },
   "outputs": [],
   "source": []
  }
 ],
 "metadata": {
  "accelerator": "GPU",
  "colab": {
   "collapsed_sections": [],
   "name": "Gaia_labeled_SMOTE-LSTM-GRU(N,4)100-Copy1.ipynb",
   "provenance": []
  },
  "gpuClass": "standard",
  "kernelspec": {
   "display_name": "Python 3 (ipykernel)",
   "language": "python",
   "name": "python3"
  },
  "language_info": {
   "codemirror_mode": {
    "name": "ipython",
    "version": 3
   },
   "file_extension": ".py",
   "mimetype": "text/x-python",
   "name": "python",
   "nbconvert_exporter": "python",
   "pygments_lexer": "ipython3",
   "version": "3.9.7"
  }
 },
 "nbformat": 4,
 "nbformat_minor": 5
}
