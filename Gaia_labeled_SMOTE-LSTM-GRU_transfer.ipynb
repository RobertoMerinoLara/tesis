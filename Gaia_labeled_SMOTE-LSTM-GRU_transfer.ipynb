{
 "cells": [
  {
   "cell_type": "code",
   "execution_count": 1,
   "id": "af1c0d1a",
   "metadata": {
    "id": "af1c0d1a"
   },
   "outputs": [],
   "source": [
    "import IPython\n",
    "import IPython.display\n",
    "import numpy as np\n",
    "import pandas as pd\n",
    "import glob\n",
    "import joblib  \n",
    "import matplotlib.pyplot as plt\n",
    "import seaborn as sns\n",
    "import tensorflow as tf\n",
    "from sklearn.model_selection import train_test_split\n",
    "from imblearn.over_sampling import SMOTE\n",
    "import imblearn\n",
    "from collections import Counter\n",
    "from sklearn.preprocessing import LabelEncoder\n",
    "from imblearn.datasets import make_imbalance\n",
    "from sklearn.compose import make_column_transformer\n",
    "from sklearn.pipeline import Pipeline, make_pipeline\n",
    "import numpy as geek "
   ]
  },
  {
   "cell_type": "code",
   "execution_count": 2,
   "id": "by9M1QU6ifRM",
   "metadata": {
    "id": "by9M1QU6ifRM"
   },
   "outputs": [],
   "source": [
    "# !pip install h5py"
   ]
  },
  {
   "cell_type": "code",
   "execution_count": 3,
   "id": "b9347a73",
   "metadata": {
    "id": "b9347a73"
   },
   "outputs": [],
   "source": [
    "df1 = pd.read_hdf('D:\\Tesis\\hdf\\gaia\\gaia_label_full_22_500.hdf')\n",
    "yframes = pd.read_hdf('D:\\Tesis\\hdf\\gaia\\gaia_output_ful_22_500.hdf')"
   ]
  },
  {
   "cell_type": "code",
   "execution_count": 4,
   "id": "PPQqBRMbKe92",
   "metadata": {
    "id": "PPQqBRMbKe92"
   },
   "outputs": [],
   "source": [
    "# yframes = pd.read_hdf('/content/drive/MyDrive/Colab Notebooks/Data/gaia_output_full_diff.hdf')\n",
    "df2 = pd.read_hdf('D:\\Tesis\\hdf\\gaia\\gaia_label_full_diff.hdf')"
   ]
  },
  {
   "cell_type": "code",
   "execution_count": 5,
   "id": "CWWCceZKonKX",
   "metadata": {
    "id": "CWWCceZKonKX"
   },
   "outputs": [],
   "source": [
    "# from google.colab import drive\n",
    "# drive.mount('/content/drive')"
   ]
  },
  {
   "cell_type": "code",
   "execution_count": 6,
   "id": "7815191c",
   "metadata": {
    "colab": {
     "base_uri": "https://localhost:8080/"
    },
    "id": "7815191c",
    "outputId": "3391697c-52bf-471a-e6b3-0a04bc5bf449"
   },
   "outputs": [
    {
     "name": "stdout",
     "output_type": "stream",
     "text": [
      "                time        mag\n",
      "0        1711.234429  19.595734\n",
      "1        1711.308429  19.755899\n",
      "2        1733.180046  19.918856\n",
      "3        1733.356191  19.303412\n",
      "4        1733.606337  19.871112\n",
      "...              ...        ...\n",
      "3886537  1897.958046  14.752536\n",
      "3886538  1898.208233  15.127580\n",
      "3886539  1898.458392  15.327697\n",
      "3886540  1940.361672  15.240801\n",
      "3886541  1978.841512  15.328986\n",
      "\n",
      "[3886542 rows x 2 columns]\n"
     ]
    }
   ],
   "source": [
    "print(df1)"
   ]
  },
  {
   "cell_type": "code",
   "execution_count": 7,
   "id": "m52gdqN3NvAd",
   "metadata": {
    "colab": {
     "base_uri": "https://localhost:8080/"
    },
    "id": "m52gdqN3NvAd",
    "outputId": "b9e272e8-51df-48d9-d816-d2d629ee83ff"
   },
   "outputs": [
    {
     "name": "stdout",
     "output_type": "stream",
     "text": [
      "              time       mag\n",
      "0         0.074000  0.160165\n",
      "1        21.871617  0.162957\n",
      "2         0.176146 -0.615444\n",
      "3         0.250145  0.567700\n",
      "4         0.250143 -0.426121\n",
      "...            ...       ...\n",
      "3886537   0.250186  0.375043\n",
      "3886538   0.250159  0.200117\n",
      "3886539  41.903280 -0.086895\n",
      "3886540  38.479840  0.088185\n",
      "3886541   0.074014 -0.219634\n",
      "\n",
      "[3886542 rows x 2 columns]\n"
     ]
    }
   ],
   "source": [
    "print(df2)"
   ]
  },
  {
   "cell_type": "code",
   "execution_count": 8,
   "id": "xUh507NYOcTO",
   "metadata": {
    "id": "xUh507NYOcTO"
   },
   "outputs": [],
   "source": [
    "df1.columns = ['Time','Mag']\n",
    "df2.columns = ['diffTime','diffMag']"
   ]
  },
  {
   "cell_type": "code",
   "execution_count": 9,
   "id": "rdbsAQ75O8gd",
   "metadata": {
    "colab": {
     "base_uri": "https://localhost:8080/"
    },
    "id": "rdbsAQ75O8gd",
    "outputId": "4e30b2c6-20ad-44c1-9564-749de292d482"
   },
   "outputs": [
    {
     "name": "stdout",
     "output_type": "stream",
     "text": [
      "          diffTime   diffMag\n",
      "0         0.074000  0.160165\n",
      "1        21.871617  0.162957\n",
      "2         0.176146 -0.615444\n",
      "3         0.250145  0.567700\n",
      "4         0.250143 -0.426121\n",
      "...            ...       ...\n",
      "3886537   0.250186  0.375043\n",
      "3886538   0.250159  0.200117\n",
      "3886539  41.903280 -0.086895\n",
      "3886540  38.479840  0.088185\n",
      "3886541   0.074014 -0.219634\n",
      "\n",
      "[3886542 rows x 2 columns]\n"
     ]
    }
   ],
   "source": [
    "print(df2)"
   ]
  },
  {
   "cell_type": "code",
   "execution_count": 10,
   "id": "2WBzIgEjO_yV",
   "metadata": {
    "id": "2WBzIgEjO_yV"
   },
   "outputs": [],
   "source": [
    "df = pd.concat([df1, df2], axis=1)"
   ]
  },
  {
   "cell_type": "code",
   "execution_count": 11,
   "id": "sUgVwV-BPq4u",
   "metadata": {
    "colab": {
     "base_uri": "https://localhost:8080/"
    },
    "id": "sUgVwV-BPq4u",
    "outputId": "dceb4769-a1c7-4c16-baaf-fe0b61fe14d4"
   },
   "outputs": [
    {
     "name": "stdout",
     "output_type": "stream",
     "text": [
      "                Time        Mag   diffTime   diffMag\n",
      "0        1711.234429  19.595734   0.074000  0.160165\n",
      "1        1711.308429  19.755899  21.871617  0.162957\n",
      "2        1733.180046  19.918856   0.176146 -0.615444\n",
      "3        1733.356191  19.303412   0.250145  0.567700\n",
      "4        1733.606337  19.871112   0.250143 -0.426121\n",
      "...              ...        ...        ...       ...\n",
      "3886537  1897.958046  14.752536   0.250186  0.375043\n",
      "3886538  1898.208233  15.127580   0.250159  0.200117\n",
      "3886539  1898.458392  15.327697  41.903280 -0.086895\n",
      "3886540  1940.361672  15.240801  38.479840  0.088185\n",
      "3886541  1978.841512  15.328986   0.074014 -0.219634\n",
      "\n",
      "[3886542 rows x 4 columns]\n"
     ]
    }
   ],
   "source": [
    "print(df)"
   ]
  },
  {
   "cell_type": "code",
   "execution_count": 12,
   "id": "TB7612DTP7MW",
   "metadata": {
    "colab": {
     "base_uri": "https://localhost:8080/"
    },
    "id": "TB7612DTP7MW",
    "outputId": "4c182aea-fd4c-4b76-f139-3b833b691a69"
   },
   "outputs": [
    {
     "name": "stdout",
     "output_type": "stream",
     "text": [
      "(3886542, 4)\n"
     ]
    }
   ],
   "source": [
    "print(df.shape)"
   ]
  },
  {
   "cell_type": "code",
   "execution_count": 13,
   "id": "6a7d33e2",
   "metadata": {
    "colab": {
     "base_uri": "https://localhost:8080/"
    },
    "id": "6a7d33e2",
    "outputId": "a615edf3-61b4-462a-babc-59c8a7821a6f"
   },
   "outputs": [
    {
     "name": "stdout",
     "output_type": "stream",
     "text": [
      "(176661, 1)\n"
     ]
    }
   ],
   "source": [
    "print(yframes.shape)"
   ]
  },
  {
   "cell_type": "code",
   "execution_count": 14,
   "id": "f6b6232a",
   "metadata": {
    "id": "f6b6232a"
   },
   "outputs": [],
   "source": [
    "sample_size = 22"
   ]
  },
  {
   "cell_type": "code",
   "execution_count": 15,
   "id": "bf738f63",
   "metadata": {
    "colab": {
     "base_uri": "https://localhost:8080/",
     "height": 771
    },
    "id": "bf738f63",
    "outputId": "25cd8670-e154-40b8-d883-0fb8d20d0caa"
   },
   "outputs": [
    {
     "data": {
      "text/html": [
       "<div>\n",
       "<style scoped>\n",
       "    .dataframe tbody tr th:only-of-type {\n",
       "        vertical-align: middle;\n",
       "    }\n",
       "\n",
       "    .dataframe tbody tr th {\n",
       "        vertical-align: top;\n",
       "    }\n",
       "\n",
       "    .dataframe thead th {\n",
       "        text-align: right;\n",
       "    }\n",
       "</style>\n",
       "<table border=\"1\" class=\"dataframe\">\n",
       "  <thead>\n",
       "    <tr style=\"text-align: right;\">\n",
       "      <th></th>\n",
       "      <th>Time</th>\n",
       "      <th>Mag</th>\n",
       "      <th>diffTime</th>\n",
       "      <th>diffMag</th>\n",
       "    </tr>\n",
       "  </thead>\n",
       "  <tbody>\n",
       "    <tr>\n",
       "      <th>0</th>\n",
       "      <td>1711.234429</td>\n",
       "      <td>19.595734</td>\n",
       "      <td>0.074000</td>\n",
       "      <td>0.160165</td>\n",
       "    </tr>\n",
       "    <tr>\n",
       "      <th>1</th>\n",
       "      <td>1711.308429</td>\n",
       "      <td>19.755899</td>\n",
       "      <td>21.871617</td>\n",
       "      <td>0.162957</td>\n",
       "    </tr>\n",
       "    <tr>\n",
       "      <th>2</th>\n",
       "      <td>1733.180046</td>\n",
       "      <td>19.918856</td>\n",
       "      <td>0.176146</td>\n",
       "      <td>-0.615444</td>\n",
       "    </tr>\n",
       "    <tr>\n",
       "      <th>3</th>\n",
       "      <td>1733.356191</td>\n",
       "      <td>19.303412</td>\n",
       "      <td>0.250145</td>\n",
       "      <td>0.567700</td>\n",
       "    </tr>\n",
       "    <tr>\n",
       "      <th>4</th>\n",
       "      <td>1733.606337</td>\n",
       "      <td>19.871112</td>\n",
       "      <td>0.250143</td>\n",
       "      <td>-0.426121</td>\n",
       "    </tr>\n",
       "    <tr>\n",
       "      <th>5</th>\n",
       "      <td>1733.856479</td>\n",
       "      <td>19.444991</td>\n",
       "      <td>5.002683</td>\n",
       "      <td>0.479983</td>\n",
       "    </tr>\n",
       "    <tr>\n",
       "      <th>6</th>\n",
       "      <td>1738.859162</td>\n",
       "      <td>19.924974</td>\n",
       "      <td>0.250144</td>\n",
       "      <td>-0.250726</td>\n",
       "    </tr>\n",
       "    <tr>\n",
       "      <th>7</th>\n",
       "      <td>1739.109307</td>\n",
       "      <td>19.674248</td>\n",
       "      <td>0.074001</td>\n",
       "      <td>0.184989</td>\n",
       "    </tr>\n",
       "    <tr>\n",
       "      <th>8</th>\n",
       "      <td>1739.183308</td>\n",
       "      <td>19.859238</td>\n",
       "      <td>0.176145</td>\n",
       "      <td>0.166251</td>\n",
       "    </tr>\n",
       "    <tr>\n",
       "      <th>9</th>\n",
       "      <td>1739.359453</td>\n",
       "      <td>20.025488</td>\n",
       "      <td>0.073974</td>\n",
       "      <td>-1.040372</td>\n",
       "    </tr>\n",
       "    <tr>\n",
       "      <th>10</th>\n",
       "      <td>1739.433428</td>\n",
       "      <td>18.985117</td>\n",
       "      <td>0.176175</td>\n",
       "      <td>0.813892</td>\n",
       "    </tr>\n",
       "    <tr>\n",
       "      <th>11</th>\n",
       "      <td>1739.609603</td>\n",
       "      <td>19.799009</td>\n",
       "      <td>87.367772</td>\n",
       "      <td>0.179823</td>\n",
       "    </tr>\n",
       "    <tr>\n",
       "      <th>12</th>\n",
       "      <td>1826.977375</td>\n",
       "      <td>19.978831</td>\n",
       "      <td>0.176171</td>\n",
       "      <td>-0.572535</td>\n",
       "    </tr>\n",
       "    <tr>\n",
       "      <th>13</th>\n",
       "      <td>1827.153546</td>\n",
       "      <td>19.406297</td>\n",
       "      <td>0.074005</td>\n",
       "      <td>0.243120</td>\n",
       "    </tr>\n",
       "    <tr>\n",
       "      <th>14</th>\n",
       "      <td>1827.227551</td>\n",
       "      <td>19.649417</td>\n",
       "      <td>0.176175</td>\n",
       "      <td>0.347751</td>\n",
       "    </tr>\n",
       "    <tr>\n",
       "      <th>15</th>\n",
       "      <td>1827.403726</td>\n",
       "      <td>19.997167</td>\n",
       "      <td>10.505863</td>\n",
       "      <td>-0.887691</td>\n",
       "    </tr>\n",
       "    <tr>\n",
       "      <th>16</th>\n",
       "      <td>1837.909589</td>\n",
       "      <td>19.109477</td>\n",
       "      <td>0.074012</td>\n",
       "      <td>0.414910</td>\n",
       "    </tr>\n",
       "    <tr>\n",
       "      <th>17</th>\n",
       "      <td>1837.983601</td>\n",
       "      <td>19.524387</td>\n",
       "      <td>0.176172</td>\n",
       "      <td>0.378822</td>\n",
       "    </tr>\n",
       "    <tr>\n",
       "      <th>18</th>\n",
       "      <td>1838.159773</td>\n",
       "      <td>19.903209</td>\n",
       "      <td>0.074014</td>\n",
       "      <td>0.033502</td>\n",
       "    </tr>\n",
       "    <tr>\n",
       "      <th>19</th>\n",
       "      <td>1838.233787</td>\n",
       "      <td>19.936711</td>\n",
       "      <td>76.129854</td>\n",
       "      <td>-0.261412</td>\n",
       "    </tr>\n",
       "    <tr>\n",
       "      <th>20</th>\n",
       "      <td>1914.363641</td>\n",
       "      <td>19.675298</td>\n",
       "      <td>0.250187</td>\n",
       "      <td>0.309713</td>\n",
       "    </tr>\n",
       "    <tr>\n",
       "      <th>21</th>\n",
       "      <td>1914.613828</td>\n",
       "      <td>19.985012</td>\n",
       "      <td>0.074013</td>\n",
       "      <td>-0.747104</td>\n",
       "    </tr>\n",
       "    <tr>\n",
       "      <th>22</th>\n",
       "      <td>1760.852059</td>\n",
       "      <td>16.864279</td>\n",
       "      <td>0.074028</td>\n",
       "      <td>0.080791</td>\n",
       "    </tr>\n",
       "  </tbody>\n",
       "</table>\n",
       "</div>"
      ],
      "text/plain": [
       "           Time        Mag   diffTime   diffMag\n",
       "0   1711.234429  19.595734   0.074000  0.160165\n",
       "1   1711.308429  19.755899  21.871617  0.162957\n",
       "2   1733.180046  19.918856   0.176146 -0.615444\n",
       "3   1733.356191  19.303412   0.250145  0.567700\n",
       "4   1733.606337  19.871112   0.250143 -0.426121\n",
       "5   1733.856479  19.444991   5.002683  0.479983\n",
       "6   1738.859162  19.924974   0.250144 -0.250726\n",
       "7   1739.109307  19.674248   0.074001  0.184989\n",
       "8   1739.183308  19.859238   0.176145  0.166251\n",
       "9   1739.359453  20.025488   0.073974 -1.040372\n",
       "10  1739.433428  18.985117   0.176175  0.813892\n",
       "11  1739.609603  19.799009  87.367772  0.179823\n",
       "12  1826.977375  19.978831   0.176171 -0.572535\n",
       "13  1827.153546  19.406297   0.074005  0.243120\n",
       "14  1827.227551  19.649417   0.176175  0.347751\n",
       "15  1827.403726  19.997167  10.505863 -0.887691\n",
       "16  1837.909589  19.109477   0.074012  0.414910\n",
       "17  1837.983601  19.524387   0.176172  0.378822\n",
       "18  1838.159773  19.903209   0.074014  0.033502\n",
       "19  1838.233787  19.936711  76.129854 -0.261412\n",
       "20  1914.363641  19.675298   0.250187  0.309713\n",
       "21  1914.613828  19.985012   0.074013 -0.747104\n",
       "22  1760.852059  16.864279   0.074028  0.080791"
      ]
     },
     "execution_count": 15,
     "metadata": {},
     "output_type": "execute_result"
    }
   ],
   "source": [
    "df.head(sample_size+1)"
   ]
  },
  {
   "cell_type": "code",
   "execution_count": 16,
   "id": "b04ca8c9",
   "metadata": {
    "id": "b04ca8c9"
   },
   "outputs": [],
   "source": [
    "# plt.plot(df.iloc[0:(sample_size-1), 0], df.iloc[0:(sample_size-1), 1])"
   ]
  },
  {
   "cell_type": "code",
   "execution_count": 17,
   "id": "f8d5996c",
   "metadata": {
    "colab": {
     "base_uri": "https://localhost:8080/"
    },
    "id": "f8d5996c",
    "outputId": "bcab1310-ccf8-431a-d13d-1868d88e797e"
   },
   "outputs": [
    {
     "data": {
      "text/plain": [
       "Time        1914.613828\n",
       "Mag           19.985012\n",
       "diffTime       0.074013\n",
       "diffMag       -0.747104\n",
       "Name: 21, dtype: float64"
      ]
     },
     "execution_count": 17,
     "metadata": {},
     "output_type": "execute_result"
    }
   ],
   "source": [
    "df.iloc[sample_size-1]"
   ]
  },
  {
   "cell_type": "code",
   "execution_count": 18,
   "id": "d753d2f0",
   "metadata": {
    "colab": {
     "base_uri": "https://localhost:8080/"
    },
    "id": "d753d2f0",
    "outputId": "e936d7a4-60d3-48e9-ae03-94e31b5641f0"
   },
   "outputs": [
    {
     "name": "stdout",
     "output_type": "stream",
     "text": [
      "train_df:  (14150, 22, 4)\n",
      "y_train_df:  (14150, 1)\n",
      "val_df:  (17490, 22, 4)\n",
      "test_df:  (17667, 22, 4)\n",
      "trash_x (127354, 22, 4)\n"
     ]
    }
   ],
   "source": [
    "#yframes lista de clase de salida\n",
    "df_array = df.to_numpy()\n",
    "array_flat = np.reshape(df_array,((int(len(df)/sample_size), sample_size, 4)))\n",
    "#df_array.shape\n",
    "\n",
    "column_indices = {name: i for i, name in enumerate(df.columns)}\n",
    "\n",
    "#Tomamos el 10% de la data para test (0.1)\n",
    "X_train_val, test_df, y_train_val, y_test_df = train_test_split(array_flat, yframes, test_size=0.1, random_state=42)\n",
    "#Tomamos el 10% de la data para validación (0.11)\n",
    "X_trainp, val_df, y_trainp, y_val_df = train_test_split(X_train_val, y_train_val, test_size=0.11, random_state=42)\n",
    "\n",
    "#Generar training, 1-test_size = porcentaje\n",
    "train_df, trash_x, y_train_df, trash_y = train_test_split(X_trainp, y_trainp, test_size=0.90, random_state=42)\n",
    "\n",
    "# X_train_val, test_df = train_test_split(array_flat, test_size=0.1, random_state=42)\n",
    "# train_df, val_df = train_test_split(X_train_val, test_size=0.384, random_state=42)\n",
    "\n",
    "print('train_df: ',train_df.shape)\n",
    "print('y_train_df: ',y_train_df.shape)\n",
    "print('val_df: ',val_df.shape)\n",
    "print('test_df: ',test_df.shape)\n",
    "print('trash_x',trash_x.shape)"
   ]
  },
  {
   "cell_type": "code",
   "execution_count": 19,
   "id": "b957e6ab",
   "metadata": {},
   "outputs": [
    {
     "data": {
      "text/html": [
       "<div>\n",
       "<style scoped>\n",
       "    .dataframe tbody tr th:only-of-type {\n",
       "        vertical-align: middle;\n",
       "    }\n",
       "\n",
       "    .dataframe tbody tr th {\n",
       "        vertical-align: top;\n",
       "    }\n",
       "\n",
       "    .dataframe thead th {\n",
       "        text-align: right;\n",
       "    }\n",
       "</style>\n",
       "<table border=\"1\" class=\"dataframe\">\n",
       "  <thead>\n",
       "    <tr style=\"text-align: right;\">\n",
       "      <th></th>\n",
       "      <th>class</th>\n",
       "    </tr>\n",
       "  </thead>\n",
       "  <tbody>\n",
       "    <tr>\n",
       "      <th>172301</th>\n",
       "      <td>2</td>\n",
       "    </tr>\n",
       "    <tr>\n",
       "      <th>159988</th>\n",
       "      <td>0</td>\n",
       "    </tr>\n",
       "    <tr>\n",
       "      <th>5491</th>\n",
       "      <td>1</td>\n",
       "    </tr>\n",
       "    <tr>\n",
       "      <th>77075</th>\n",
       "      <td>0</td>\n",
       "    </tr>\n",
       "    <tr>\n",
       "      <th>5018</th>\n",
       "      <td>0</td>\n",
       "    </tr>\n",
       "  </tbody>\n",
       "</table>\n",
       "</div>"
      ],
      "text/plain": [
       "        class\n",
       "172301      2\n",
       "159988      0\n",
       "5491        1\n",
       "77075       0\n",
       "5018        0"
      ]
     },
     "execution_count": 19,
     "metadata": {},
     "output_type": "execute_result"
    }
   ],
   "source": [
    "y_train_df.head()"
   ]
  },
  {
   "cell_type": "code",
   "execution_count": 20,
   "id": "b0826b40",
   "metadata": {},
   "outputs": [
    {
     "data": {
      "text/plain": [
       "2    6465\n",
       "0    5276\n",
       "1    1510\n",
       "4     447\n",
       "5     312\n",
       "6      91\n",
       "3      49\n",
       "Name: class, dtype: int64"
      ]
     },
     "execution_count": 20,
     "metadata": {},
     "output_type": "execute_result"
    },
    {
     "data": {
      "image/png": "[encoded data removed]",
      "text/plain": [
       "<Figure size 432x288 with 1 Axes>"
      ]
     },
     "metadata": {
      "needs_background": "light"
     },
     "output_type": "display_data"
    }
   ],
   "source": [
    "y_train_df.hist('class')\n",
    "y_train_df['class'].value_counts()"
   ]
  },
  {
   "cell_type": "code",
   "execution_count": 21,
   "id": "f63fd970",
   "metadata": {
    "id": "f63fd970"
   },
   "outputs": [],
   "source": [
    "train_df = train_df.reshape(train_df.shape[0]*22 , 4)"
   ]
  },
  {
   "cell_type": "code",
   "execution_count": 22,
   "id": "671566b6",
   "metadata": {
    "colab": {
     "base_uri": "https://localhost:8080/"
    },
    "id": "671566b6",
    "outputId": "780a06e5-c5c2-443f-8dfb-8e7f2e49e354"
   },
   "outputs": [
    {
     "data": {
      "text/plain": [
       "(311300, 4)"
      ]
     },
     "execution_count": 22,
     "metadata": {},
     "output_type": "execute_result"
    }
   ],
   "source": [
    "train_df.shape"
   ]
  },
  {
   "cell_type": "code",
   "execution_count": 23,
   "id": "74052e2e",
   "metadata": {
    "colab": {
     "base_uri": "https://localhost:8080/"
    },
    "id": "74052e2e",
    "outputId": "01de31b8-efc2-43e1-84de-c5a5b0d78beb"
   },
   "outputs": [
    {
     "name": "stdout",
     "output_type": "stream",
     "text": [
      "        class\n",
      "172301      2\n",
      "159988      0\n",
      "5491        1\n",
      "77075       0\n",
      "5018        0\n",
      "...       ...\n",
      "64021       0\n",
      "36177       2\n",
      "83246       2\n",
      "31266       5\n",
      "142285      3\n",
      "\n",
      "[14150 rows x 1 columns]\n"
     ]
    }
   ],
   "source": [
    "print(y_train_df)"
   ]
  },
  {
   "cell_type": "code",
   "execution_count": 24,
   "id": "f6cc51a0",
   "metadata": {
    "id": "f6cc51a0"
   },
   "outputs": [],
   "source": [
    "y_train_df = y_train_df.to_numpy()"
   ]
  },
  {
   "cell_type": "code",
   "execution_count": 25,
   "id": "ae6ab24f",
   "metadata": {
    "id": "ae6ab24f"
   },
   "outputs": [],
   "source": [
    "repetitions = 22\n",
    "y_train_df = geek.repeat(y_train_df, repetitions) "
   ]
  },
  {
   "cell_type": "code",
   "execution_count": 26,
   "id": "edeba0e1",
   "metadata": {
    "colab": {
     "base_uri": "https://localhost:8080/"
    },
    "id": "edeba0e1",
    "outputId": "c0fb553d-c107-4d94-86c1-62d1300f72ca"
   },
   "outputs": [
    {
     "data": {
      "text/plain": [
       "311300"
      ]
     },
     "execution_count": 26,
     "metadata": {},
     "output_type": "execute_result"
    }
   ],
   "source": [
    "len(y_train_df)"
   ]
  },
  {
   "cell_type": "code",
   "execution_count": 27,
   "id": "9b0b167a",
   "metadata": {
    "id": "9b0b167a"
   },
   "outputs": [],
   "source": [
    "train_df = pd.DataFrame(train_df)\n",
    "y_train_df = pd.DataFrame(y_train_df)"
   ]
  },
  {
   "cell_type": "code",
   "execution_count": 28,
   "id": "dfadead0",
   "metadata": {
    "id": "dfadead0"
   },
   "outputs": [],
   "source": [
    "train_df.columns = ['Time','Mag','diffTime','diffMag']\n",
    "y_train_df.columns = ['Class']"
   ]
  },
  {
   "cell_type": "code",
   "execution_count": 29,
   "id": "2b8ce426",
   "metadata": {
    "colab": {
     "base_uri": "https://localhost:8080/"
    },
    "id": "2b8ce426",
    "outputId": "7595069d-3d50-41fb-a5dc-dd63986bec62"
   },
   "outputs": [
    {
     "name": "stdout",
     "output_type": "stream",
     "text": [
      "        Class\n",
      "0           2\n",
      "1           2\n",
      "2           2\n",
      "3           2\n",
      "4           2\n",
      "...       ...\n",
      "311295      3\n",
      "311296      3\n",
      "311297      3\n",
      "311298      3\n",
      "311299      3\n",
      "\n",
      "[311300 rows x 1 columns]\n"
     ]
    }
   ],
   "source": [
    "print(y_train_df)"
   ]
  },
  {
   "cell_type": "code",
   "execution_count": 30,
   "id": "fdee43df",
   "metadata": {
    "colab": {
     "base_uri": "https://localhost:8080/"
    },
    "id": "fdee43df",
    "outputId": "e25cbd03-d15d-4e63-9865-d03c62ab4505"
   },
   "outputs": [
    {
     "name": "stdout",
     "output_type": "stream",
     "text": [
      "               Time        Mag   diffTime   diffMag\n",
      "0       1702.951816  15.522953  34.370935  0.130284\n",
      "1       1737.322751  15.653237   0.074003  0.000436\n",
      "2       1737.396755  15.653673  94.296682  0.021566\n",
      "3       1831.693437  15.675239   0.073983  0.008456\n",
      "4       1831.767420  15.683695  51.654304 -0.033496\n",
      "...             ...        ...        ...       ...\n",
      "311295  2128.105280  17.604920   0.074001 -0.241334\n",
      "311296  2128.179281  17.363586  28.913071 -0.130828\n",
      "311297  2157.092352  17.232758  24.065341  0.216394\n",
      "311298  2181.157693  17.449152  95.371862  0.025411\n",
      "311299  2276.529556  17.474564   0.176138 -0.120981\n",
      "\n",
      "[311300 rows x 4 columns]\n"
     ]
    }
   ],
   "source": [
    "print(train_df)"
   ]
  },
  {
   "cell_type": "code",
   "execution_count": 31,
   "id": "9ca978fa",
   "metadata": {
    "id": "9ca978fa"
   },
   "outputs": [],
   "source": [
    "labels_gaia_train = pd.concat([train_df, y_train_df], axis=1)"
   ]
  },
  {
   "cell_type": "code",
   "execution_count": 32,
   "id": "7d1742e2",
   "metadata": {
    "colab": {
     "base_uri": "https://localhost:8080/"
    },
    "id": "7d1742e2",
    "outputId": "50758cf4-2616-425a-d62d-73f1317dd7d1"
   },
   "outputs": [
    {
     "name": "stdout",
     "output_type": "stream",
     "text": [
      "               Time        Mag   diffTime   diffMag  Class\n",
      "0       1702.951816  15.522953  34.370935  0.130284      2\n",
      "1       1737.322751  15.653237   0.074003  0.000436      2\n",
      "2       1737.396755  15.653673  94.296682  0.021566      2\n",
      "3       1831.693437  15.675239   0.073983  0.008456      2\n",
      "4       1831.767420  15.683695  51.654304 -0.033496      2\n",
      "...             ...        ...        ...       ...    ...\n",
      "311295  2128.105280  17.604920   0.074001 -0.241334      3\n",
      "311296  2128.179281  17.363586  28.913071 -0.130828      3\n",
      "311297  2157.092352  17.232758  24.065341  0.216394      3\n",
      "311298  2181.157693  17.449152  95.371862  0.025411      3\n",
      "311299  2276.529556  17.474564   0.176138 -0.120981      3\n",
      "\n",
      "[311300 rows x 5 columns]\n"
     ]
    }
   ],
   "source": [
    "print(labels_gaia_train)"
   ]
  },
  {
   "cell_type": "code",
   "execution_count": 33,
   "id": "9d74ef65",
   "metadata": {
    "colab": {
     "base_uri": "https://localhost:8080/",
     "height": 398
    },
    "id": "9d74ef65",
    "outputId": "e336aed8-2102-4304-fdf9-7ecb3860f8ab"
   },
   "outputs": [
    {
     "name": "stdout",
     "output_type": "stream",
     "text": [
      "Class=2, n=142230 (45.689%)\n",
      "Class=0, n=116072 (37.286%)\n",
      "Class=1, n=33220 (10.671%)\n",
      "Class=4, n=9834 (3.159%)\n",
      "Class=5, n=6864 (2.205%)\n",
      "Class=3, n=1078 (0.346%)\n",
      "Class=6, n=2002 (0.643%)\n"
     ]
    },
    {
     "data": {
      "image/png": "[encoded data removed]",
      "text/plain": [
       "<Figure size 432x288 with 1 Axes>"
      ]
     },
     "metadata": {
      "needs_background": "light"
     },
     "output_type": "display_data"
    }
   ],
   "source": [
    "data = labels_gaia_train.values\n",
    "# split into input and output elements\n",
    "X, y = data[:, :-1], data[:, -1]\n",
    "# label encode the target variable\n",
    "y = LabelEncoder().fit_transform(y)\n",
    "# summarize distribution\n",
    "counter = Counter(y)\n",
    "for k,v in counter.items():\n",
    "    per = v / len(y) * 100\n",
    "    print('Class=%d, n=%d (%.3f%%)' % (k, v, per))\n",
    "# plot the distribution\n",
    "plt.bar(counter.keys(), counter.values())\n",
    "plt.show()"
   ]
  },
  {
   "cell_type": "code",
   "execution_count": 34,
   "id": "12a138c6",
   "metadata": {
    "colab": {
     "base_uri": "https://localhost:8080/",
     "height": 398
    },
    "id": "12a138c6",
    "outputId": "25adaa21-d912-4d8c-cf85-d55b0b5ccaf3"
   },
   "outputs": [
    {
     "name": "stdout",
     "output_type": "stream",
     "text": [
      "Class=2, n=142230 (14.286%)\n",
      "Class=0, n=142230 (14.286%)\n",
      "Class=1, n=142230 (14.286%)\n",
      "Class=4, n=142230 (14.286%)\n",
      "Class=5, n=142230 (14.286%)\n",
      "Class=3, n=142230 (14.286%)\n",
      "Class=6, n=142230 (14.286%)\n"
     ]
    },
    {
     "data": {
      "image/png": "[encoded data removed]",
      "text/plain": [
       "<Figure size 432x288 with 1 Axes>"
      ]
     },
     "metadata": {
      "needs_background": "light"
     },
     "output_type": "display_data"
    }
   ],
   "source": [
    "data = labels_gaia_train.values\n",
    "# split into input and output elements\n",
    "X, y = data[:, :-1], data[:, -1]\n",
    "# label encode the target variable\n",
    "y = LabelEncoder().fit_transform(y)\n",
    "# transform the dataset\n",
    "oversample = SMOTE()\n",
    "X, y = oversample.fit_resample(X, y)\n",
    "# summarize distribution\n",
    "counter = Counter(y)\n",
    "for k,v in counter.items():\n",
    "    per = v / len(y) * 100\n",
    "    print('Class=%d, n=%d (%.3f%%)' % (k, v, per))\n",
    "# plot the distribution\n",
    "plt.bar(counter.keys(), counter.values())\n",
    "plt.show()"
   ]
  },
  {
   "cell_type": "code",
   "execution_count": 35,
   "id": "b5cb3314",
   "metadata": {
    "colab": {
     "base_uri": "https://localhost:8080/"
    },
    "id": "b5cb3314",
    "outputId": "7e95a6be-7510-46d3-d247-25b82729c206"
   },
   "outputs": [
    {
     "name": "stdout",
     "output_type": "stream",
     "text": [
      "[[ 1.70295182e+03  1.55229529e+01  3.43709353e+01  1.30284030e-01\n",
      "   2.00000000e+00]\n",
      " [ 1.73732275e+03  1.56532370e+01  7.40033100e-02  4.35900000e-04\n",
      "   2.00000000e+00]\n",
      " [ 1.73739675e+03  1.56536729e+01  9.42966821e+01  2.15657100e-02\n",
      "   2.00000000e+00]\n",
      " ...\n",
      " [ 2.15709235e+03  1.72327584e+01  2.40653413e+01  2.16393860e-01\n",
      "   3.00000000e+00]\n",
      " [ 2.18115769e+03  1.74491523e+01  9.53718622e+01  2.54114800e-02\n",
      "   3.00000000e+00]\n",
      " [ 2.27652956e+03  1.74745638e+01  1.76137810e-01 -1.20980770e-01\n",
      "   3.00000000e+00]]\n"
     ]
    }
   ],
   "source": [
    "print(data)"
   ]
  },
  {
   "cell_type": "code",
   "execution_count": 36,
   "id": "fc5dd3a2",
   "metadata": {
    "colab": {
     "base_uri": "https://localhost:8080/"
    },
    "id": "fc5dd3a2",
    "outputId": "f013033f-c015-451f-d1af-a3606bafa7a7"
   },
   "outputs": [
    {
     "name": "stdout",
     "output_type": "stream",
     "text": [
      "[[ 1.70295182e+03  1.55229529e+01  3.43709353e+01  1.30284030e-01]\n",
      " [ 1.73732275e+03  1.56532370e+01  7.40033100e-02  4.35900000e-04]\n",
      " [ 1.73739675e+03  1.56536729e+01  9.42966821e+01  2.15657100e-02]\n",
      " ...\n",
      " [ 1.92917263e+03  1.55707499e+01  3.35569315e+01 -1.69479300e-01]\n",
      " [ 1.97880097e+03  1.13298597e+01  1.73965996e-01  2.16592664e-02]\n",
      " [ 2.17507804e+03  1.56020512e+01  1.61477227e-01 -1.52203792e-02]] [2 2 2 ... 6 6 6]\n"
     ]
    }
   ],
   "source": [
    "print(X, y)"
   ]
  },
  {
   "cell_type": "code",
   "execution_count": 37,
   "id": "1ed05812",
   "metadata": {
    "colab": {
     "base_uri": "https://localhost:8080/"
    },
    "id": "1ed05812",
    "outputId": "3f100cbb-585d-406a-c7c7-eeb6777268ef"
   },
   "outputs": [
    {
     "name": "stdout",
     "output_type": "stream",
     "text": [
      "[2 2 2 ... 6 6 6]\n"
     ]
    }
   ],
   "source": [
    "print(y)"
   ]
  },
  {
   "cell_type": "code",
   "execution_count": 38,
   "id": "30143f35",
   "metadata": {
    "id": "30143f35"
   },
   "outputs": [],
   "source": [
    "train_df = X\n",
    "y_train_df = y"
   ]
  },
  {
   "cell_type": "code",
   "execution_count": 39,
   "id": "99d11fbf",
   "metadata": {
    "colab": {
     "base_uri": "https://localhost:8080/"
    },
    "id": "99d11fbf",
    "outputId": "fe282924-3e84-457a-cd28-0acf534d2654"
   },
   "outputs": [
    {
     "name": "stdout",
     "output_type": "stream",
     "text": [
      "(995610, 4)\n",
      "(995610,)\n",
      "(17490, 22, 4)\n",
      "(17667, 22, 4)\n"
     ]
    }
   ],
   "source": [
    "print(train_df.shape)\n",
    "print(y_train_df.shape)\n",
    "print(val_df.shape)\n",
    "print(test_df.shape)"
   ]
  },
  {
   "cell_type": "code",
   "execution_count": 40,
   "id": "9f66147b",
   "metadata": {
    "id": "9f66147b"
   },
   "outputs": [],
   "source": [
    "#train_df.reshape = train_df.shape[0]/22\n",
    "z = int(train_df.shape[0]/22)\n",
    "train_df = np.asarray(train_df).reshape(z,22,4)"
   ]
  },
  {
   "cell_type": "code",
   "execution_count": 41,
   "id": "c07d14f2",
   "metadata": {
    "id": "c07d14f2"
   },
   "outputs": [],
   "source": [
    "y_train_df = pd.DataFrame(y_train_df)\n",
    "y_val_df = pd.DataFrame(y_val_df)\n",
    "y_test_df = pd.DataFrame(y_test_df)"
   ]
  },
  {
   "cell_type": "code",
   "execution_count": 42,
   "id": "9d507d10",
   "metadata": {
    "colab": {
     "base_uri": "https://localhost:8080/"
    },
    "id": "9d507d10",
    "outputId": "70dc3345-e4a6-4898-bbd0-671fb9f3305c"
   },
   "outputs": [
    {
     "data": {
      "text/plain": [
       "(45255, 22, 4)"
      ]
     },
     "execution_count": 42,
     "metadata": {},
     "output_type": "execute_result"
    }
   ],
   "source": [
    "train_df.shape"
   ]
  },
  {
   "cell_type": "code",
   "execution_count": 43,
   "id": "8459edb6",
   "metadata": {
    "colab": {
     "base_uri": "https://localhost:8080/"
    },
    "id": "8459edb6",
    "outputId": "0ec78ae4-17fe-48e3-a355-b3874dcde0e5"
   },
   "outputs": [
    {
     "data": {
      "text/plain": [
       "(995610, 1)"
      ]
     },
     "execution_count": 43,
     "metadata": {},
     "output_type": "execute_result"
    }
   ],
   "source": [
    "y_train_df.shape"
   ]
  },
  {
   "cell_type": "code",
   "execution_count": 44,
   "id": "c968a9bd",
   "metadata": {
    "colab": {
     "base_uri": "https://localhost:8080/"
    },
    "id": "c968a9bd",
    "outputId": "b5d7903a-698f-4a92-b640-607006eeb7b0"
   },
   "outputs": [
    {
     "name": "stdout",
     "output_type": "stream",
     "text": [
      "train_df:  (45255, 22, 4)\n",
      "y_train_df:  (995610, 1)\n",
      "val_df:  (17490, 22, 4)\n",
      "y_val_df:  (17490, 1)\n"
     ]
    }
   ],
   "source": [
    "print('train_df: ',train_df.shape)\n",
    "print('y_train_df: ',y_train_df.shape)\n",
    "print('val_df: ',val_df.shape)\n",
    "print('y_val_df: ',y_val_df.shape)"
   ]
  },
  {
   "cell_type": "code",
   "execution_count": 45,
   "id": "0a0643ee",
   "metadata": {
    "id": "0a0643ee"
   },
   "outputs": [],
   "source": [
    "y_train_df= y_train_df[y_train_df.index % 22 == 0]"
   ]
  },
  {
   "cell_type": "code",
   "execution_count": 46,
   "id": "f14793b0",
   "metadata": {
    "colab": {
     "base_uri": "https://localhost:8080/"
    },
    "id": "f14793b0",
    "outputId": "63de72cb-9ca9-4018-c8a6-b77d66ee507b"
   },
   "outputs": [
    {
     "name": "stdout",
     "output_type": "stream",
     "text": [
      "train_df:  (45255, 22, 4)\n",
      "y_train_df:  (45255, 1)\n",
      "val_df:  (17490, 22, 4)\n",
      "y_val_df:  (17490, 1)\n"
     ]
    }
   ],
   "source": [
    "print('train_df: ',train_df.shape)\n",
    "print('y_train_df: ',y_train_df.shape)\n",
    "print('val_df: ',val_df.shape)\n",
    "print('y_val_df: ',y_val_df.shape)"
   ]
  },
  {
   "cell_type": "code",
   "execution_count": 47,
   "id": "4ef283f5",
   "metadata": {
    "id": "4ef283f5"
   },
   "outputs": [],
   "source": [
    "#Normalización de siempre\n",
    "train_mean = train_df.mean()\n",
    "train_std = train_df.std()\n",
    "\n",
    "train_df = (train_df - train_mean) / train_std\n",
    "val_df = (val_df - train_mean) / train_std\n",
    "test_df = (test_df - train_mean) / train_std"
   ]
  },
  {
   "cell_type": "code",
   "execution_count": 48,
   "id": "6fb94b91",
   "metadata": {
    "id": "6fb94b91"
   },
   "outputs": [],
   "source": [
    "MAX_EPOCHS = 500\n",
    "checkpoint_filepath = \"D:\\Tesis\\prueba\"\n",
    "\n",
    "def compile_and_fit(model, x, y, x_val,y_val, patience=50):\n",
    "  early_stopping = tf.keras.callbacks.EarlyStopping(monitor='val_loss',\n",
    "                                                    patience=patience,\n",
    "                                                    mode='min')\n",
    "#   print(x.shape)\n",
    "#   print(y.shape)\n",
    "\n",
    "  # early_stopping = tf.keras.callbacks.EarlyStopping(monitor='val_mean_absolute_error',\n",
    "  #                                                   patience=patience,\n",
    "  #                                                   mode='min')\n",
    "  \n",
    "  model_checkpoint_callback = tf.keras.callbacks.ModelCheckpoint(\n",
    "    filepath=checkpoint_filepath,\n",
    "    save_weights_only=True,\n",
    "    monitor='val_accuracy',\n",
    "    mode='max',\n",
    "    save_best_only=True)\n",
    "\n",
    "  model.compile(loss=tf.losses.SparseCategoricalCrossentropy(),\n",
    "                optimizer=tf.optimizers.Adam(),\n",
    "                metrics=['accuracy'])\n",
    "  #print(model.summary())\n",
    "  history = model.fit(x, y, epochs=MAX_EPOCHS,\n",
    "                      validation_data=(x_val, y_val),\n",
    "                      callbacks=[early_stopping, model_checkpoint_callback])\n",
    "  return history"
   ]
  },
  {
   "cell_type": "code",
   "execution_count": 49,
   "id": "00a0df12",
   "metadata": {
    "id": "00a0df12"
   },
   "outputs": [],
   "source": [
    "lstm_model = tf.keras.models.Sequential([\n",
    "\n",
    "    # Shape [batch, time, features] => [batch, time, lstm_units]\n",
    "    tf.keras.layers.LSTM(128, return_sequences=True),\n",
    "    tf.keras.layers.Dropout(0.1),\n",
    "    tf.keras.layers.LSTM(64, return_sequences=True),\n",
    "    tf.keras.layers.Dropout(0.1),\n",
    "    tf.keras.layers.LSTM(16, return_sequences=False),\n",
    "    tf.keras.layers.Dense(units=7 , activation = 'softmax')\n",
    "])"
   ]
  },
  {
   "cell_type": "code",
   "execution_count": 50,
   "id": "50209367",
   "metadata": {},
   "outputs": [],
   "source": [
    "def R_squared(y, y_pred):\n",
    "  residual = tf.reduce_sum(tf.square(tf.subtract(y, y_pred)))\n",
    "  total = tf.reduce_sum(tf.square(tf.subtract(y, tf.reduce_mean(y))))\n",
    "  r2 = tf.subtract(1.0, tf.divide(residual, total))\n",
    "  return r2"
   ]
  },
  {
   "cell_type": "code",
   "execution_count": 51,
   "id": "4a698bc6",
   "metadata": {},
   "outputs": [],
   "source": [
    "from keras.models import load_model \n",
    "loaded_model = tf.keras.models.load_model(\"D:\\Tesis\\GaiaData2vec\\lstm_model_data2vec_gaia.h5\",custom_objects={\"R_squared\": R_squared})\n"
   ]
  },
  {
   "cell_type": "code",
   "execution_count": 52,
   "id": "71784845",
   "metadata": {},
   "outputs": [
    {
     "name": "stdout",
     "output_type": "stream",
     "text": [
      "Model: \"sequential\"\n",
      "_________________________________________________________________\n",
      " Layer (type)                Output Shape              Param #   \n",
      "=================================================================\n",
      " cu_dnnlstm (CuDNNLSTM)      (None, 22, 128)           68608     \n",
      "                                                                 \n",
      " dropout (Dropout)           (None, 22, 128)           0         \n",
      "                                                                 \n",
      " cu_dnnlstm_1 (CuDNNLSTM)    (None, 22, 64)            49664     \n",
      "                                                                 \n",
      " dropout_1 (Dropout)         (None, 22, 64)            0         \n",
      "                                                                 \n",
      " cu_dnnlstm_2 (CuDNNLSTM)    (None, 16)                5248      \n",
      "                                                                 \n",
      " dense (Dense)               (None, 5)                 85        \n",
      "                                                                 \n",
      "=================================================================\n",
      "Total params: 123,605\n",
      "Trainable params: 123,605\n",
      "Non-trainable params: 0\n",
      "_________________________________________________________________\n"
     ]
    }
   ],
   "source": [
    "loaded_model.summary()"
   ]
  },
  {
   "cell_type": "code",
   "execution_count": 53,
   "id": "ef893f58",
   "metadata": {},
   "outputs": [
    {
     "name": "stdout",
     "output_type": "stream",
     "text": [
      "Model: \"model\"\n",
      "_________________________________________________________________\n",
      " Layer (type)                Output Shape              Param #   \n",
      "=================================================================\n",
      " cu_dnnlstm_input (InputLaye  [(None, 22, 4)]          0         \n",
      " r)                                                              \n",
      "                                                                 \n",
      " cu_dnnlstm (CuDNNLSTM)      (None, 22, 128)           68608     \n",
      "                                                                 \n",
      " dropout (Dropout)           (None, 22, 128)           0         \n",
      "                                                                 \n",
      " cu_dnnlstm_1 (CuDNNLSTM)    (None, 22, 64)            49664     \n",
      "                                                                 \n",
      " dropout_1 (Dropout)         (None, 22, 64)            0         \n",
      "                                                                 \n",
      " cu_dnnlstm_2 (CuDNNLSTM)    (None, 16)                5248      \n",
      "                                                                 \n",
      "=================================================================\n",
      "Total params: 123,520\n",
      "Trainable params: 123,520\n",
      "Non-trainable params: 0\n",
      "_________________________________________________________________\n"
     ]
    }
   ],
   "source": [
    "from keras.models import Model\n",
    "#Buscar que coicida numero de params con summary\n",
    "model2 = Model(loaded_model.input, loaded_model.layers[-2].output)\n",
    "#model2 = Model(loaded_model.input, loaded_model.layers[-3].output)\n",
    "model2.summary()\n"
   ]
  },
  {
   "cell_type": "code",
   "execution_count": 54,
   "id": "21d0e287",
   "metadata": {},
   "outputs": [
    {
     "name": "stdout",
     "output_type": "stream",
     "text": [
      "Model: \"model_1\"\n",
      "_________________________________________________________________\n",
      " Layer (type)                Output Shape              Param #   \n",
      "=================================================================\n",
      " cu_dnnlstm_input (InputLaye  [(None, 22, 4)]          0         \n",
      " r)                                                              \n",
      "                                                                 \n",
      " cu_dnnlstm (CuDNNLSTM)      (None, 22, 128)           68608     \n",
      "                                                                 \n",
      " dropout (Dropout)           (None, 22, 128)           0         \n",
      "                                                                 \n",
      " cu_dnnlstm_1 (CuDNNLSTM)    (None, 22, 64)            49664     \n",
      "                                                                 \n",
      " dropout_1 (Dropout)         (None, 22, 64)            0         \n",
      "                                                                 \n",
      " cu_dnnlstm_2 (CuDNNLSTM)    (None, 16)                5248      \n",
      "                                                                 \n",
      " dense_1 (Dense)             (None, 7)                 119       \n",
      "                                                                 \n",
      "=================================================================\n",
      "Total params: 123,639\n",
      "Trainable params: 123,639\n",
      "Non-trainable params: 0\n",
      "_________________________________________________________________\n"
     ]
    }
   ],
   "source": [
    "x = tf.keras.layers.Dense(units=7 , activation = 'softmax')(loaded_model.layers[-2].output)\n",
    "\n",
    "model3 = Model(loaded_model.input, [x])\n",
    "\n",
    "model3.summary()"
   ]
  },
  {
   "cell_type": "code",
   "execution_count": 55,
   "id": "2434da3d",
   "metadata": {
    "scrolled": true
   },
   "outputs": [
    {
     "name": "stdout",
     "output_type": "stream",
     "text": [
      "Epoch 1/500\n",
      "1415/1415 [==============================] - 11s 7ms/step - loss: 1.6720 - accuracy: 0.2544 - val_loss: 1.2087 - val_accuracy: 0.4505\n",
      "Epoch 2/500\n",
      "1415/1415 [==============================] - 10s 7ms/step - loss: 1.5877 - accuracy: 0.2764 - val_loss: 1.2084 - val_accuracy: 0.4515\n",
      "Epoch 3/500\n",
      "1415/1415 [==============================] - 10s 7ms/step - loss: 1.5674 - accuracy: 0.2845 - val_loss: 1.1864 - val_accuracy: 0.4980\n",
      "Epoch 4/500\n",
      "1415/1415 [==============================] - 10s 7ms/step - loss: 1.5545 - accuracy: 0.2866 - val_loss: 1.1846 - val_accuracy: 0.4585\n",
      "Epoch 5/500\n",
      "1415/1415 [==============================] - 10s 7ms/step - loss: 1.5471 - accuracy: 0.2951 - val_loss: 1.1668 - val_accuracy: 0.5078\n",
      "Epoch 6/500\n",
      "1415/1415 [==============================] - 9s 7ms/step - loss: 1.5460 - accuracy: 0.3001 - val_loss: 1.1805 - val_accuracy: 0.4938\n",
      "Epoch 7/500\n",
      "1415/1415 [==============================] - 10s 7ms/step - loss: 1.5416 - accuracy: 0.3045 - val_loss: 1.1764 - val_accuracy: 0.4854\n",
      "Epoch 8/500\n",
      "1415/1415 [==============================] - 10s 7ms/step - loss: 1.5364 - accuracy: 0.3115 - val_loss: 1.1701 - val_accuracy: 0.4832\n",
      "Epoch 9/500\n",
      "1415/1415 [==============================] - 9s 7ms/step - loss: 1.5346 - accuracy: 0.3153 - val_loss: 1.1556 - val_accuracy: 0.5103\n",
      "Epoch 10/500\n",
      "1415/1415 [==============================] - 9s 6ms/step - loss: 1.5256 - accuracy: 0.3243 - val_loss: 1.1533 - val_accuracy: 0.4993\n",
      "Epoch 11/500\n",
      "1415/1415 [==============================] - 9s 6ms/step - loss: 1.5207 - accuracy: 0.3308 - val_loss: 1.1454 - val_accuracy: 0.5266\n",
      "Epoch 12/500\n",
      "1415/1415 [==============================] - 9s 7ms/step - loss: 1.5056 - accuracy: 0.3464 - val_loss: 1.1446 - val_accuracy: 0.5027\n",
      "Epoch 13/500\n",
      "1415/1415 [==============================] - 10s 7ms/step - loss: 1.4886 - accuracy: 0.3606 - val_loss: 1.1560 - val_accuracy: 0.5023\n",
      "Epoch 14/500\n",
      "1415/1415 [==============================] - 10s 7ms/step - loss: 1.4591 - accuracy: 0.3781 - val_loss: 1.1113 - val_accuracy: 0.5522\n",
      "Epoch 15/500\n",
      "1415/1415 [==============================] - 10s 7ms/step - loss: 1.4221 - accuracy: 0.4031 - val_loss: 1.0892 - val_accuracy: 0.5754\n",
      "Epoch 16/500\n",
      "1415/1415 [==============================] - 10s 7ms/step - loss: 1.3727 - accuracy: 0.4295 - val_loss: 1.1099 - val_accuracy: 0.5287\n",
      "Epoch 17/500\n",
      "1415/1415 [==============================] - 10s 7ms/step - loss: 1.3181 - accuracy: 0.4659 - val_loss: 0.9924 - val_accuracy: 0.6310\n",
      "Epoch 18/500\n",
      "1415/1415 [==============================] - 10s 7ms/step - loss: 1.2424 - accuracy: 0.5029 - val_loss: 1.3316 - val_accuracy: 0.4886\n",
      "Epoch 19/500\n",
      "1415/1415 [==============================] - 10s 7ms/step - loss: 1.1355 - accuracy: 0.5503 - val_loss: 0.7102 - val_accuracy: 0.7647\n",
      "Epoch 20/500\n",
      "1415/1415 [==============================] - 10s 7ms/step - loss: 1.0322 - accuracy: 0.5892 - val_loss: 0.7329 - val_accuracy: 0.7483\n",
      "Epoch 21/500\n",
      "1415/1415 [==============================] - 10s 7ms/step - loss: 0.9537 - accuracy: 0.6213 - val_loss: 0.6726 - val_accuracy: 0.7758\n",
      "Epoch 22/500\n",
      "1415/1415 [==============================] - 10s 7ms/step - loss: 0.9385 - accuracy: 0.6247 - val_loss: 0.8014 - val_accuracy: 0.7218\n",
      "Epoch 23/500\n",
      "1415/1415 [==============================] - 10s 7ms/step - loss: 0.9157 - accuracy: 0.6330 - val_loss: 0.7426 - val_accuracy: 0.7410\n",
      "Epoch 24/500\n",
      "1415/1415 [==============================] - 10s 7ms/step - loss: 0.9244 - accuracy: 0.6302 - val_loss: 0.6828 - val_accuracy: 0.7629\n",
      "Epoch 25/500\n",
      "1415/1415 [==============================] - 10s 7ms/step - loss: 0.8946 - accuracy: 0.6430 - val_loss: 0.6695 - val_accuracy: 0.7796\n",
      "Epoch 26/500\n",
      "1415/1415 [==============================] - 10s 7ms/step - loss: 0.8765 - accuracy: 0.6507 - val_loss: 0.6640 - val_accuracy: 0.7767\n",
      "Epoch 27/500\n",
      "1415/1415 [==============================] - 10s 7ms/step - loss: 0.8636 - accuracy: 0.6564 - val_loss: 0.7650 - val_accuracy: 0.7284\n",
      "Epoch 28/500\n",
      "1415/1415 [==============================] - 10s 7ms/step - loss: 0.9019 - accuracy: 0.6402 - val_loss: 0.8604 - val_accuracy: 0.6882\n",
      "Epoch 29/500\n",
      "1415/1415 [==============================] - 10s 7ms/step - loss: 0.8776 - accuracy: 0.6523 - val_loss: 0.7288 - val_accuracy: 0.7422\n",
      "Epoch 30/500\n",
      "1415/1415 [==============================] - 10s 7ms/step - loss: 0.8748 - accuracy: 0.6498 - val_loss: 0.6645 - val_accuracy: 0.7784\n",
      "Epoch 31/500\n",
      "1415/1415 [==============================] - 10s 7ms/step - loss: 0.8433 - accuracy: 0.6607 - val_loss: 0.7157 - val_accuracy: 0.7579\n",
      "Epoch 32/500\n",
      "1415/1415 [==============================] - 10s 7ms/step - loss: 0.8389 - accuracy: 0.6637 - val_loss: 0.6774 - val_accuracy: 0.7641\n",
      "Epoch 33/500\n",
      "1415/1415 [==============================] - 10s 7ms/step - loss: 0.8203 - accuracy: 0.6708 - val_loss: 0.6619 - val_accuracy: 0.7730\n",
      "Epoch 34/500\n",
      "1415/1415 [==============================] - 10s 7ms/step - loss: 0.8379 - accuracy: 0.6652 - val_loss: 0.7064 - val_accuracy: 0.7572\n",
      "Epoch 35/500\n",
      "1415/1415 [==============================] - 10s 7ms/step - loss: 0.8333 - accuracy: 0.6634 - val_loss: 0.7231 - val_accuracy: 0.7473\n",
      "Epoch 36/500\n",
      "1415/1415 [==============================] - 10s 7ms/step - loss: 0.8098 - accuracy: 0.6762 - val_loss: 0.7423 - val_accuracy: 0.7454\n",
      "Epoch 37/500\n",
      "1415/1415 [==============================] - 10s 7ms/step - loss: 0.8085 - accuracy: 0.6768 - val_loss: 0.6814 - val_accuracy: 0.7667\n",
      "Epoch 38/500\n",
      "1415/1415 [==============================] - 10s 7ms/step - loss: 0.7830 - accuracy: 0.6870 - val_loss: 0.6429 - val_accuracy: 0.7790\n",
      "Epoch 39/500\n",
      "1415/1415 [==============================] - 10s 7ms/step - loss: 0.8275 - accuracy: 0.6712 - val_loss: 0.6748 - val_accuracy: 0.7670\n",
      "Epoch 40/500\n",
      "1415/1415 [==============================] - 10s 7ms/step - loss: 0.8020 - accuracy: 0.6821 - val_loss: 0.7253 - val_accuracy: 0.7432\n",
      "Epoch 41/500\n",
      "1415/1415 [==============================] - 10s 7ms/step - loss: 0.8073 - accuracy: 0.6785 - val_loss: 0.7960 - val_accuracy: 0.7122\n",
      "Epoch 42/500\n",
      "1415/1415 [==============================] - 10s 7ms/step - loss: 0.7804 - accuracy: 0.6873 - val_loss: 0.6478 - val_accuracy: 0.7771\n",
      "Epoch 43/500\n",
      "1415/1415 [==============================] - 10s 7ms/step - loss: 0.7826 - accuracy: 0.6855 - val_loss: 0.6430 - val_accuracy: 0.7811\n",
      "Epoch 44/500\n",
      "1415/1415 [==============================] - 10s 7ms/step - loss: 0.7847 - accuracy: 0.6848 - val_loss: 0.9123 - val_accuracy: 0.6785\n",
      "Epoch 45/500\n",
      "1415/1415 [==============================] - 10s 7ms/step - loss: 0.7931 - accuracy: 0.6834 - val_loss: 0.6458 - val_accuracy: 0.7806\n",
      "Epoch 46/500\n",
      "1415/1415 [==============================] - 10s 7ms/step - loss: 0.7942 - accuracy: 0.6828 - val_loss: 0.6884 - val_accuracy: 0.7591\n",
      "Epoch 47/500\n",
      "1415/1415 [==============================] - 10s 7ms/step - loss: 0.7630 - accuracy: 0.6948 - val_loss: 0.6614 - val_accuracy: 0.7764\n",
      "Epoch 48/500\n",
      "1415/1415 [==============================] - 10s 7ms/step - loss: 0.7767 - accuracy: 0.6925 - val_loss: 0.6513 - val_accuracy: 0.7786\n",
      "Epoch 49/500\n",
      "1415/1415 [==============================] - 10s 7ms/step - loss: 0.7786 - accuracy: 0.6894 - val_loss: 0.6725 - val_accuracy: 0.7711\n",
      "Epoch 50/500\n",
      "1415/1415 [==============================] - 10s 7ms/step - loss: 0.7659 - accuracy: 0.6977 - val_loss: 0.7400 - val_accuracy: 0.7466\n",
      "Epoch 51/500\n",
      "1415/1415 [==============================] - 10s 7ms/step - loss: 0.7861 - accuracy: 0.6847 - val_loss: 0.6823 - val_accuracy: 0.7604\n",
      "Epoch 52/500\n",
      "1415/1415 [==============================] - 9s 7ms/step - loss: 0.7873 - accuracy: 0.6862 - val_loss: 0.6382 - val_accuracy: 0.7807\n",
      "Epoch 53/500\n",
      "1415/1415 [==============================] - 10s 7ms/step - loss: 0.7681 - accuracy: 0.6925 - val_loss: 0.6267 - val_accuracy: 0.7861\n",
      "Epoch 54/500\n",
      "1415/1415 [==============================] - 9s 7ms/step - loss: 0.7545 - accuracy: 0.6994 - val_loss: 0.7626 - val_accuracy: 0.7381\n",
      "Epoch 55/500\n",
      "1415/1415 [==============================] - 10s 7ms/step - loss: 0.7588 - accuracy: 0.6936 - val_loss: 0.6360 - val_accuracy: 0.7843\n",
      "Epoch 56/500\n",
      "1415/1415 [==============================] - 10s 7ms/step - loss: 0.7686 - accuracy: 0.6912 - val_loss: 0.6310 - val_accuracy: 0.7801\n"
     ]
    },
    {
     "name": "stdout",
     "output_type": "stream",
     "text": [
      "Epoch 57/500\n",
      "1415/1415 [==============================] - 9s 7ms/step - loss: 0.7655 - accuracy: 0.6955 - val_loss: 0.7551 - val_accuracy: 0.7452\n",
      "Epoch 58/500\n",
      "1415/1415 [==============================] - 10s 7ms/step - loss: 0.7621 - accuracy: 0.6910 - val_loss: 0.6890 - val_accuracy: 0.7631\n",
      "Epoch 59/500\n",
      "1415/1415 [==============================] - 10s 7ms/step - loss: 0.7623 - accuracy: 0.6973 - val_loss: 0.6333 - val_accuracy: 0.7831\n",
      "Epoch 60/500\n",
      "1415/1415 [==============================] - 9s 7ms/step - loss: 0.7393 - accuracy: 0.7055 - val_loss: 0.6289 - val_accuracy: 0.7856\n",
      "Epoch 61/500\n",
      "1415/1415 [==============================] - 10s 7ms/step - loss: 0.7545 - accuracy: 0.6990 - val_loss: 0.6248 - val_accuracy: 0.7836\n",
      "Epoch 62/500\n",
      "1415/1415 [==============================] - 9s 7ms/step - loss: 0.7199 - accuracy: 0.7116 - val_loss: 0.6246 - val_accuracy: 0.7856\n",
      "Epoch 63/500\n",
      "1415/1415 [==============================] - 9s 6ms/step - loss: 0.7562 - accuracy: 0.7007 - val_loss: 0.6121 - val_accuracy: 0.7892\n",
      "Epoch 64/500\n",
      "1415/1415 [==============================] - 10s 7ms/step - loss: 0.7343 - accuracy: 0.7052 - val_loss: 0.6307 - val_accuracy: 0.7857\n",
      "Epoch 65/500\n",
      "1415/1415 [==============================] - 9s 7ms/step - loss: 0.7480 - accuracy: 0.7001 - val_loss: 0.8403 - val_accuracy: 0.7185\n",
      "Epoch 66/500\n",
      "1415/1415 [==============================] - 9s 7ms/step - loss: 0.7413 - accuracy: 0.7021 - val_loss: 0.7169 - val_accuracy: 0.7562\n",
      "Epoch 67/500\n",
      "1415/1415 [==============================] - 9s 7ms/step - loss: 0.7418 - accuracy: 0.7032 - val_loss: 0.6432 - val_accuracy: 0.7802\n",
      "Epoch 68/500\n",
      "1415/1415 [==============================] - 9s 6ms/step - loss: 0.7296 - accuracy: 0.7114 - val_loss: 0.6257 - val_accuracy: 0.7849\n",
      "Epoch 69/500\n",
      "1415/1415 [==============================] - 10s 7ms/step - loss: 0.7358 - accuracy: 0.7086 - val_loss: 0.6806 - val_accuracy: 0.7648\n",
      "Epoch 70/500\n",
      "1415/1415 [==============================] - 9s 7ms/step - loss: 0.7241 - accuracy: 0.7100 - val_loss: 0.7427 - val_accuracy: 0.7552\n",
      "Epoch 71/500\n",
      "1415/1415 [==============================] - 9s 6ms/step - loss: 0.7136 - accuracy: 0.7127 - val_loss: 0.6148 - val_accuracy: 0.7869\n",
      "Epoch 72/500\n",
      "1415/1415 [==============================] - 10s 7ms/step - loss: 0.7473 - accuracy: 0.7028 - val_loss: 0.6563 - val_accuracy: 0.7727\n",
      "Epoch 73/500\n",
      "1415/1415 [==============================] - 10s 7ms/step - loss: 0.7103 - accuracy: 0.7155 - val_loss: 0.6896 - val_accuracy: 0.7634\n",
      "Epoch 74/500\n",
      "1415/1415 [==============================] - 10s 7ms/step - loss: 0.7227 - accuracy: 0.7097 - val_loss: 0.8966 - val_accuracy: 0.6878\n",
      "Epoch 75/500\n",
      "1415/1415 [==============================] - 10s 7ms/step - loss: 0.7178 - accuracy: 0.7154 - val_loss: 0.6347 - val_accuracy: 0.7811\n",
      "Epoch 76/500\n",
      "1415/1415 [==============================] - 10s 7ms/step - loss: 0.7034 - accuracy: 0.7179 - val_loss: 0.6641 - val_accuracy: 0.7786\n",
      "Epoch 77/500\n",
      "1415/1415 [==============================] - 10s 7ms/step - loss: 0.6927 - accuracy: 0.7224 - val_loss: 0.6151 - val_accuracy: 0.7910\n",
      "Epoch 78/500\n",
      "1415/1415 [==============================] - 10s 7ms/step - loss: 0.7091 - accuracy: 0.7174 - val_loss: 0.6177 - val_accuracy: 0.7910\n",
      "Epoch 79/500\n",
      "1415/1415 [==============================] - 10s 7ms/step - loss: 0.6946 - accuracy: 0.7208 - val_loss: 0.6383 - val_accuracy: 0.7814\n",
      "Epoch 80/500\n",
      "1415/1415 [==============================] - 10s 7ms/step - loss: 0.6878 - accuracy: 0.7237 - val_loss: 0.7233 - val_accuracy: 0.7537\n",
      "Epoch 81/500\n",
      "1415/1415 [==============================] - 10s 7ms/step - loss: 0.7033 - accuracy: 0.7187 - val_loss: 0.6736 - val_accuracy: 0.7671\n",
      "Epoch 82/500\n",
      "1415/1415 [==============================] - 10s 7ms/step - loss: 0.6951 - accuracy: 0.7216 - val_loss: 0.6185 - val_accuracy: 0.7879\n",
      "Epoch 83/500\n",
      "1415/1415 [==============================] - 10s 7ms/step - loss: 0.7170 - accuracy: 0.7136 - val_loss: 0.6534 - val_accuracy: 0.7727\n",
      "Epoch 84/500\n",
      "1415/1415 [==============================] - 10s 7ms/step - loss: 0.6933 - accuracy: 0.7234 - val_loss: 0.6408 - val_accuracy: 0.7804\n",
      "Epoch 85/500\n",
      "1415/1415 [==============================] - 10s 7ms/step - loss: 0.6825 - accuracy: 0.7272 - val_loss: 0.6766 - val_accuracy: 0.7650\n",
      "Epoch 86/500\n",
      "1415/1415 [==============================] - 10s 7ms/step - loss: 0.7087 - accuracy: 0.7164 - val_loss: 0.6643 - val_accuracy: 0.7714\n",
      "Epoch 87/500\n",
      "1415/1415 [==============================] - 10s 7ms/step - loss: 0.6920 - accuracy: 0.7213 - val_loss: 0.6440 - val_accuracy: 0.7837\n",
      "Epoch 88/500\n",
      "1415/1415 [==============================] - 10s 7ms/step - loss: 0.6812 - accuracy: 0.7277 - val_loss: 0.6137 - val_accuracy: 0.7900\n",
      "Epoch 89/500\n",
      "1415/1415 [==============================] - 10s 7ms/step - loss: 0.6945 - accuracy: 0.7225 - val_loss: 0.6208 - val_accuracy: 0.7892\n",
      "Epoch 90/500\n",
      "1415/1415 [==============================] - 10s 7ms/step - loss: 0.7001 - accuracy: 0.7244 - val_loss: 0.6697 - val_accuracy: 0.7707\n",
      "Epoch 91/500\n",
      "1415/1415 [==============================] - 10s 7ms/step - loss: 0.6903 - accuracy: 0.7272 - val_loss: 0.7473 - val_accuracy: 0.7413\n",
      "Epoch 92/500\n",
      "1415/1415 [==============================] - 10s 7ms/step - loss: 0.6716 - accuracy: 0.7334 - val_loss: 0.6362 - val_accuracy: 0.7816\n",
      "Epoch 93/500\n",
      "1415/1415 [==============================] - 9s 7ms/step - loss: 0.6757 - accuracy: 0.7296 - val_loss: 0.6242 - val_accuracy: 0.7879\n",
      "Epoch 94/500\n",
      "1415/1415 [==============================] - 9s 7ms/step - loss: 0.6973 - accuracy: 0.7233 - val_loss: 0.6872 - val_accuracy: 0.7613\n",
      "Epoch 95/500\n",
      "1415/1415 [==============================] - 9s 7ms/step - loss: 0.6590 - accuracy: 0.7369 - val_loss: 0.7185 - val_accuracy: 0.7581\n",
      "Epoch 96/500\n",
      "1415/1415 [==============================] - 9s 7ms/step - loss: 0.6953 - accuracy: 0.7222 - val_loss: 0.6335 - val_accuracy: 0.7868\n",
      "Epoch 97/500\n",
      "1415/1415 [==============================] - 10s 7ms/step - loss: 0.6634 - accuracy: 0.7346 - val_loss: 0.6196 - val_accuracy: 0.7871\n",
      "Epoch 98/500\n",
      "1415/1415 [==============================] - 10s 7ms/step - loss: 0.6744 - accuracy: 0.7321 - val_loss: 0.6299 - val_accuracy: 0.7844\n",
      "Epoch 99/500\n",
      "1415/1415 [==============================] - 10s 7ms/step - loss: 0.6713 - accuracy: 0.7305 - val_loss: 0.6187 - val_accuracy: 0.7905\n",
      "Epoch 100/500\n",
      "1415/1415 [==============================] - 10s 7ms/step - loss: 0.6528 - accuracy: 0.7392 - val_loss: 0.6355 - val_accuracy: 0.7826\n",
      "Epoch 101/500\n",
      "1415/1415 [==============================] - 10s 7ms/step - loss: 0.6753 - accuracy: 0.7295 - val_loss: 0.6063 - val_accuracy: 0.7932\n",
      "Epoch 102/500\n",
      "1415/1415 [==============================] - 10s 7ms/step - loss: 0.6716 - accuracy: 0.7322 - val_loss: 0.6209 - val_accuracy: 0.7881\n",
      "Epoch 103/500\n",
      "1415/1415 [==============================] - 10s 7ms/step - loss: 0.6547 - accuracy: 0.7410 - val_loss: 0.6319 - val_accuracy: 0.7844\n",
      "Epoch 104/500\n",
      "1415/1415 [==============================] - 10s 7ms/step - loss: 0.6558 - accuracy: 0.7397 - val_loss: 0.6312 - val_accuracy: 0.7803\n",
      "Epoch 105/500\n",
      "1415/1415 [==============================] - 10s 7ms/step - loss: 0.6574 - accuracy: 0.7360 - val_loss: 0.6541 - val_accuracy: 0.7764\n",
      "Epoch 106/500\n",
      "1415/1415 [==============================] - 10s 7ms/step - loss: 0.6616 - accuracy: 0.7361 - val_loss: 0.6336 - val_accuracy: 0.7872\n",
      "Epoch 107/500\n",
      "1415/1415 [==============================] - 10s 7ms/step - loss: 0.6603 - accuracy: 0.7384 - val_loss: 0.6564 - val_accuracy: 0.7780\n",
      "Epoch 108/500\n",
      "1415/1415 [==============================] - 10s 7ms/step - loss: 0.6676 - accuracy: 0.7370 - val_loss: 0.6782 - val_accuracy: 0.7672\n",
      "Epoch 109/500\n",
      "1415/1415 [==============================] - 10s 7ms/step - loss: 0.6456 - accuracy: 0.7434 - val_loss: 0.6177 - val_accuracy: 0.7897\n",
      "Epoch 110/500\n",
      "1415/1415 [==============================] - 10s 7ms/step - loss: 0.6715 - accuracy: 0.7327 - val_loss: 0.6494 - val_accuracy: 0.7832\n",
      "Epoch 111/500\n",
      "1415/1415 [==============================] - 10s 7ms/step - loss: 0.6576 - accuracy: 0.7400 - val_loss: 0.6091 - val_accuracy: 0.7923\n",
      "Epoch 112/500\n",
      "1415/1415 [==============================] - 10s 7ms/step - loss: 0.6490 - accuracy: 0.7408 - val_loss: 0.6903 - val_accuracy: 0.7662\n"
     ]
    },
    {
     "name": "stdout",
     "output_type": "stream",
     "text": [
      "Epoch 113/500\n",
      "1415/1415 [==============================] - 10s 7ms/step - loss: 0.6543 - accuracy: 0.7420 - val_loss: 0.6579 - val_accuracy: 0.7774\n",
      "Epoch 114/500\n",
      "1415/1415 [==============================] - 10s 7ms/step - loss: 0.6535 - accuracy: 0.7399 - val_loss: 0.6381 - val_accuracy: 0.7834\n",
      "Epoch 115/500\n",
      "1415/1415 [==============================] - 10s 7ms/step - loss: 0.6259 - accuracy: 0.7512 - val_loss: 0.6260 - val_accuracy: 0.7887\n",
      "Epoch 116/500\n",
      "1415/1415 [==============================] - 9s 7ms/step - loss: 0.6556 - accuracy: 0.7414 - val_loss: 0.6191 - val_accuracy: 0.7917\n",
      "Epoch 117/500\n",
      "1415/1415 [==============================] - 9s 7ms/step - loss: 0.6469 - accuracy: 0.7433 - val_loss: 0.6710 - val_accuracy: 0.7722\n",
      "Epoch 118/500\n",
      "1415/1415 [==============================] - 10s 7ms/step - loss: 0.6331 - accuracy: 0.7490 - val_loss: 0.6330 - val_accuracy: 0.7835\n",
      "Epoch 119/500\n",
      "1415/1415 [==============================] - 10s 7ms/step - loss: 0.6366 - accuracy: 0.7475 - val_loss: 0.6614 - val_accuracy: 0.7771\n",
      "Epoch 120/500\n",
      "1415/1415 [==============================] - 10s 7ms/step - loss: 0.6537 - accuracy: 0.7408 - val_loss: 0.6798 - val_accuracy: 0.7753\n",
      "Epoch 121/500\n",
      "1415/1415 [==============================] - 10s 7ms/step - loss: 0.6490 - accuracy: 0.7436 - val_loss: 0.6739 - val_accuracy: 0.7713\n",
      "Epoch 122/500\n",
      "1415/1415 [==============================] - 10s 7ms/step - loss: 0.6408 - accuracy: 0.7483 - val_loss: 0.6212 - val_accuracy: 0.7920\n",
      "Epoch 123/500\n",
      "1415/1415 [==============================] - 10s 7ms/step - loss: 0.6538 - accuracy: 0.7438 - val_loss: 0.6195 - val_accuracy: 0.7889\n",
      "Epoch 124/500\n",
      "1415/1415 [==============================] - 10s 7ms/step - loss: 0.6351 - accuracy: 0.7490 - val_loss: 0.6261 - val_accuracy: 0.7884\n",
      "Epoch 125/500\n",
      "1415/1415 [==============================] - 10s 7ms/step - loss: 0.6287 - accuracy: 0.7508 - val_loss: 0.6255 - val_accuracy: 0.7898\n",
      "Epoch 126/500\n",
      "1415/1415 [==============================] - 10s 7ms/step - loss: 0.6488 - accuracy: 0.7425 - val_loss: 0.6222 - val_accuracy: 0.7916\n",
      "Epoch 127/500\n",
      "1415/1415 [==============================] - 10s 7ms/step - loss: 0.6297 - accuracy: 0.7513 - val_loss: 0.6331 - val_accuracy: 0.7865\n",
      "Epoch 128/500\n",
      "1415/1415 [==============================] - 10s 7ms/step - loss: 0.6123 - accuracy: 0.7568 - val_loss: 0.7464 - val_accuracy: 0.7491\n",
      "Epoch 129/500\n",
      "1415/1415 [==============================] - 10s 7ms/step - loss: 0.6305 - accuracy: 0.7510 - val_loss: 0.6812 - val_accuracy: 0.7724\n",
      "Epoch 130/500\n",
      "1415/1415 [==============================] - 10s 7ms/step - loss: 0.6345 - accuracy: 0.7485 - val_loss: 0.6455 - val_accuracy: 0.7839\n",
      "Epoch 131/500\n",
      "1415/1415 [==============================] - 10s 7ms/step - loss: 0.6310 - accuracy: 0.7508 - val_loss: 0.6282 - val_accuracy: 0.7889\n",
      "Epoch 132/500\n",
      "1415/1415 [==============================] - 10s 7ms/step - loss: 0.6157 - accuracy: 0.7551 - val_loss: 0.6252 - val_accuracy: 0.7916\n",
      "Epoch 133/500\n",
      "1415/1415 [==============================] - 10s 7ms/step - loss: 0.6123 - accuracy: 0.7557 - val_loss: 0.6285 - val_accuracy: 0.7889\n",
      "Epoch 134/500\n",
      "1415/1415 [==============================] - 10s 7ms/step - loss: 0.6177 - accuracy: 0.7557 - val_loss: 0.6571 - val_accuracy: 0.7776\n",
      "Epoch 135/500\n",
      "1415/1415 [==============================] - 10s 7ms/step - loss: 0.6123 - accuracy: 0.7583 - val_loss: 0.6397 - val_accuracy: 0.7853\n",
      "Epoch 136/500\n",
      "1415/1415 [==============================] - 10s 7ms/step - loss: 0.6259 - accuracy: 0.7540 - val_loss: 0.6606 - val_accuracy: 0.7778\n",
      "Epoch 137/500\n",
      "1415/1415 [==============================] - 10s 7ms/step - loss: 0.6091 - accuracy: 0.7603 - val_loss: 0.7758 - val_accuracy: 0.7291\n",
      "Epoch 138/500\n",
      "1415/1415 [==============================] - 10s 7ms/step - loss: 0.6193 - accuracy: 0.7557 - val_loss: 0.6380 - val_accuracy: 0.7871\n",
      "Epoch 139/500\n",
      "1415/1415 [==============================] - 10s 7ms/step - loss: 0.6283 - accuracy: 0.7536 - val_loss: 0.7573 - val_accuracy: 0.7537\n",
      "Epoch 140/500\n",
      "1415/1415 [==============================] - 10s 7ms/step - loss: 0.6286 - accuracy: 0.7541 - val_loss: 0.6334 - val_accuracy: 0.7871\n",
      "Epoch 141/500\n",
      "1415/1415 [==============================] - 10s 7ms/step - loss: 0.6091 - accuracy: 0.7601 - val_loss: 0.7417 - val_accuracy: 0.7491\n",
      "Epoch 142/500\n",
      "1415/1415 [==============================] - 10s 7ms/step - loss: 0.6215 - accuracy: 0.7562 - val_loss: 0.6598 - val_accuracy: 0.7741\n",
      "Epoch 143/500\n",
      "1415/1415 [==============================] - 10s 7ms/step - loss: 0.6049 - accuracy: 0.7607 - val_loss: 0.6770 - val_accuracy: 0.7771\n",
      "Epoch 144/500\n",
      "1415/1415 [==============================] - 10s 7ms/step - loss: 0.6177 - accuracy: 0.7576 - val_loss: 0.6322 - val_accuracy: 0.7891\n",
      "Epoch 145/500\n",
      "1415/1415 [==============================] - 10s 7ms/step - loss: 0.6260 - accuracy: 0.7519 - val_loss: 0.6304 - val_accuracy: 0.7890\n",
      "Epoch 146/500\n",
      "1415/1415 [==============================] - 10s 7ms/step - loss: 0.6185 - accuracy: 0.7578 - val_loss: 0.6389 - val_accuracy: 0.7854\n",
      "Epoch 147/500\n",
      "1415/1415 [==============================] - 10s 7ms/step - loss: 0.5973 - accuracy: 0.7646 - val_loss: 0.6467 - val_accuracy: 0.7864\n",
      "Epoch 148/500\n",
      "1415/1415 [==============================] - 10s 7ms/step - loss: 0.6003 - accuracy: 0.7633 - val_loss: 0.6870 - val_accuracy: 0.7644\n",
      "Epoch 149/500\n",
      "1415/1415 [==============================] - 10s 7ms/step - loss: 0.5967 - accuracy: 0.7659 - val_loss: 0.6709 - val_accuracy: 0.7803\n",
      "Epoch 150/500\n",
      "1415/1415 [==============================] - 10s 7ms/step - loss: 0.6055 - accuracy: 0.7659 - val_loss: 0.6495 - val_accuracy: 0.7799\n",
      "Epoch 151/500\n",
      "1415/1415 [==============================] - 10s 7ms/step - loss: 0.5875 - accuracy: 0.7694 - val_loss: 0.6633 - val_accuracy: 0.7800\n",
      "547/547 [==============================] - 2s 3ms/step - loss: 0.6633 - accuracy: 0.7800\n",
      "553/553 [==============================] - 2s 3ms/step - loss: 0.6824 - accuracy: 0.7702\n"
     ]
    }
   ],
   "source": [
    "history = compile_and_fit(model3, train_df, y_train_df, val_df, y_val_df)\n",
    "val_performance = {}\n",
    "performance = {}\n",
    "# IPython.display.clear_output()\n",
    "val_performance['LSTM'] = model3.evaluate(val_df, y_val_df)\n",
    "performance['LSTM'] = model3.evaluate(test_df, y_test_df, verbose=1)"
   ]
  },
  {
   "cell_type": "code",
   "execution_count": 56,
   "id": "269e8ff9",
   "metadata": {},
   "outputs": [],
   "source": [
    "acc = history.history['accuracy']\n",
    "val_acc = history.history['val_accuracy']\n",
    "loss = history.history['loss']\n",
    "val_loss = history.history['val_loss']"
   ]
  },
  {
   "cell_type": "code",
   "execution_count": 57,
   "id": "01f22010",
   "metadata": {},
   "outputs": [
    {
     "data": {
      "image/png": "[encoded data removed]",
      "text/plain": [
       "<Figure size 432x288 with 1 Axes>"
      ]
     },
     "metadata": {
      "needs_background": "light"
     },
     "output_type": "display_data"
    },
    {
     "data": {
      "image/png": "[encoded data removed]",
      "text/plain": [
       "<Figure size 432x288 with 1 Axes>"
      ]
     },
     "metadata": {
      "needs_background": "light"
     },
     "output_type": "display_data"
    },
    {
     "data": {
      "text/plain": [
       "<Figure size 432x288 with 0 Axes>"
      ]
     },
     "metadata": {},
     "output_type": "display_data"
    }
   ],
   "source": [
    "import matplotlib.pyplot as plt\n",
    "\n",
    "epochs = range(1, len(acc) + 1)\n",
    "\n",
    "plt.plot(epochs, acc, 'bo', label='Training acc')\n",
    "plt.plot(epochs, val_acc, 'b', label='Validation acc')\n",
    "plt.title('Training and validation accuracy')\n",
    "plt.legend()\n",
    "\n",
    "plt.figure()\n",
    "\n",
    "plt.plot(epochs, loss, 'bo', label='Training loss')\n",
    "plt.plot(epochs, val_loss, 'b', label='Validation loss')\n",
    "plt.title('Training and validation loss')\n",
    "plt.legend()\n",
    "\n",
    "plt.show()\n",
    "\n",
    "plt.savefig('filename2.pdf', dpi=300)"
   ]
  },
  {
   "cell_type": "code",
   "execution_count": 58,
   "id": "4c3ced4c",
   "metadata": {},
   "outputs": [
    {
     "data": {
      "image/png": "[encoded data removed]",
      "text/plain": [
       "<Figure size 432x288 with 1 Axes>"
      ]
     },
     "metadata": {
      "needs_background": "light"
     },
     "output_type": "display_data"
    }
   ],
   "source": [
    "# history = model.fit(X_train, Y_train, validation_data=(X_test, Y_test), batch_size=32, epochs=10, verbose=1)\n",
    "\n",
    "# Get training and test loss histories\n",
    "training_loss = history.history['accuracy']\n",
    "test_loss = history.history['val_accuracy']\n",
    "\n",
    "# Create count of the number of epochs\n",
    "epoch_count = range(1, len(training_loss) + 1)\n",
    "\n",
    "# Visualize loss history\n",
    "plt.plot(epoch_count, training_loss, 'r--')\n",
    "plt.plot(epoch_count, test_loss, 'b-')\n",
    "plt.legend(['Training accuracy', 'Val accuracy'])\n",
    "plt.xlabel('Epoch')\n",
    "plt.ylabel('accuracy')\n",
    "plt.show();"
   ]
  },
  {
   "cell_type": "code",
   "execution_count": 59,
   "id": "a54b2461",
   "metadata": {},
   "outputs": [],
   "source": [
    "gru_model = tf.keras.models.Sequential([\n",
    "\n",
    "    # Shape [batch, time, features] => [batch, time, lstm_units]\n",
    "    tf.keras.layers.GRU(128, return_sequences=True),\n",
    "    tf.keras.layers.Dropout(0.5),\n",
    "    tf.keras.layers.GRU(64, return_sequences=True),\n",
    "    tf.keras.layers.Dropout(0.5),\n",
    "    tf.keras.layers.GRU(16, return_sequences=False),\n",
    "    tf.keras.layers.Dense(units=7 , activation = 'softmax')\n",
    "])"
   ]
  },
  {
   "cell_type": "code",
   "execution_count": 60,
   "id": "7c6c7308",
   "metadata": {},
   "outputs": [],
   "source": [
    "from keras.models import load_model \n",
    "loaded_model1 = tf.keras.models.load_model(\"D:\\Tesis\\GaiaData2vec\\gru_model_data2vec_gaia.h5\",custom_objects={\"R_squared\": R_squared})"
   ]
  },
  {
   "cell_type": "code",
   "execution_count": 61,
   "id": "bec1abb5",
   "metadata": {},
   "outputs": [
    {
     "name": "stdout",
     "output_type": "stream",
     "text": [
      "Model: \"model_2\"\n",
      "_________________________________________________________________\n",
      " Layer (type)                Output Shape              Param #   \n",
      "=================================================================\n",
      " cu_dnngru_input (InputLayer  [(None, 22, 4)]          0         \n",
      " )                                                               \n",
      "                                                                 \n",
      " cu_dnngru (CuDNNGRU)        (None, 22, 128)           51456     \n",
      "                                                                 \n",
      " dropout_2 (Dropout)         (None, 22, 128)           0         \n",
      "                                                                 \n",
      " cu_dnngru_1 (CuDNNGRU)      (None, 22, 64)            37248     \n",
      "                                                                 \n",
      " dropout_3 (Dropout)         (None, 22, 64)            0         \n",
      "                                                                 \n",
      " cu_dnnlstm_3 (CuDNNLSTM)    (None, 16)                5248      \n",
      "                                                                 \n",
      "=================================================================\n",
      "Total params: 93,952\n",
      "Trainable params: 93,952\n",
      "Non-trainable params: 0\n",
      "_________________________________________________________________\n"
     ]
    }
   ],
   "source": [
    "from keras.models import Model\n",
    "\n",
    "model4 = Model(loaded_model1.input, loaded_model1.layers[-2].output)\n",
    "\n",
    "model4.summary()"
   ]
  },
  {
   "cell_type": "code",
   "execution_count": 62,
   "id": "4b639858",
   "metadata": {},
   "outputs": [
    {
     "name": "stdout",
     "output_type": "stream",
     "text": [
      "Model: \"model_3\"\n",
      "_________________________________________________________________\n",
      " Layer (type)                Output Shape              Param #   \n",
      "=================================================================\n",
      " cu_dnngru_input (InputLayer  [(None, 22, 4)]          0         \n",
      " )                                                               \n",
      "                                                                 \n",
      " cu_dnngru (CuDNNGRU)        (None, 22, 128)           51456     \n",
      "                                                                 \n",
      " dropout_2 (Dropout)         (None, 22, 128)           0         \n",
      "                                                                 \n",
      " cu_dnngru_1 (CuDNNGRU)      (None, 22, 64)            37248     \n",
      "                                                                 \n",
      " dropout_3 (Dropout)         (None, 22, 64)            0         \n",
      "                                                                 \n",
      " cu_dnnlstm_3 (CuDNNLSTM)    (None, 16)                5248      \n",
      "                                                                 \n",
      " dense_3 (Dense)             (None, 7)                 119       \n",
      "                                                                 \n",
      "=================================================================\n",
      "Total params: 94,071\n",
      "Trainable params: 94,071\n",
      "Non-trainable params: 0\n",
      "_________________________________________________________________\n"
     ]
    }
   ],
   "source": [
    "x = tf.keras.layers.Dense(units=7 , activation = 'softmax')(loaded_model1.layers[-2].output)\n",
    "\n",
    "model5 = Model(loaded_model1.input, [x])\n",
    "\n",
    "model5.summary()"
   ]
  },
  {
   "cell_type": "code",
   "execution_count": 63,
   "id": "91c75c1f",
   "metadata": {},
   "outputs": [
    {
     "name": "stdout",
     "output_type": "stream",
     "text": [
      "Epoch 1/500\n",
      "1415/1415 [==============================] - 11s 7ms/step - loss: 1.8357 - accuracy: 0.1978 - val_loss: 1.2242 - val_accuracy: 0.4482\n",
      "Epoch 2/500\n",
      "1415/1415 [==============================] - 9s 6ms/step - loss: 1.5752 - accuracy: 0.2768 - val_loss: 1.1984 - val_accuracy: 0.4611\n",
      "Epoch 3/500\n",
      "1415/1415 [==============================] - 9s 6ms/step - loss: 1.5588 - accuracy: 0.2852 - val_loss: 1.1931 - val_accuracy: 0.4603\n",
      "Epoch 4/500\n",
      "1415/1415 [==============================] - 9s 7ms/step - loss: 1.5947 - accuracy: 0.2782 - val_loss: 1.2538 - val_accuracy: 0.4475\n",
      "Epoch 5/500\n",
      "1415/1415 [==============================] - 9s 6ms/step - loss: 1.5872 - accuracy: 0.2816 - val_loss: 1.2231 - val_accuracy: 0.4450\n",
      "Epoch 6/500\n",
      "1415/1415 [==============================] - 9s 6ms/step - loss: 1.5861 - accuracy: 0.2802 - val_loss: 1.2281 - val_accuracy: 0.4476\n",
      "Epoch 7/500\n",
      "1415/1415 [==============================] - 9s 6ms/step - loss: 1.5688 - accuracy: 0.2861 - val_loss: 1.1947 - val_accuracy: 0.4505\n",
      "Epoch 8/500\n",
      "1415/1415 [==============================] - 9s 7ms/step - loss: 1.5537 - accuracy: 0.2923 - val_loss: 1.1988 - val_accuracy: 0.4844\n",
      "Epoch 9/500\n",
      "1415/1415 [==============================] - 10s 7ms/step - loss: 1.5436 - accuracy: 0.3088 - val_loss: 1.1828 - val_accuracy: 0.4638\n",
      "Epoch 10/500\n",
      "1415/1415 [==============================] - 9s 6ms/step - loss: 1.5265 - accuracy: 0.3256 - val_loss: 1.1759 - val_accuracy: 0.4978\n",
      "Epoch 11/500\n",
      "1415/1415 [==============================] - 9s 6ms/step - loss: 1.4942 - accuracy: 0.3507 - val_loss: 1.1731 - val_accuracy: 0.4965\n",
      "Epoch 12/500\n",
      "1415/1415 [==============================] - 9s 6ms/step - loss: 1.4720 - accuracy: 0.3659 - val_loss: 1.1755 - val_accuracy: 0.4942\n",
      "Epoch 13/500\n",
      "1415/1415 [==============================] - 9s 6ms/step - loss: 1.4564 - accuracy: 0.3749 - val_loss: 1.1643 - val_accuracy: 0.5098\n",
      "Epoch 14/500\n",
      "1415/1415 [==============================] - 9s 6ms/step - loss: 1.4452 - accuracy: 0.3842 - val_loss: 1.1715 - val_accuracy: 0.4949\n",
      "Epoch 15/500\n",
      "1415/1415 [==============================] - 9s 6ms/step - loss: 1.4394 - accuracy: 0.3887 - val_loss: 1.1586 - val_accuracy: 0.5162\n",
      "Epoch 16/500\n",
      "1415/1415 [==============================] - 9s 6ms/step - loss: 1.4339 - accuracy: 0.3966 - val_loss: 1.1348 - val_accuracy: 0.5266\n",
      "Epoch 17/500\n",
      "1415/1415 [==============================] - 9s 6ms/step - loss: 1.4296 - accuracy: 0.3990 - val_loss: 1.1331 - val_accuracy: 0.5321\n",
      "Epoch 18/500\n",
      "1415/1415 [==============================] - 9s 6ms/step - loss: 1.4196 - accuracy: 0.4081 - val_loss: 1.1262 - val_accuracy: 0.5414\n",
      "Epoch 19/500\n",
      "1415/1415 [==============================] - 9s 6ms/step - loss: 1.4136 - accuracy: 0.4121 - val_loss: 1.1035 - val_accuracy: 0.5489\n",
      "Epoch 20/500\n",
      "1415/1415 [==============================] - 9s 6ms/step - loss: 1.4078 - accuracy: 0.4149 - val_loss: 1.1206 - val_accuracy: 0.5455\n",
      "Epoch 21/500\n",
      "1415/1415 [==============================] - 9s 6ms/step - loss: 1.4074 - accuracy: 0.4146 - val_loss: 1.1076 - val_accuracy: 0.5714\n",
      "Epoch 22/500\n",
      "1415/1415 [==============================] - 9s 6ms/step - loss: 1.3980 - accuracy: 0.4212 - val_loss: 1.0868 - val_accuracy: 0.5839\n",
      "Epoch 23/500\n",
      "1415/1415 [==============================] - 9s 6ms/step - loss: 1.3911 - accuracy: 0.4255 - val_loss: 1.0743 - val_accuracy: 0.5923\n",
      "Epoch 24/500\n",
      "1415/1415 [==============================] - 9s 6ms/step - loss: 1.3818 - accuracy: 0.4322 - val_loss: 1.0871 - val_accuracy: 0.5788\n",
      "Epoch 25/500\n",
      "1415/1415 [==============================] - 9s 6ms/step - loss: 1.3690 - accuracy: 0.4383 - val_loss: 1.0366 - val_accuracy: 0.6058\n",
      "Epoch 26/500\n",
      "1415/1415 [==============================] - 9s 6ms/step - loss: 1.3762 - accuracy: 0.4384 - val_loss: 0.9814 - val_accuracy: 0.6630\n",
      "Epoch 27/500\n",
      "1415/1415 [==============================] - 9s 6ms/step - loss: 1.3171 - accuracy: 0.4746 - val_loss: 0.9149 - val_accuracy: 0.6827\n",
      "Epoch 28/500\n",
      "1415/1415 [==============================] - 9s 6ms/step - loss: 1.2201 - accuracy: 0.5226 - val_loss: 0.9715 - val_accuracy: 0.6622\n",
      "Epoch 29/500\n",
      "1415/1415 [==============================] - 9s 6ms/step - loss: 1.1054 - accuracy: 0.5687 - val_loss: 0.9469 - val_accuracy: 0.6749\n",
      "Epoch 30/500\n",
      "1415/1415 [==============================] - 9s 6ms/step - loss: 1.0685 - accuracy: 0.5768 - val_loss: 0.7219 - val_accuracy: 0.7551\n",
      "Epoch 31/500\n",
      "1415/1415 [==============================] - 9s 6ms/step - loss: 0.9775 - accuracy: 0.6122 - val_loss: 0.7261 - val_accuracy: 0.7540\n",
      "Epoch 32/500\n",
      "1415/1415 [==============================] - 9s 6ms/step - loss: 0.9288 - accuracy: 0.6312 - val_loss: 0.7041 - val_accuracy: 0.7612\n",
      "Epoch 33/500\n",
      "1415/1415 [==============================] - 9s 6ms/step - loss: 0.9142 - accuracy: 0.6352 - val_loss: 0.6836 - val_accuracy: 0.7771\n",
      "Epoch 34/500\n",
      "1415/1415 [==============================] - 9s 6ms/step - loss: 0.8898 - accuracy: 0.6437 - val_loss: 0.9509 - val_accuracy: 0.6642\n",
      "Epoch 35/500\n",
      "1415/1415 [==============================] - 9s 6ms/step - loss: 0.8773 - accuracy: 0.6482 - val_loss: 0.7304 - val_accuracy: 0.7480\n",
      "Epoch 36/500\n",
      "1415/1415 [==============================] - 9s 6ms/step - loss: 0.9008 - accuracy: 0.6379 - val_loss: 0.6979 - val_accuracy: 0.7696\n",
      "Epoch 37/500\n",
      "1415/1415 [==============================] - 9s 6ms/step - loss: 0.8823 - accuracy: 0.6472 - val_loss: 0.7627 - val_accuracy: 0.7360\n",
      "Epoch 38/500\n",
      "1415/1415 [==============================] - 9s 6ms/step - loss: 0.8660 - accuracy: 0.6539 - val_loss: 0.6697 - val_accuracy: 0.7790\n",
      "Epoch 39/500\n",
      "1415/1415 [==============================] - 9s 6ms/step - loss: 0.8662 - accuracy: 0.6587 - val_loss: 0.6500 - val_accuracy: 0.7843\n",
      "Epoch 40/500\n",
      "1415/1415 [==============================] - 9s 6ms/step - loss: 0.8255 - accuracy: 0.6683 - val_loss: 0.6671 - val_accuracy: 0.7794\n",
      "Epoch 41/500\n",
      "1415/1415 [==============================] - 9s 6ms/step - loss: 0.8206 - accuracy: 0.6723 - val_loss: 0.6571 - val_accuracy: 0.7775\n",
      "Epoch 42/500\n",
      "1415/1415 [==============================] - 9s 6ms/step - loss: 0.8144 - accuracy: 0.6771 - val_loss: 0.7135 - val_accuracy: 0.7495\n",
      "Epoch 43/500\n",
      "1415/1415 [==============================] - 9s 6ms/step - loss: 0.8208 - accuracy: 0.6758 - val_loss: 0.6521 - val_accuracy: 0.7801\n",
      "Epoch 44/500\n",
      "1415/1415 [==============================] - 9s 6ms/step - loss: 0.7934 - accuracy: 0.6885 - val_loss: 0.6682 - val_accuracy: 0.7770\n",
      "Epoch 45/500\n",
      "1415/1415 [==============================] - 9s 6ms/step - loss: 0.7997 - accuracy: 0.6852 - val_loss: 0.7023 - val_accuracy: 0.7567\n",
      "Epoch 46/500\n",
      "1415/1415 [==============================] - 9s 6ms/step - loss: 0.7637 - accuracy: 0.6959 - val_loss: 0.6421 - val_accuracy: 0.7839\n",
      "Epoch 47/500\n",
      "1415/1415 [==============================] - 9s 6ms/step - loss: 0.7740 - accuracy: 0.6952 - val_loss: 0.7157 - val_accuracy: 0.7500\n",
      "Epoch 48/500\n",
      "1415/1415 [==============================] - 9s 6ms/step - loss: 0.7615 - accuracy: 0.7009 - val_loss: 0.6404 - val_accuracy: 0.7833\n",
      "Epoch 49/500\n",
      "1415/1415 [==============================] - 9s 6ms/step - loss: 0.7572 - accuracy: 0.7063 - val_loss: 0.6630 - val_accuracy: 0.7735\n",
      "Epoch 50/500\n",
      "1415/1415 [==============================] - 9s 6ms/step - loss: 0.7770 - accuracy: 0.6977 - val_loss: 0.6925 - val_accuracy: 0.7595\n",
      "Epoch 51/500\n",
      "1415/1415 [==============================] - 9s 6ms/step - loss: 0.7650 - accuracy: 0.7031 - val_loss: 0.6622 - val_accuracy: 0.7744\n",
      "Epoch 52/500\n",
      "1415/1415 [==============================] - 9s 7ms/step - loss: 0.7726 - accuracy: 0.6991 - val_loss: 0.7316 - val_accuracy: 0.7439\n",
      "Epoch 53/500\n",
      "1415/1415 [==============================] - 9s 6ms/step - loss: 0.7707 - accuracy: 0.6980 - val_loss: 0.6824 - val_accuracy: 0.7626\n",
      "Epoch 54/500\n",
      "1415/1415 [==============================] - 9s 6ms/step - loss: 0.7616 - accuracy: 0.7020 - val_loss: 0.6559 - val_accuracy: 0.7733\n",
      "Epoch 55/500\n",
      "1415/1415 [==============================] - 9s 6ms/step - loss: 0.7447 - accuracy: 0.7086 - val_loss: 0.6712 - val_accuracy: 0.7746\n",
      "Epoch 56/500\n",
      "1415/1415 [==============================] - 9s 6ms/step - loss: 0.7438 - accuracy: 0.7072 - val_loss: 0.6852 - val_accuracy: 0.7651\n",
      "Epoch 57/500\n"
     ]
    },
    {
     "name": "stdout",
     "output_type": "stream",
     "text": [
      "1415/1415 [==============================] - 9s 6ms/step - loss: 0.7708 - accuracy: 0.6947 - val_loss: 0.8057 - val_accuracy: 0.7210\n",
      "Epoch 58/500\n",
      "1415/1415 [==============================] - 9s 6ms/step - loss: 0.7221 - accuracy: 0.7153 - val_loss: 0.6445 - val_accuracy: 0.7776\n",
      "Epoch 59/500\n",
      "1415/1415 [==============================] - 9s 6ms/step - loss: 0.9843 - accuracy: 0.6212 - val_loss: 0.6866 - val_accuracy: 0.7634\n",
      "Epoch 60/500\n",
      "1415/1415 [==============================] - 9s 6ms/step - loss: 0.7986 - accuracy: 0.6848 - val_loss: 0.6821 - val_accuracy: 0.7632\n",
      "Epoch 61/500\n",
      "1415/1415 [==============================] - 9s 6ms/step - loss: 0.7498 - accuracy: 0.7039 - val_loss: 0.8679 - val_accuracy: 0.6833\n",
      "Epoch 62/500\n",
      "1415/1415 [==============================] - 9s 6ms/step - loss: 0.7376 - accuracy: 0.7113 - val_loss: 0.6994 - val_accuracy: 0.7557\n",
      "Epoch 63/500\n",
      "1415/1415 [==============================] - 9s 6ms/step - loss: 0.7434 - accuracy: 0.7090 - val_loss: 0.6521 - val_accuracy: 0.7760\n",
      "Epoch 64/500\n",
      "1415/1415 [==============================] - 9s 6ms/step - loss: 0.7392 - accuracy: 0.7114 - val_loss: 0.6705 - val_accuracy: 0.7771\n",
      "Epoch 65/500\n",
      "1415/1415 [==============================] - 9s 6ms/step - loss: 0.7337 - accuracy: 0.7143 - val_loss: 0.6448 - val_accuracy: 0.7767\n",
      "Epoch 66/500\n",
      "1415/1415 [==============================] - 9s 6ms/step - loss: 0.7266 - accuracy: 0.7171 - val_loss: 0.7475 - val_accuracy: 0.7408\n",
      "Epoch 67/500\n",
      "1415/1415 [==============================] - 9s 6ms/step - loss: 0.7223 - accuracy: 0.7174 - val_loss: 0.6573 - val_accuracy: 0.7715\n",
      "Epoch 68/500\n",
      "1415/1415 [==============================] - 9s 6ms/step - loss: 0.7171 - accuracy: 0.7195 - val_loss: 0.6353 - val_accuracy: 0.7804\n",
      "Epoch 69/500\n",
      "1415/1415 [==============================] - 9s 6ms/step - loss: 0.7056 - accuracy: 0.7255 - val_loss: 0.6253 - val_accuracy: 0.7894\n",
      "Epoch 70/500\n",
      "1415/1415 [==============================] - 9s 6ms/step - loss: 0.6895 - accuracy: 0.7326 - val_loss: 0.7892 - val_accuracy: 0.7326\n",
      "Epoch 71/500\n",
      "1415/1415 [==============================] - 9s 6ms/step - loss: 0.7095 - accuracy: 0.7280 - val_loss: 1.2590 - val_accuracy: 0.6162\n",
      "Epoch 72/500\n",
      "1415/1415 [==============================] - 9s 6ms/step - loss: 0.7009 - accuracy: 0.7300 - val_loss: 0.6473 - val_accuracy: 0.7785\n",
      "Epoch 73/500\n",
      "1415/1415 [==============================] - 9s 6ms/step - loss: 0.6759 - accuracy: 0.7417 - val_loss: 0.6184 - val_accuracy: 0.7893\n",
      "Epoch 74/500\n",
      "1415/1415 [==============================] - 9s 6ms/step - loss: 0.6790 - accuracy: 0.7429 - val_loss: 0.6192 - val_accuracy: 0.7885\n",
      "Epoch 75/500\n",
      "1415/1415 [==============================] - 9s 6ms/step - loss: 0.6557 - accuracy: 0.7545 - val_loss: 0.6287 - val_accuracy: 0.7885\n",
      "Epoch 76/500\n",
      "1415/1415 [==============================] - 9s 6ms/step - loss: 0.6482 - accuracy: 0.7591 - val_loss: 0.7535 - val_accuracy: 0.7410\n",
      "Epoch 77/500\n",
      "1415/1415 [==============================] - 9s 6ms/step - loss: 0.6371 - accuracy: 0.7651 - val_loss: 0.6346 - val_accuracy: 0.7832\n",
      "Epoch 78/500\n",
      "1415/1415 [==============================] - 9s 6ms/step - loss: 0.6232 - accuracy: 0.7718 - val_loss: 0.6275 - val_accuracy: 0.7859\n",
      "Epoch 79/500\n",
      "1415/1415 [==============================] - 9s 6ms/step - loss: 0.5886 - accuracy: 0.7862 - val_loss: 0.7651 - val_accuracy: 0.7370\n",
      "Epoch 80/500\n",
      "1415/1415 [==============================] - 9s 6ms/step - loss: 0.5965 - accuracy: 0.7844 - val_loss: 0.6964 - val_accuracy: 0.7574\n",
      "Epoch 81/500\n",
      "1415/1415 [==============================] - 9s 6ms/step - loss: 0.5735 - accuracy: 0.7955 - val_loss: 0.8423 - val_accuracy: 0.7074\n",
      "Epoch 82/500\n",
      "1415/1415 [==============================] - 9s 6ms/step - loss: 0.5360 - accuracy: 0.8090 - val_loss: 0.6479 - val_accuracy: 0.7748\n",
      "Epoch 83/500\n",
      "1415/1415 [==============================] - 9s 6ms/step - loss: 0.5506 - accuracy: 0.8045 - val_loss: 0.7157 - val_accuracy: 0.7527\n",
      "Epoch 84/500\n",
      "1415/1415 [==============================] - 9s 6ms/step - loss: 0.5400 - accuracy: 0.8074 - val_loss: 0.7076 - val_accuracy: 0.7609\n",
      "Epoch 85/500\n",
      "1415/1415 [==============================] - 9s 6ms/step - loss: 0.5169 - accuracy: 0.8156 - val_loss: 0.6385 - val_accuracy: 0.7833\n",
      "Epoch 86/500\n",
      "1415/1415 [==============================] - 9s 7ms/step - loss: 0.5084 - accuracy: 0.8195 - val_loss: 0.6188 - val_accuracy: 0.7858\n",
      "Epoch 87/500\n",
      "1415/1415 [==============================] - 9s 7ms/step - loss: 0.4905 - accuracy: 0.8251 - val_loss: 0.6125 - val_accuracy: 0.7931\n",
      "Epoch 88/500\n",
      "1415/1415 [==============================] - 9s 6ms/step - loss: 0.5055 - accuracy: 0.8202 - val_loss: 0.6131 - val_accuracy: 0.7914\n",
      "Epoch 89/500\n",
      "1415/1415 [==============================] - 9s 6ms/step - loss: 0.5270 - accuracy: 0.8131 - val_loss: 0.7591 - val_accuracy: 0.7280\n",
      "Epoch 90/500\n",
      "1415/1415 [==============================] - 9s 6ms/step - loss: 0.5092 - accuracy: 0.8220 - val_loss: 0.6151 - val_accuracy: 0.7923\n",
      "Epoch 91/500\n",
      "1415/1415 [==============================] - 9s 6ms/step - loss: 0.5130 - accuracy: 0.8189 - val_loss: 0.6197 - val_accuracy: 0.7885\n",
      "Epoch 92/500\n",
      "1415/1415 [==============================] - 9s 6ms/step - loss: 0.5277 - accuracy: 0.8167 - val_loss: 0.7175 - val_accuracy: 0.7495\n",
      "Epoch 93/500\n",
      "1415/1415 [==============================] - 9s 6ms/step - loss: 0.5100 - accuracy: 0.8211 - val_loss: 0.6632 - val_accuracy: 0.7684\n",
      "Epoch 94/500\n",
      "1415/1415 [==============================] - 9s 6ms/step - loss: 0.4824 - accuracy: 0.8280 - val_loss: 0.6693 - val_accuracy: 0.7715\n",
      "Epoch 95/500\n",
      "1415/1415 [==============================] - 9s 6ms/step - loss: 0.4955 - accuracy: 0.8257 - val_loss: 0.6233 - val_accuracy: 0.7866\n",
      "Epoch 96/500\n",
      "1415/1415 [==============================] - 9s 6ms/step - loss: 0.4778 - accuracy: 0.8306 - val_loss: 0.6795 - val_accuracy: 0.7596\n",
      "Epoch 97/500\n",
      "1415/1415 [==============================] - 9s 6ms/step - loss: 0.4901 - accuracy: 0.8273 - val_loss: 0.6535 - val_accuracy: 0.7820\n",
      "Epoch 98/500\n",
      "1415/1415 [==============================] - 9s 6ms/step - loss: 0.4694 - accuracy: 0.8322 - val_loss: 0.6502 - val_accuracy: 0.7752\n",
      "Epoch 99/500\n",
      "1415/1415 [==============================] - 9s 6ms/step - loss: 0.4830 - accuracy: 0.8292 - val_loss: 0.6835 - val_accuracy: 0.7631\n",
      "Epoch 100/500\n",
      "1415/1415 [==============================] - 9s 6ms/step - loss: 0.4853 - accuracy: 0.8296 - val_loss: 0.6114 - val_accuracy: 0.7934\n",
      "Epoch 101/500\n",
      "1415/1415 [==============================] - 9s 6ms/step - loss: 0.4642 - accuracy: 0.8357 - val_loss: 0.6506 - val_accuracy: 0.7762\n",
      "Epoch 102/500\n",
      "1415/1415 [==============================] - 9s 6ms/step - loss: 0.4814 - accuracy: 0.8306 - val_loss: 0.6101 - val_accuracy: 0.7885\n",
      "Epoch 103/500\n",
      "1415/1415 [==============================] - 9s 6ms/step - loss: 0.4579 - accuracy: 0.8356 - val_loss: 0.6377 - val_accuracy: 0.7848\n",
      "Epoch 104/500\n",
      "1415/1415 [==============================] - 9s 6ms/step - loss: 0.4732 - accuracy: 0.8318 - val_loss: 0.6140 - val_accuracy: 0.7932\n",
      "Epoch 105/500\n",
      "1415/1415 [==============================] - 9s 6ms/step - loss: 0.4461 - accuracy: 0.8409 - val_loss: 0.6168 - val_accuracy: 0.7883\n",
      "Epoch 106/500\n",
      "1415/1415 [==============================] - 9s 6ms/step - loss: 0.4533 - accuracy: 0.8386 - val_loss: 0.6321 - val_accuracy: 0.7840\n",
      "Epoch 107/500\n",
      "1415/1415 [==============================] - 9s 6ms/step - loss: 0.4445 - accuracy: 0.8405 - val_loss: 0.6790 - val_accuracy: 0.7601\n",
      "Epoch 108/500\n",
      "1415/1415 [==============================] - 9s 6ms/step - loss: 0.4617 - accuracy: 0.8353 - val_loss: 0.6196 - val_accuracy: 0.7902\n",
      "Epoch 109/500\n",
      "1415/1415 [==============================] - 9s 6ms/step - loss: 0.4467 - accuracy: 0.8407 - val_loss: 0.5972 - val_accuracy: 0.7941\n",
      "Epoch 110/500\n",
      "1415/1415 [==============================] - 9s 6ms/step - loss: 0.4482 - accuracy: 0.8410 - val_loss: 0.6410 - val_accuracy: 0.7831\n",
      "Epoch 111/500\n",
      "1415/1415 [==============================] - 9s 6ms/step - loss: 1.0196 - accuracy: 0.6180 - val_loss: 1.5921 - val_accuracy: 0.4408\n",
      "Epoch 112/500\n",
      "1415/1415 [==============================] - 9s 6ms/step - loss: 1.7542 - accuracy: 0.2434 - val_loss: 1.2604 - val_accuracy: 0.4489\n",
      "Epoch 113/500\n"
     ]
    },
    {
     "name": "stdout",
     "output_type": "stream",
     "text": [
      "1415/1415 [==============================] - 9s 6ms/step - loss: 1.6855 - accuracy: 0.2580 - val_loss: 1.2334 - val_accuracy: 0.4500\n",
      "Epoch 114/500\n",
      "1415/1415 [==============================] - 9s 6ms/step - loss: 1.6419 - accuracy: 0.2661 - val_loss: 1.2288 - val_accuracy: 0.4504\n",
      "Epoch 115/500\n",
      "1415/1415 [==============================] - 9s 6ms/step - loss: 1.5837 - accuracy: 0.2762 - val_loss: 1.2053 - val_accuracy: 0.4501\n",
      "Epoch 116/500\n",
      "1415/1415 [==============================] - 9s 6ms/step - loss: 1.5745 - accuracy: 0.2801 - val_loss: 1.2018 - val_accuracy: 0.4501\n",
      "Epoch 117/500\n",
      "1415/1415 [==============================] - 9s 6ms/step - loss: 1.6013 - accuracy: 0.2763 - val_loss: 1.2046 - val_accuracy: 0.4504\n",
      "Epoch 118/500\n",
      "1415/1415 [==============================] - 9s 6ms/step - loss: 1.5730 - accuracy: 0.2849 - val_loss: 1.2007 - val_accuracy: 0.4643\n",
      "Epoch 119/500\n",
      "1415/1415 [==============================] - 9s 6ms/step - loss: 1.5620 - accuracy: 0.2907 - val_loss: 1.1939 - val_accuracy: 0.4567\n",
      "Epoch 120/500\n",
      "1415/1415 [==============================] - 9s 6ms/step - loss: 1.5562 - accuracy: 0.2990 - val_loss: 1.1948 - val_accuracy: 0.5409\n",
      "Epoch 121/500\n",
      "1415/1415 [==============================] - 9s 6ms/step - loss: 1.5472 - accuracy: 0.3075 - val_loss: 1.1862 - val_accuracy: 0.4659\n",
      "Epoch 122/500\n",
      "1415/1415 [==============================] - 9s 6ms/step - loss: 1.5437 - accuracy: 0.3150 - val_loss: 1.1846 - val_accuracy: 0.4820\n",
      "Epoch 123/500\n",
      "1415/1415 [==============================] - 9s 6ms/step - loss: 1.5220 - accuracy: 0.3375 - val_loss: 1.1580 - val_accuracy: 0.5557\n",
      "Epoch 124/500\n",
      "1415/1415 [==============================] - 9s 6ms/step - loss: 1.5128 - accuracy: 0.3426 - val_loss: 1.1516 - val_accuracy: 0.5001\n",
      "Epoch 125/500\n",
      "1415/1415 [==============================] - 9s 6ms/step - loss: 1.4796 - accuracy: 0.3698 - val_loss: 1.1320 - val_accuracy: 0.4877\n",
      "Epoch 126/500\n",
      "1415/1415 [==============================] - 9s 6ms/step - loss: 1.4447 - accuracy: 0.3954 - val_loss: 1.0561 - val_accuracy: 0.5951\n",
      "Epoch 127/500\n",
      "1415/1415 [==============================] - 9s 6ms/step - loss: 1.3932 - accuracy: 0.4341 - val_loss: 0.8898 - val_accuracy: 0.7166\n",
      "Epoch 128/500\n",
      "1415/1415 [==============================] - 9s 6ms/step - loss: 1.3019 - accuracy: 0.4816 - val_loss: 0.8273 - val_accuracy: 0.7536\n",
      "Epoch 129/500\n",
      "1415/1415 [==============================] - 9s 6ms/step - loss: 1.2429 - accuracy: 0.5093 - val_loss: 0.8263 - val_accuracy: 0.7053\n",
      "Epoch 130/500\n",
      "1415/1415 [==============================] - 9s 6ms/step - loss: 1.2149 - accuracy: 0.5226 - val_loss: 0.8646 - val_accuracy: 0.7015\n",
      "Epoch 131/500\n",
      "1415/1415 [==============================] - 9s 6ms/step - loss: 1.1688 - accuracy: 0.5383 - val_loss: 0.7373 - val_accuracy: 0.7577\n",
      "Epoch 132/500\n",
      "1415/1415 [==============================] - 9s 6ms/step - loss: 1.1653 - accuracy: 0.5395 - val_loss: 0.7846 - val_accuracy: 0.7406\n",
      "Epoch 133/500\n",
      "1415/1415 [==============================] - 9s 6ms/step - loss: 1.1488 - accuracy: 0.5463 - val_loss: 1.0203 - val_accuracy: 0.6265\n",
      "Epoch 134/500\n",
      "1415/1415 [==============================] - 9s 6ms/step - loss: 1.1345 - accuracy: 0.5529 - val_loss: 0.8425 - val_accuracy: 0.7035\n",
      "Epoch 135/500\n",
      "1415/1415 [==============================] - 9s 6ms/step - loss: 1.1321 - accuracy: 0.5587 - val_loss: 2.1863 - val_accuracy: 0.3854\n",
      "Epoch 136/500\n",
      "1415/1415 [==============================] - 9s 6ms/step - loss: 1.3593 - accuracy: 0.4481 - val_loss: 0.9457 - val_accuracy: 0.6811\n",
      "Epoch 137/500\n",
      "1415/1415 [==============================] - 9s 6ms/step - loss: 1.1078 - accuracy: 0.5633 - val_loss: 0.8127 - val_accuracy: 0.7182\n",
      "Epoch 138/500\n",
      "1415/1415 [==============================] - 9s 6ms/step - loss: 1.0783 - accuracy: 0.5738 - val_loss: 0.7105 - val_accuracy: 0.7664\n",
      "Epoch 139/500\n",
      "1415/1415 [==============================] - 9s 6ms/step - loss: 1.0716 - accuracy: 0.5757 - val_loss: 0.7101 - val_accuracy: 0.7699\n",
      "Epoch 140/500\n",
      "1415/1415 [==============================] - 9s 6ms/step - loss: 1.0601 - accuracy: 0.5804 - val_loss: 0.8422 - val_accuracy: 0.7089\n",
      "Epoch 141/500\n",
      "1415/1415 [==============================] - 9s 6ms/step - loss: 1.0363 - accuracy: 0.5872 - val_loss: 0.7607 - val_accuracy: 0.7381\n",
      "Epoch 142/500\n",
      "1415/1415 [==============================] - 9s 6ms/step - loss: 1.0354 - accuracy: 0.5879 - val_loss: 0.9151 - val_accuracy: 0.6740\n",
      "Epoch 143/500\n",
      "1415/1415 [==============================] - 9s 6ms/step - loss: 1.0294 - accuracy: 0.5916 - val_loss: 0.7324 - val_accuracy: 0.7592\n",
      "Epoch 144/500\n",
      "1415/1415 [==============================] - 9s 6ms/step - loss: 1.0166 - accuracy: 0.5975 - val_loss: 0.7138 - val_accuracy: 0.7674\n",
      "Epoch 145/500\n",
      "1415/1415 [==============================] - 9s 6ms/step - loss: 1.0038 - accuracy: 0.5993 - val_loss: 0.7043 - val_accuracy: 0.7661\n",
      "Epoch 146/500\n",
      "1415/1415 [==============================] - 9s 6ms/step - loss: 0.9988 - accuracy: 0.6057 - val_loss: 0.9764 - val_accuracy: 0.6490\n",
      "Epoch 147/500\n",
      "1415/1415 [==============================] - 9s 6ms/step - loss: 1.0059 - accuracy: 0.6019 - val_loss: 0.6918 - val_accuracy: 0.7695\n",
      "Epoch 148/500\n",
      "1415/1415 [==============================] - 9s 6ms/step - loss: 0.9819 - accuracy: 0.6087 - val_loss: 0.7354 - val_accuracy: 0.7409\n",
      "Epoch 149/500\n",
      "1415/1415 [==============================] - 9s 6ms/step - loss: 0.9739 - accuracy: 0.6136 - val_loss: 1.1179 - val_accuracy: 0.6413\n",
      "Epoch 150/500\n",
      "1415/1415 [==============================] - 9s 6ms/step - loss: 0.9603 - accuracy: 0.6197 - val_loss: 0.7368 - val_accuracy: 0.7384\n",
      "Epoch 151/500\n",
      "1415/1415 [==============================] - 9s 6ms/step - loss: 0.9482 - accuracy: 0.6234 - val_loss: 0.6669 - val_accuracy: 0.7743\n",
      "Epoch 152/500\n",
      "1415/1415 [==============================] - 9s 7ms/step - loss: 0.9499 - accuracy: 0.6251 - val_loss: 0.6786 - val_accuracy: 0.7716\n",
      "Epoch 153/500\n",
      "1415/1415 [==============================] - 9s 7ms/step - loss: 0.9399 - accuracy: 0.6270 - val_loss: 0.6665 - val_accuracy: 0.7749\n",
      "Epoch 154/500\n",
      "1415/1415 [==============================] - 10s 7ms/step - loss: 0.9445 - accuracy: 0.6272 - val_loss: 0.6743 - val_accuracy: 0.7683\n",
      "Epoch 155/500\n",
      "1415/1415 [==============================] - 10s 7ms/step - loss: 0.9243 - accuracy: 0.6344 - val_loss: 0.6709 - val_accuracy: 0.7709\n",
      "Epoch 156/500\n",
      "1415/1415 [==============================] - 10s 7ms/step - loss: 0.8940 - accuracy: 0.6478 - val_loss: 0.7573 - val_accuracy: 0.7416\n",
      "Epoch 157/500\n",
      "1415/1415 [==============================] - 9s 7ms/step - loss: 0.9025 - accuracy: 0.6443 - val_loss: 0.6663 - val_accuracy: 0.7771\n",
      "Epoch 158/500\n",
      "1415/1415 [==============================] - 10s 7ms/step - loss: 0.8967 - accuracy: 0.6468 - val_loss: 0.7624 - val_accuracy: 0.7318\n",
      "Epoch 159/500\n",
      "1415/1415 [==============================] - 10s 7ms/step - loss: 0.8961 - accuracy: 0.6476 - val_loss: 0.6529 - val_accuracy: 0.7812\n",
      "547/547 [==============================] - 2s 3ms/step - loss: 0.6529 - accuracy: 0.7812\n",
      "553/553 [==============================] - 2s 3ms/step - loss: 0.6709 - accuracy: 0.7726\n"
     ]
    }
   ],
   "source": [
    "history = compile_and_fit(model5, train_df, y_train_df, val_df, y_val_df)\n",
    "val_performance = {}\n",
    "performance = {}\n",
    "# IPython.display.clear_output()\n",
    "val_performance['GRU'] = model5.evaluate(val_df, y_val_df)\n",
    "performance['GRU'] = model5.evaluate(test_df, y_test_df, verbose=1)"
   ]
  },
  {
   "cell_type": "code",
   "execution_count": 64,
   "id": "9eea2831",
   "metadata": {},
   "outputs": [],
   "source": [
    "acc = history.history['accuracy']\n",
    "val_acc = history.history['val_accuracy']\n",
    "loss = history.history['loss']\n",
    "val_loss = history.history['val_loss']"
   ]
  },
  {
   "cell_type": "code",
   "execution_count": 65,
   "id": "32ad4c89",
   "metadata": {},
   "outputs": [
    {
     "data": {
      "image/png": "[encoded data removed]",
      "text/plain": [
       "<Figure size 432x288 with 1 Axes>"
      ]
     },
     "metadata": {
      "needs_background": "light"
     },
     "output_type": "display_data"
    },
    {
     "data": {
      "image/png": "[encoded data removed]",
      "text/plain": [
       "<Figure size 432x288 with 1 Axes>"
      ]
     },
     "metadata": {
      "needs_background": "light"
     },
     "output_type": "display_data"
    }
   ],
   "source": [
    "import matplotlib.pyplot as plt\n",
    "\n",
    "epochs = range(1, len(acc) + 1)\n",
    "\n",
    "plt.plot(epochs, acc, 'bo', label='Training acc')\n",
    "plt.plot(epochs, val_acc, 'b', label='Validation acc')\n",
    "plt.title('Training and validation accuracy')\n",
    "plt.legend()\n",
    "\n",
    "plt.figure()\n",
    "\n",
    "plt.plot(epochs, loss, 'bo', label='Training loss')\n",
    "plt.plot(epochs, val_loss, 'b', label='Validation loss')\n",
    "plt.title('Training and validation loss')\n",
    "plt.legend()\n",
    "\n",
    "plt.show()\n",
    "\n",
    "# plt.savefig('filename2.pdf', dpi=300)"
   ]
  },
  {
   "cell_type": "code",
   "execution_count": 66,
   "id": "f9113141",
   "metadata": {},
   "outputs": [
    {
     "data": {
      "image/png": "[encoded data removed]",
      "text/plain": [
       "<Figure size 432x288 with 1 Axes>"
      ]
     },
     "metadata": {
      "needs_background": "light"
     },
     "output_type": "display_data"
    }
   ],
   "source": [
    "# history = model.fit(X_train, Y_train, validation_data=(X_test, Y_test), batch_size=32, epochs=10, verbose=1)\n",
    "\n",
    "# Get training and test loss histories\n",
    "training_loss = history.history['accuracy']\n",
    "test_loss = history.history['val_accuracy']\n",
    "\n",
    "# Create count of the number of epochs\n",
    "epoch_count = range(1, len(training_loss) + 1)\n",
    "\n",
    "# Visualize loss history\n",
    "plt.plot(epoch_count, training_loss, 'r--')\n",
    "plt.plot(epoch_count, test_loss, 'b-')\n",
    "plt.legend(['Training accuracy', 'Val accuracy'])\n",
    "plt.xlabel('Epoch')\n",
    "plt.ylabel('accuracy')\n",
    "plt.show();"
   ]
  },
  {
   "cell_type": "code",
   "execution_count": null,
   "id": "bb5f1d95",
   "metadata": {},
   "outputs": [],
   "source": []
  },
  {
   "cell_type": "code",
   "execution_count": null,
   "id": "53365f92",
   "metadata": {},
   "outputs": [],
   "source": []
  },
  {
   "cell_type": "code",
   "execution_count": null,
   "id": "2c9dde5e",
   "metadata": {},
   "outputs": [],
   "source": []
  }
 ],
 "metadata": {
  "accelerator": "GPU",
  "colab": {
   "collapsed_sections": [],
   "name": "Gaia_labeled_SMOTE.ipynb",
   "provenance": []
  },
  "kernelspec": {
   "display_name": "Python 3 (ipykernel)",
   "language": "python",
   "name": "python3"
  },
  "language_info": {
   "codemirror_mode": {
    "name": "ipython",
    "version": 3
   },
   "file_extension": ".py",
   "mimetype": "text/x-python",
   "name": "python",
   "nbconvert_exporter": "python",
   "pygments_lexer": "ipython3",
   "version": "3.9.7"
  }
 },
 "nbformat": 4,
 "nbformat_minor": 5
}
