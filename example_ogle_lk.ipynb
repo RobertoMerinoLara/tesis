{
 "cells": [
  {
   "cell_type": "code",
   "execution_count": 1,
   "metadata": {},
   "outputs": [
    {
     "name": "stdout",
     "output_type": "stream",
     "text": [
      "Collecting lightkurve\n",
      "  Downloading lightkurve-2.0.9-py3-none-any.whl (240 kB)\n",
      "Collecting uncertainties>=3.1.4\n",
      "  Downloading uncertainties-3.1.5-py2.py3-none-any.whl (246 kB)\n",
      "Requirement already satisfied: numpy>=1.11 in c:\\users\\erto_\\anaconda3\\envs\\tf2.4\\lib\\site-packages (from lightkurve) (1.20.1)\n",
      "Requirement already satisfied: requests>=2.22.0 in c:\\users\\erto_\\anaconda3\\envs\\tf2.4\\lib\\site-packages (from lightkurve) (2.25.1)\n",
      "Collecting beautifulsoup4>=4.6.0\n",
      "  Downloading beautifulsoup4-4.9.3-py3-none-any.whl (115 kB)\n",
      "Requirement already satisfied: matplotlib>=1.5.3 in c:\\users\\erto_\\anaconda3\\envs\\tf2.4\\lib\\site-packages (from lightkurve) (3.3.4)\n",
      "Requirement already satisfied: pandas>=1.1.4 in c:\\users\\erto_\\anaconda3\\envs\\tf2.4\\lib\\site-packages (from lightkurve) (1.2.4)\n",
      "Collecting bokeh>=1.0\n",
      "  Downloading bokeh-2.3.2.tar.gz (10.7 MB)\n",
      "Requirement already satisfied: scipy>=0.19.0 in c:\\users\\erto_\\anaconda3\\envs\\tf2.4\\lib\\site-packages (from lightkurve) (1.6.2)\n",
      "Collecting memoization>=0.3.1\n",
      "  Downloading memoization-0.3.2-py3-none-any.whl (38 kB)\n",
      "Collecting astroquery>=0.3.10\n",
      "  Downloading astroquery-0.4.2-py3-none-any.whl (3.9 MB)\n",
      "Collecting oktopus>=0.1.2\n",
      "  Downloading oktopus-0.1.2.tar.gz (10 kB)\n",
      "Collecting scikit-learn>=0.24.0\n",
      "  Downloading scikit_learn-0.24.2-cp38-cp38-win_amd64.whl (6.9 MB)\n",
      "Collecting patsy>=0.5.0\n",
      "  Downloading patsy-0.5.1-py2.py3-none-any.whl (231 kB)\n",
      "Collecting fbpca>=1.0\n",
      "  Downloading fbpca-1.0.tar.gz (11 kB)\n",
      "Collecting tqdm>=4.25.0\n",
      "  Downloading tqdm-4.60.0-py2.py3-none-any.whl (75 kB)\n",
      "Collecting astropy>=4.1\n",
      "  Downloading astropy-4.2.1-cp38-cp38-win_amd64.whl (6.2 MB)\n",
      "Collecting pyerfa\n",
      "  Downloading pyerfa-2.0.0-cp38-cp38-win_amd64.whl (366 kB)\n",
      "Requirement already satisfied: six in c:\\users\\erto_\\anaconda3\\envs\\tf2.4\\lib\\site-packages (from astroquery>=0.3.10->lightkurve) (1.15.0)\n",
      "Collecting html5lib>=0.999\n",
      "  Downloading html5lib-1.1-py2.py3-none-any.whl (112 kB)\n",
      "Collecting pyvo>=1.1\n",
      "  Downloading pyvo-1.1.tar.gz (804 kB)\n",
      "Requirement already satisfied: keyring>=4.0 in c:\\users\\erto_\\anaconda3\\envs\\tf2.4\\lib\\site-packages (from astroquery>=0.3.10->lightkurve) (23.0.1)\n",
      "Collecting soupsieve>1.2\n",
      "  Downloading soupsieve-2.2.1-py3-none-any.whl (33 kB)\n",
      "Collecting PyYAML>=3.10\n",
      "  Downloading PyYAML-5.4.1-cp38-cp38-win_amd64.whl (213 kB)\n",
      "Requirement already satisfied: python-dateutil>=2.1 in c:\\users\\erto_\\anaconda3\\envs\\tf2.4\\lib\\site-packages (from bokeh>=1.0->lightkurve) (2.8.1)\n",
      "Requirement already satisfied: Jinja2>=2.9 in c:\\users\\erto_\\anaconda3\\envs\\tf2.4\\lib\\site-packages (from bokeh>=1.0->lightkurve) (3.0.0)\n",
      "Requirement already satisfied: pillow>=7.1.0 in c:\\users\\erto_\\anaconda3\\envs\\tf2.4\\lib\\site-packages (from bokeh>=1.0->lightkurve) (8.2.0)\n",
      "Requirement already satisfied: packaging>=16.8 in c:\\users\\erto_\\anaconda3\\envs\\tf2.4\\lib\\site-packages (from bokeh>=1.0->lightkurve) (20.9)\n",
      "Requirement already satisfied: tornado>=5.1 in c:\\users\\erto_\\anaconda3\\envs\\tf2.4\\lib\\site-packages (from bokeh>=1.0->lightkurve) (6.1)\n",
      "Requirement already satisfied: typing_extensions>=3.7.4 in c:\\users\\erto_\\anaconda3\\envs\\tf2.4\\lib\\site-packages (from bokeh>=1.0->lightkurve) (3.7.4.3)\n",
      "Requirement already satisfied: webencodings in c:\\users\\erto_\\anaconda3\\envs\\tf2.4\\lib\\site-packages (from html5lib>=0.999->astroquery>=0.3.10->lightkurve) (0.5.1)\n",
      "Requirement already satisfied: MarkupSafe>=2.0.0rc2 in c:\\users\\erto_\\anaconda3\\envs\\tf2.4\\lib\\site-packages (from Jinja2>=2.9->bokeh>=1.0->lightkurve) (2.0.0)\n",
      "Requirement already satisfied: importlib-metadata>=3.6 in c:\\users\\erto_\\anaconda3\\envs\\tf2.4\\lib\\site-packages (from keyring>=4.0->astroquery>=0.3.10->lightkurve) (4.0.1)\n",
      "Requirement already satisfied: pywin32-ctypes!=0.1.0,!=0.1.1 in c:\\users\\erto_\\anaconda3\\envs\\tf2.4\\lib\\site-packages (from keyring>=4.0->astroquery>=0.3.10->lightkurve) (0.2.0)\n",
      "Requirement already satisfied: zipp>=0.5 in c:\\users\\erto_\\anaconda3\\envs\\tf2.4\\lib\\site-packages (from importlib-metadata>=3.6->keyring>=4.0->astroquery>=0.3.10->lightkurve) (3.4.1)\n",
      "Requirement already satisfied: kiwisolver>=1.0.1 in c:\\users\\erto_\\anaconda3\\envs\\tf2.4\\lib\\site-packages (from matplotlib>=1.5.3->lightkurve) (1.3.1)\n",
      "Requirement already satisfied: pyparsing!=2.0.4,!=2.1.2,!=2.1.6,>=2.0.3 in c:\\users\\erto_\\anaconda3\\envs\\tf2.4\\lib\\site-packages (from matplotlib>=1.5.3->lightkurve) (2.4.7)\n",
      "Requirement already satisfied: cycler>=0.10 in c:\\users\\erto_\\anaconda3\\envs\\tf2.4\\lib\\site-packages (from matplotlib>=1.5.3->lightkurve) (0.10.0)\n",
      "Collecting autograd\n",
      "  Downloading autograd-1.3.tar.gz (38 kB)\n",
      "Requirement already satisfied: pytz>=2017.3 in c:\\users\\erto_\\anaconda3\\envs\\tf2.4\\lib\\site-packages (from pandas>=1.1.4->lightkurve) (2021.1)\n",
      "Collecting mimeparse\n",
      "  Downloading mimeparse-0.1.3.tar.gz (4.4 kB)\n",
      "Requirement already satisfied: certifi>=2017.4.17 in c:\\users\\erto_\\anaconda3\\envs\\tf2.4\\lib\\site-packages (from requests>=2.22.0->lightkurve) (2020.12.5)\n",
      "Requirement already satisfied: urllib3<1.27,>=1.21.1 in c:\\users\\erto_\\anaconda3\\envs\\tf2.4\\lib\\site-packages (from requests>=2.22.0->lightkurve) (1.26.4)\n",
      "Requirement already satisfied: chardet<5,>=3.0.2 in c:\\users\\erto_\\anaconda3\\envs\\tf2.4\\lib\\site-packages (from requests>=2.22.0->lightkurve) (4.0.0)\n",
      "Requirement already satisfied: idna<3,>=2.5 in c:\\users\\erto_\\anaconda3\\envs\\tf2.4\\lib\\site-packages (from requests>=2.22.0->lightkurve) (2.10)\n",
      "Collecting threadpoolctl>=2.0.0\n",
      "  Downloading threadpoolctl-2.1.0-py3-none-any.whl (12 kB)\n",
      "Collecting joblib>=0.11\n",
      "  Downloading joblib-1.0.1-py3-none-any.whl (303 kB)\n",
      "Collecting future\n",
      "  Downloading future-0.18.2.tar.gz (829 kB)\n",
      "Building wheels for collected packages: bokeh, fbpca, oktopus, pyvo, autograd, future, mimeparse\n",
      "  Building wheel for bokeh (setup.py): started\n",
      "  Building wheel for bokeh (setup.py): finished with status 'done'\n",
      "  Created wheel for bokeh: filename=bokeh-2.3.2-py3-none-any.whl size=11334269 sha256=10101f0cd9a02a905bf39f96d0c6148f36d4eaecdeca191d9a8dedecf5fd75f6\n",
      "  Stored in directory: c:\\users\\erto_\\appdata\\local\\pip\\cache\\wheels\\1b\\a5\\90\\f38b6cd80a8276a7203765295ad3da078aa24ff8006096ae49\n",
      "  Building wheel for fbpca (setup.py): started\n",
      "  Building wheel for fbpca (setup.py): finished with status 'done'\n",
      "  Created wheel for fbpca: filename=fbpca-1.0-py3-none-any.whl size=11376 sha256=12b56aed5b46a5818c073fb161830f44d5c91f58b79e1a32814c2f2d4c7103d8\n",
      "  Stored in directory: c:\\users\\erto_\\appdata\\local\\pip\\cache\\wheels\\b4\\3b\\77\\a06a07a415b222f47a7e522333f85ce64c0defd07a57762267\n",
      "  Building wheel for oktopus (setup.py): started\n",
      "  Building wheel for oktopus (setup.py): finished with status 'done'\n",
      "  Created wheel for oktopus: filename=oktopus-0.1.2-py3-none-any.whl size=12779 sha256=722fbe6a25d1e24cd220d7c12b182bc5916186d7ffe5c1c2ee03fb2a34146de8\n",
      "  Stored in directory: c:\\users\\erto_\\appdata\\local\\pip\\cache\\wheels\\64\\ce\\28\\996e7379ac5b58670a47dc73b9ef012eee837643d839bf9adf\n",
      "  Building wheel for pyvo (setup.py): started\n",
      "  Building wheel for pyvo (setup.py): finished with status 'done'\n",
      "  Created wheel for pyvo: filename=pyvo-1.1-py3-none-any.whl size=801573 sha256=c2b4239b2fbf74438238c7a497ff874dda56180e9ff38ea773e0cee565dec56a\n",
      "  Stored in directory: c:\\users\\erto_\\appdata\\local\\pip\\cache\\wheels\\5b\\c2\\61\\f69af57462e399edb98c342ad9cfcdcd757285c1db2b3e00b5\n",
      "  Building wheel for autograd (setup.py): started\n",
      "  Building wheel for autograd (setup.py): finished with status 'done'\n",
      "  Created wheel for autograd: filename=autograd-1.3-py3-none-any.whl size=47989 sha256=e430cc9e4e9058d5de0e37e953b48d556cccee0d8ac4f51b8ca724e8b40073a7\n",
      "  Stored in directory: c:\\users\\erto_\\appdata\\local\\pip\\cache\\wheels\\85\\f5\\d2\\3ef47d3a836b17620bf41647222825b065245862d12aa62885\n",
      "  Building wheel for future (setup.py): started\n",
      "  Building wheel for future (setup.py): finished with status 'done'\n",
      "  Created wheel for future: filename=future-0.18.2-py3-none-any.whl size=491059 sha256=253f467453b11edd6424eccf548ba0ce79dbecbe4ab8b3a5f5f68df7a30c93ab\n",
      "  Stored in directory: c:\\users\\erto_\\appdata\\local\\pip\\cache\\wheels\\8e\\70\\28\\3d6ccd6e315f65f245da085482a2e1c7d14b90b30f239e2cf4\n",
      "  Building wheel for mimeparse (setup.py): started\n",
      "  Building wheel for mimeparse (setup.py): finished with status 'done'\n",
      "  Created wheel for mimeparse: filename=mimeparse-0.1.3-py3-none-any.whl size=3863 sha256=148e231dc046873b7ddd65bbd037c7b5d71de530bfed13676c2908cc8d18af5d\n",
      "  Stored in directory: c:\\users\\erto_\\appdata\\local\\pip\\cache\\wheels\\10\\4a\\42\\2f6bad162811fe51b5e3f250cb31c88e0d362b23e873380815\n",
      "Successfully built bokeh fbpca oktopus pyvo autograd future mimeparse\n",
      "Installing collected packages: pyerfa, soupsieve, mimeparse, future, astropy, threadpoolctl, PyYAML, pyvo, joblib, html5lib, beautifulsoup4, autograd, uncertainties, tqdm, scikit-learn, patsy, oktopus, memoization, fbpca, bokeh, astroquery, lightkurve\n",
      "Successfully installed PyYAML-5.4.1 astropy-4.2.1 astroquery-0.4.2 autograd-1.3 beautifulsoup4-4.9.3 bokeh-2.3.2 fbpca-1.0 future-0.18.2 html5lib-1.1 joblib-1.0.1 lightkurve-2.0.9 memoization-0.3.2 mimeparse-0.1.3 oktopus-0.1.2 patsy-0.5.1 pyerfa-2.0.0 pyvo-1.1 scikit-learn-0.24.2 soupsieve-2.2.1 threadpoolctl-2.1.0 tqdm-4.60.0 uncertainties-3.1.5\n"
     ]
    }
   ],
   "source": [
    "!python -m pip install lightkurve --upgrade"
   ]
  },
  {
   "cell_type": "code",
   "execution_count": 15,
   "metadata": {},
   "outputs": [],
   "source": [
    "import lightkurve as lk\n",
    "%matplotlib inline"
   ]
  },
  {
   "cell_type": "code",
   "execution_count": 17,
   "metadata": {},
   "outputs": [],
   "source": [
    "import pandas as pd\n",
    "nombre_columnas = ['time', 'magnitud', 'error'] #Nombre de columnas de la instnacia del archivo de OGLE\n",
    "df_prueba = pd.read_csv(\"Datasets\\OGLE-III\\LCs/OGLE-BLG-CEP-01.dat\", sep=' ', names=nombre_columnas)\n",
    "\n",
    "df_prueba['time'] = df_prueba['time'] + 2450000 #Intento de hacer que la libreria pueda \"leer\" bien el formato del tiempo\n",
    "\n",
    "# datetime_series = pd.to_datetime(df_prueba['time'], unit='D', origin='julian')\n",
    "# datetime_index = pd.DatetimeIndex(datetime_series.values)\n",
    "\n",
    "# df_prueba = df_prueba.set_index(datetime_index) #Indexamos el df con la columna del tiempo, porque la libreria lo necesita\n",
    "# df_prueba.drop('time',axis=1,inplace=True)\n",
    "\n",
    "\n",
    "# df_ts = TimeSeries.from_pandas(df_prueba) #Creamos el TimeSeries a partir del df\n",
    "# plt.plot(df_ts.time.jd, df_ts['magnitud'], 'o', markersize=1)\n",
    "# plt.xlabel('Julian Date')\n",
    "# plt.ylabel('Magnitud')\n",
    "# plt.show()\n",
    "\n",
    "# print(type(df_ts.time))"
   ]
  },
  {
   "cell_type": "code",
   "execution_count": 18,
   "metadata": {},
   "outputs": [
    {
     "data": {
      "text/html": [
       "<div>\n",
       "<style scoped>\n",
       "    .dataframe tbody tr th:only-of-type {\n",
       "        vertical-align: middle;\n",
       "    }\n",
       "\n",
       "    .dataframe tbody tr th {\n",
       "        vertical-align: top;\n",
       "    }\n",
       "\n",
       "    .dataframe thead th {\n",
       "        text-align: right;\n",
       "    }\n",
       "</style>\n",
       "<table border=\"1\" class=\"dataframe\">\n",
       "  <thead>\n",
       "    <tr style=\"text-align: right;\">\n",
       "      <th></th>\n",
       "      <th>time</th>\n",
       "      <th>magnitud</th>\n",
       "      <th>error</th>\n",
       "    </tr>\n",
       "  </thead>\n",
       "  <tbody>\n",
       "    <tr>\n",
       "      <th>0</th>\n",
       "      <td>2.452125e+06</td>\n",
       "      <td>17.201</td>\n",
       "      <td>0.019</td>\n",
       "    </tr>\n",
       "    <tr>\n",
       "      <th>1</th>\n",
       "      <td>2.452130e+06</td>\n",
       "      <td>17.118</td>\n",
       "      <td>0.015</td>\n",
       "    </tr>\n",
       "    <tr>\n",
       "      <th>2</th>\n",
       "      <td>2.452132e+06</td>\n",
       "      <td>17.243</td>\n",
       "      <td>0.016</td>\n",
       "    </tr>\n",
       "    <tr>\n",
       "      <th>3</th>\n",
       "      <td>2.452136e+06</td>\n",
       "      <td>17.558</td>\n",
       "      <td>0.024</td>\n",
       "    </tr>\n",
       "    <tr>\n",
       "      <th>4</th>\n",
       "      <td>2.452141e+06</td>\n",
       "      <td>17.290</td>\n",
       "      <td>0.019</td>\n",
       "    </tr>\n",
       "    <tr>\n",
       "      <th>...</th>\n",
       "      <td>...</td>\n",
       "      <td>...</td>\n",
       "      <td>...</td>\n",
       "    </tr>\n",
       "    <tr>\n",
       "      <th>344</th>\n",
       "      <td>2.453645e+06</td>\n",
       "      <td>17.341</td>\n",
       "      <td>0.017</td>\n",
       "    </tr>\n",
       "    <tr>\n",
       "      <th>345</th>\n",
       "      <td>2.453651e+06</td>\n",
       "      <td>17.497</td>\n",
       "      <td>0.020</td>\n",
       "    </tr>\n",
       "    <tr>\n",
       "      <th>346</th>\n",
       "      <td>2.453653e+06</td>\n",
       "      <td>17.451</td>\n",
       "      <td>0.041</td>\n",
       "    </tr>\n",
       "    <tr>\n",
       "      <th>347</th>\n",
       "      <td>2.453774e+06</td>\n",
       "      <td>17.168</td>\n",
       "      <td>0.019</td>\n",
       "    </tr>\n",
       "    <tr>\n",
       "      <th>348</th>\n",
       "      <td>2.453780e+06</td>\n",
       "      <td>17.362</td>\n",
       "      <td>0.018</td>\n",
       "    </tr>\n",
       "  </tbody>\n",
       "</table>\n",
       "<p>349 rows × 3 columns</p>\n",
       "</div>"
      ],
      "text/plain": [
       "             time  magnitud  error\n",
       "0    2.452125e+06    17.201  0.019\n",
       "1    2.452130e+06    17.118  0.015\n",
       "2    2.452132e+06    17.243  0.016\n",
       "3    2.452136e+06    17.558  0.024\n",
       "4    2.452141e+06    17.290  0.019\n",
       "..            ...       ...    ...\n",
       "344  2.453645e+06    17.341  0.017\n",
       "345  2.453651e+06    17.497  0.020\n",
       "346  2.453653e+06    17.451  0.041\n",
       "347  2.453774e+06    17.168  0.019\n",
       "348  2.453780e+06    17.362  0.018\n",
       "\n",
       "[349 rows x 3 columns]"
      ]
     },
     "execution_count": 18,
     "metadata": {},
     "output_type": "execute_result"
    }
   ],
   "source": [
    "df_prueba"
   ]
  },
  {
   "cell_type": "code",
   "execution_count": 19,
   "metadata": {},
   "outputs": [],
   "source": [
    "lc1= lk.LightCurve(time=df_prueba['time'], flux=df_prueba['magnitud']) "
   ]
  },
  {
   "cell_type": "code",
   "execution_count": 20,
   "metadata": {},
   "outputs": [
    {
     "name": "stderr",
     "output_type": "stream",
     "text": [
      "`period` contains 679101 points.Periodogram is likely to be large, and slow to evaluate. Consider setting `frequency_factor` to a higher value.\n"
     ]
    }
   ],
   "source": [
    "pg = lc1.to_periodogram(method='bls')"
   ]
  },
  {
   "cell_type": "code",
   "execution_count": 21,
   "metadata": {},
   "outputs": [],
   "source": [
    "pg = lc1.to_periodogram(method='lombscargle', oversample_factor=100)"
   ]
  },
  {
   "cell_type": "code",
   "execution_count": 22,
   "metadata": {},
   "outputs": [
    {
     "data": {
      "text/plain": [
       "LombScarglePeriodogram(ID: None)"
      ]
     },
     "execution_count": 22,
     "metadata": {},
     "output_type": "execute_result"
    }
   ],
   "source": [
    "pg"
   ]
  },
  {
   "cell_type": "code",
   "execution_count": 23,
   "metadata": {},
   "outputs": [
    {
     "data": {
      "text/plain": [
       "<AxesSubplot:xlabel='Phase [JD]', ylabel='Flux'>"
      ]
     },
     "execution_count": 23,
     "metadata": {},
     "output_type": "execute_result"
    },
    {
     "data": {
      "image/png": "[encoded data removed]",
      "text/plain": [
       "<Figure size 848.5x400 with 1 Axes>"
      ]
     },
     "metadata": {},
     "output_type": "display_data"
    }
   ],
   "source": [
    "lc1.fold(pg.period_at_max_power).scatter(color='red')"
   ]
  },
  {
   "cell_type": "code",
   "execution_count": 24,
   "metadata": {},
   "outputs": [
    {
     "data": {
      "text/latex": [
       "$4.294651 \\; \\mathrm{d}$"
      ],
      "text/plain": [
       "<Quantity 4.29465104 d>"
      ]
     },
     "execution_count": 24,
     "metadata": {},
     "output_type": "execute_result"
    }
   ],
   "source": [
    "pg.period_at_max_power"
   ]
  },
  {
   "cell_type": "code",
   "execution_count": 25,
   "metadata": {},
   "outputs": [
    {
     "data": {
      "text/plain": [
       "<AxesSubplot:xlabel='Phase [JD]', ylabel='Flux'>"
      ]
     },
     "execution_count": 25,
     "metadata": {},
     "output_type": "execute_result"
    },
    {
     "data": {
      "image/png": "[encoded data removed]",
      "text/plain": [
       "<Figure size 848.5x400 with 1 Axes>"
      ]
     },
     "metadata": {},
     "output_type": "display_data"
    }
   ],
   "source": [
    "lc1.fold(2.5975506).scatter(color='red')"
   ]
  },
  {
   "cell_type": "code",
   "execution_count": null,
   "metadata": {},
   "outputs": [],
   "source": []
  }
 ],
 "metadata": {
  "kernelspec": {
   "display_name": "Python 3",
   "language": "python",
   "name": "python3"
  },
  "language_info": {
   "codemirror_mode": {
    "name": "ipython",
    "version": 3
   },
   "file_extension": ".py",
   "mimetype": "text/x-python",
   "name": "python",
   "nbconvert_exporter": "python",
   "pygments_lexer": "ipython3",
   "version": "3.8.3"
  }
 },
 "nbformat": 4,
 "nbformat_minor": 2
}
