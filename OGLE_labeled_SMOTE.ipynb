{
 "cells": [
  {
   "cell_type": "markdown",
   "metadata": {
    "id": "by9M1QU6ifRM"
   },
   "source": [
    "#pip install h5py"
   ]
  },
  {
   "cell_type": "code",
   "execution_count": 1,
   "metadata": {
    "id": "af1c0d1a"
   },
   "outputs": [],
   "source": [
    "import IPython\n",
    "import IPython.display\n",
    "import numpy as np\n",
    "import pandas as pd\n",
    "import glob\n",
    "import joblib  \n",
    "import matplotlib.pyplot as plt\n",
    "import seaborn as sns\n",
    "import tensorflow as tf\n",
    "from sklearn.model_selection import train_test_split\n",
    "from imblearn.over_sampling import SMOTE\n",
    "import imblearn\n",
    "from collections import Counter\n",
    "from sklearn.preprocessing import LabelEncoder\n",
    "from imblearn.datasets import make_imbalance\n",
    "from sklearn.compose import make_column_transformer\n",
    "from sklearn.pipeline import Pipeline, make_pipeline\n",
    "import numpy as geek "
   ]
  },
  {
   "cell_type": "code",
   "execution_count": 2,
   "metadata": {
    "id": "b9347a73"
   },
   "outputs": [],
   "source": [
    "df1 = pd.read_hdf('D:\\Clases\\Tesis\\ogle_label_full_360.hdf')\n",
    "yframes = pd.read_hdf('D:\\Clases\\Tesis\\ogle_output_full_360.hdf')"
   ]
  },
  {
   "cell_type": "code",
   "execution_count": 3,
   "metadata": {
    "id": "PPQqBRMbKe92"
   },
   "outputs": [],
   "source": [
    "# yframes = pd.read_hdf('/content/drive/MyDrive/Colab Notebooks/Data/gaia_output_full_diff.hdf')\n",
    "df2 = pd.read_hdf('D:\\Clases\\Tesis\\ogle_label_full_360diff.hdf')"
   ]
  },
  {
   "cell_type": "code",
   "execution_count": 4,
   "metadata": {
    "id": "CWWCceZKonKX"
   },
   "outputs": [],
   "source": [
    "# from google.colab import drive\n",
    "# drive.mount('/content/drive')"
   ]
  },
  {
   "cell_type": "code",
   "execution_count": 5,
   "metadata": {
    "colab": {
     "base_uri": "https://localhost:8080/"
    },
    "id": "7815191c",
    "outputId": "3391697c-52bf-471a-e6b3-0a04bc5bf449"
   },
   "outputs": [
    {
     "name": "stdout",
     "output_type": "stream",
     "text": [
      "                time     mag\n",
      "0         2166.83369  19.012\n",
      "1         2172.88246  19.149\n",
      "2         2189.84343  18.960\n",
      "3         2212.78834  19.155\n",
      "4         2212.79165  19.134\n",
      "...              ...     ...\n",
      "39593875  3824.83762  14.649\n",
      "39593876  3825.85940  14.648\n",
      "39593877  3826.83731  14.657\n",
      "39593878  3827.86021  14.647\n",
      "39593879  3828.83574  14.646\n",
      "\n",
      "[39593880 rows x 2 columns]\n"
     ]
    }
   ],
   "source": [
    "print(df1)"
   ]
  },
  {
   "cell_type": "code",
   "execution_count": 6,
   "metadata": {
    "colab": {
     "base_uri": "https://localhost:8080/"
    },
    "id": "m52gdqN3NvAd",
    "outputId": "b9e272e8-51df-48d9-d816-d2d629ee83ff"
   },
   "outputs": [
    {
     "name": "stdout",
     "output_type": "stream",
     "text": [
      "          timediff  magdiff\n",
      "0          6.04877    0.137\n",
      "1         16.96097   -0.189\n",
      "2         22.94491    0.195\n",
      "3          0.00331   -0.021\n",
      "4          4.98161   -0.003\n",
      "...            ...      ...\n",
      "39593875   1.02178   -0.001\n",
      "39593876   0.97791    0.009\n",
      "39593877   1.02290   -0.010\n",
      "39593878   0.97553   -0.001\n",
      "39593879   0.97823   -0.007\n",
      "\n",
      "[39593880 rows x 2 columns]\n"
     ]
    }
   ],
   "source": [
    "print(df2)"
   ]
  },
  {
   "cell_type": "code",
   "execution_count": 7,
   "metadata": {},
   "outputs": [
    {
     "name": "stdout",
     "output_type": "stream",
     "text": [
      "        class\n",
      "0           0\n",
      "1           1\n",
      "2           0\n",
      "3           0\n",
      "4           1\n",
      "...       ...\n",
      "109978      8\n",
      "109979      8\n",
      "109980      9\n",
      "109981      8\n",
      "109982      9\n",
      "\n",
      "[109983 rows x 1 columns]\n"
     ]
    }
   ],
   "source": [
    "print(yframes)"
   ]
  },
  {
   "cell_type": "code",
   "execution_count": 8,
   "metadata": {},
   "outputs": [
    {
     "data": {
      "text/plain": [
       "8     70832\n",
       "9     10211\n",
       "0      7077\n",
       "5      6137\n",
       "7      3506\n",
       "1      3111\n",
       "3      2290\n",
       "2      2245\n",
       "6      1849\n",
       "10     1792\n",
       "4       933\n",
       "Name: class, dtype: int64"
      ]
     },
     "execution_count": 8,
     "metadata": {},
     "output_type": "execute_result"
    }
   ],
   "source": [
    "yframes['class'].value_counts()"
   ]
  },
  {
   "cell_type": "code",
   "execution_count": 9,
   "metadata": {
    "id": "xUh507NYOcTO"
   },
   "outputs": [],
   "source": [
    "# df1.columns = ['Time','Mag']\n",
    "# df2.columns = ['diffTime','diffMag']\n",
    "# df = pd.concat([df1, df2], axis=1)"
   ]
  },
  {
   "cell_type": "code",
   "execution_count": 10,
   "metadata": {
    "id": "2WBzIgEjO_yV"
   },
   "outputs": [],
   "source": [
    "df = pd.concat([df1, df2], axis=1)"
   ]
  },
  {
   "cell_type": "code",
   "execution_count": 11,
   "metadata": {
    "colab": {
     "base_uri": "https://localhost:8080/"
    },
    "id": "sUgVwV-BPq4u",
    "outputId": "dceb4769-a1c7-4c16-baaf-fe0b61fe14d4"
   },
   "outputs": [
    {
     "name": "stdout",
     "output_type": "stream",
     "text": [
      "                time     mag  timediff  magdiff\n",
      "0         2166.83369  19.012   6.04877    0.137\n",
      "1         2172.88246  19.149  16.96097   -0.189\n",
      "2         2189.84343  18.960  22.94491    0.195\n",
      "3         2212.78834  19.155   0.00331   -0.021\n",
      "4         2212.79165  19.134   4.98161   -0.003\n",
      "...              ...     ...       ...      ...\n",
      "39593875  3824.83762  14.649   1.02178   -0.001\n",
      "39593876  3825.85940  14.648   0.97791    0.009\n",
      "39593877  3826.83731  14.657   1.02290   -0.010\n",
      "39593878  3827.86021  14.647   0.97553   -0.001\n",
      "39593879  3828.83574  14.646   0.97823   -0.007\n",
      "\n",
      "[39593880 rows x 4 columns]\n"
     ]
    }
   ],
   "source": [
    "print(df)"
   ]
  },
  {
   "cell_type": "code",
   "execution_count": 12,
   "metadata": {},
   "outputs": [],
   "source": [
    "#df = df.drop(['magdiff'], axis=1)"
   ]
  },
  {
   "cell_type": "code",
   "execution_count": 14,
   "metadata": {
    "colab": {
     "base_uri": "https://localhost:8080/"
    },
    "id": "TB7612DTP7MW",
    "outputId": "4c182aea-fd4c-4b76-f139-3b833b691a69"
   },
   "outputs": [
    {
     "name": "stdout",
     "output_type": "stream",
     "text": [
      "(39593880, 4)\n"
     ]
    }
   ],
   "source": [
    "print(df.shape)"
   ]
  },
  {
   "cell_type": "code",
   "execution_count": 15,
   "metadata": {
    "colab": {
     "base_uri": "https://localhost:8080/"
    },
    "id": "6a7d33e2",
    "outputId": "a615edf3-61b4-462a-babc-59c8a7821a6f"
   },
   "outputs": [
    {
     "name": "stdout",
     "output_type": "stream",
     "text": [
      "(109983, 1)\n"
     ]
    }
   ],
   "source": [
    "print(yframes.shape)"
   ]
  },
  {
   "cell_type": "code",
   "execution_count": 16,
   "metadata": {
    "id": "f6b6232a"
   },
   "outputs": [],
   "source": [
    "sample_size = 360"
   ]
  },
  {
   "cell_type": "code",
   "execution_count": 17,
   "metadata": {
    "colab": {
     "base_uri": "https://localhost:8080/",
     "height": 771
    },
    "id": "bf738f63",
    "outputId": "25cd8670-e154-40b8-d883-0fb8d20d0caa"
   },
   "outputs": [
    {
     "data": {
      "text/html": [
       "<div>\n",
       "<style scoped>\n",
       "    .dataframe tbody tr th:only-of-type {\n",
       "        vertical-align: middle;\n",
       "    }\n",
       "\n",
       "    .dataframe tbody tr th {\n",
       "        vertical-align: top;\n",
       "    }\n",
       "\n",
       "    .dataframe thead th {\n",
       "        text-align: right;\n",
       "    }\n",
       "</style>\n",
       "<table border=\"1\" class=\"dataframe\">\n",
       "  <thead>\n",
       "    <tr style=\"text-align: right;\">\n",
       "      <th></th>\n",
       "      <th>time</th>\n",
       "      <th>mag</th>\n",
       "      <th>timediff</th>\n",
       "      <th>magdiff</th>\n",
       "    </tr>\n",
       "  </thead>\n",
       "  <tbody>\n",
       "    <tr>\n",
       "      <th>0</th>\n",
       "      <td>2166.83369</td>\n",
       "      <td>19.012</td>\n",
       "      <td>6.04877</td>\n",
       "      <td>0.137</td>\n",
       "    </tr>\n",
       "    <tr>\n",
       "      <th>1</th>\n",
       "      <td>2172.88246</td>\n",
       "      <td>19.149</td>\n",
       "      <td>16.96097</td>\n",
       "      <td>-0.189</td>\n",
       "    </tr>\n",
       "    <tr>\n",
       "      <th>2</th>\n",
       "      <td>2189.84343</td>\n",
       "      <td>18.960</td>\n",
       "      <td>22.94491</td>\n",
       "      <td>0.195</td>\n",
       "    </tr>\n",
       "    <tr>\n",
       "      <th>3</th>\n",
       "      <td>2212.78834</td>\n",
       "      <td>19.155</td>\n",
       "      <td>0.00331</td>\n",
       "      <td>-0.021</td>\n",
       "    </tr>\n",
       "    <tr>\n",
       "      <th>4</th>\n",
       "      <td>2212.79165</td>\n",
       "      <td>19.134</td>\n",
       "      <td>4.98161</td>\n",
       "      <td>-0.003</td>\n",
       "    </tr>\n",
       "    <tr>\n",
       "      <th>...</th>\n",
       "      <td>...</td>\n",
       "      <td>...</td>\n",
       "      <td>...</td>\n",
       "      <td>...</td>\n",
       "    </tr>\n",
       "    <tr>\n",
       "      <th>356</th>\n",
       "      <td>3657.78888</td>\n",
       "      <td>19.259</td>\n",
       "      <td>4.00809</td>\n",
       "      <td>0.053</td>\n",
       "    </tr>\n",
       "    <tr>\n",
       "      <th>357</th>\n",
       "      <td>3661.79697</td>\n",
       "      <td>19.312</td>\n",
       "      <td>0.00361</td>\n",
       "      <td>-0.123</td>\n",
       "    </tr>\n",
       "    <tr>\n",
       "      <th>358</th>\n",
       "      <td>3661.80058</td>\n",
       "      <td>19.189</td>\n",
       "      <td>4.99353</td>\n",
       "      <td>-0.130</td>\n",
       "    </tr>\n",
       "    <tr>\n",
       "      <th>359</th>\n",
       "      <td>3666.79411</td>\n",
       "      <td>19.059</td>\n",
       "      <td>0.00362</td>\n",
       "      <td>0.088</td>\n",
       "    </tr>\n",
       "    <tr>\n",
       "      <th>360</th>\n",
       "      <td>2167.89381</td>\n",
       "      <td>14.753</td>\n",
       "      <td>25.92264</td>\n",
       "      <td>-0.001</td>\n",
       "    </tr>\n",
       "  </tbody>\n",
       "</table>\n",
       "<p>361 rows × 4 columns</p>\n",
       "</div>"
      ],
      "text/plain": [
       "           time     mag  timediff  magdiff\n",
       "0    2166.83369  19.012   6.04877    0.137\n",
       "1    2172.88246  19.149  16.96097   -0.189\n",
       "2    2189.84343  18.960  22.94491    0.195\n",
       "3    2212.78834  19.155   0.00331   -0.021\n",
       "4    2212.79165  19.134   4.98161   -0.003\n",
       "..          ...     ...       ...      ...\n",
       "356  3657.78888  19.259   4.00809    0.053\n",
       "357  3661.79697  19.312   0.00361   -0.123\n",
       "358  3661.80058  19.189   4.99353   -0.130\n",
       "359  3666.79411  19.059   0.00362    0.088\n",
       "360  2167.89381  14.753  25.92264   -0.001\n",
       "\n",
       "[361 rows x 4 columns]"
      ]
     },
     "execution_count": 17,
     "metadata": {},
     "output_type": "execute_result"
    }
   ],
   "source": [
    "df.head(sample_size+1)"
   ]
  },
  {
   "cell_type": "code",
   "execution_count": 18,
   "metadata": {
    "colab": {
     "base_uri": "https://localhost:8080/"
    },
    "id": "d753d2f0",
    "outputId": "e936d7a4-60d3-48e9-ae03-94e31b5641f0"
   },
   "outputs": [
    {
     "name": "stdout",
     "output_type": "stream",
     "text": [
      "train_df:  (88086, 360, 4)\n",
      "y_train_df:  (88086, 1)\n",
      "val_df:  (10889, 360, 4)\n",
      "test_df:  (10999, 360, 4)\n",
      "trash_x (9, 360, 4)\n"
     ]
    }
   ],
   "source": [
    "#yframes lista de clase de salida\n",
    "df_array = df.to_numpy()\n",
    "array_flat = np.reshape(df_array,((int(len(df)/sample_size), sample_size, df.shape[1])))\n",
    "#df_array.shape\n",
    "\n",
    "column_indices = {name: i for i, name in enumerate(df.columns)}\n",
    "\n",
    "#Tomamos el 10% de la data para test (0.1)\n",
    "X_train_val, test_df, y_train_val, y_test_df = train_test_split(array_flat, yframes, test_size=0.1, random_state=42)\n",
    "#Tomamos el 10% de la data para validación (0.11)\n",
    "X_trainp, val_df, y_trainp, y_val_df = train_test_split(X_train_val, y_train_val, test_size=0.11, random_state=42)\n",
    "#Generar training, 1-test_size = porcentaje\n",
    "train_df, trash_x, y_train_df, trash_y = train_test_split(X_trainp, y_trainp, test_size=0.0001, random_state=42)\n",
    "\n",
    "# X_train_val, test_df = train_test_split(array_flat, test_size=0.1, random_state=42)\n",
    "# train_df, val_df = train_test_split(X_train_val, test_size=0.384, random_state=42)\n",
    "\n",
    "print('train_df: ',train_df.shape)\n",
    "print('y_train_df: ',y_train_df.shape)\n",
    "print('val_df: ',val_df.shape)\n",
    "print('test_df: ',test_df.shape)\n",
    "print('trash_x',trash_x.shape)"
   ]
  },
  {
   "cell_type": "code",
   "execution_count": 19,
   "metadata": {
    "id": "80407c4d"
   },
   "outputs": [],
   "source": [
    "# y_train_df.head(50)"
   ]
  },
  {
   "cell_type": "code",
   "execution_count": 20,
   "metadata": {
    "id": "f63fd970"
   },
   "outputs": [],
   "source": [
    "#reshape(train_df.shape[0]*sample_size)\n",
    "train_df = train_df.reshape(train_df.shape[0]*sample_size , train_df.shape[2])"
   ]
  },
  {
   "cell_type": "code",
   "execution_count": 21,
   "metadata": {
    "colab": {
     "base_uri": "https://localhost:8080/"
    },
    "id": "671566b6",
    "outputId": "780a06e5-c5c2-443f-8dfb-8e7f2e49e354"
   },
   "outputs": [
    {
     "data": {
      "text/plain": [
       "(31710960, 4)"
      ]
     },
     "execution_count": 21,
     "metadata": {},
     "output_type": "execute_result"
    }
   ],
   "source": [
    "train_df.shape"
   ]
  },
  {
   "cell_type": "code",
   "execution_count": 22,
   "metadata": {
    "colab": {
     "base_uri": "https://localhost:8080/"
    },
    "id": "74052e2e",
    "outputId": "01de31b8-efc2-43e1-84de-c5a5b0d78beb"
   },
   "outputs": [
    {
     "name": "stdout",
     "output_type": "stream",
     "text": [
      "        class\n",
      "842         0\n",
      "14437       7\n",
      "36250       8\n",
      "15364       7\n",
      "101080      8\n",
      "...       ...\n",
      "49466       0\n",
      "13735       5\n",
      "108376      8\n",
      "99009       8\n",
      "98841       8\n",
      "\n",
      "[88086 rows x 1 columns]\n"
     ]
    }
   ],
   "source": [
    "print(y_train_df)"
   ]
  },
  {
   "cell_type": "code",
   "execution_count": 23,
   "metadata": {
    "id": "f6cc51a0"
   },
   "outputs": [],
   "source": [
    "y_train_df = y_train_df.to_numpy()"
   ]
  },
  {
   "cell_type": "code",
   "execution_count": 24,
   "metadata": {
    "id": "ae6ab24f"
   },
   "outputs": [],
   "source": [
    "repetitions = sample_size\n",
    "y_train_df = geek.repeat(y_train_df, repetitions) "
   ]
  },
  {
   "cell_type": "code",
   "execution_count": 25,
   "metadata": {
    "colab": {
     "base_uri": "https://localhost:8080/"
    },
    "id": "edeba0e1",
    "outputId": "c0fb553d-c107-4d94-86c1-62d1300f72ca"
   },
   "outputs": [
    {
     "data": {
      "text/plain": [
       "31710960"
      ]
     },
     "execution_count": 25,
     "metadata": {},
     "output_type": "execute_result"
    }
   ],
   "source": [
    "len(y_train_df)"
   ]
  },
  {
   "cell_type": "code",
   "execution_count": 26,
   "metadata": {
    "id": "9b0b167a"
   },
   "outputs": [],
   "source": [
    "train_df = pd.DataFrame(train_df)\n",
    "y_train_df = pd.DataFrame(y_train_df)"
   ]
  },
  {
   "cell_type": "code",
   "execution_count": 27,
   "metadata": {
    "id": "dfadead0"
   },
   "outputs": [],
   "source": [
    "train_df.columns = ['Time','Mag','Timediff', 'Magdiff']\n",
    "y_train_df.columns = ['Class']"
   ]
  },
  {
   "cell_type": "code",
   "execution_count": 28,
   "metadata": {
    "colab": {
     "base_uri": "https://localhost:8080/"
    },
    "id": "fdee43df",
    "outputId": "e25cbd03-d15d-4e63-9865-d03c62ab4505"
   },
   "outputs": [
    {
     "name": "stdout",
     "output_type": "stream",
     "text": [
      "                Time     Mag  Timediff  Magdiff\n",
      "0         2166.81545  16.059   6.04880   -0.015\n",
      "1         2172.86425  16.044  11.01132    0.011\n",
      "2         2183.87557  16.055   5.94596   -0.004\n",
      "3         2189.82153  16.051   2.02919    0.177\n",
      "4         2191.85072  16.228  20.92109   -0.035\n",
      "...              ...     ...       ...      ...\n",
      "31710955  4268.77635  13.213   0.74684   -0.004\n",
      "31710956  4269.52319  13.209   3.02293   -0.005\n",
      "31710957  4272.54612  13.204   1.19902   -0.023\n",
      "31710958  4273.74514  13.181   0.85947    0.010\n",
      "31710959  4274.60461  13.191   1.03280    0.002\n",
      "\n",
      "[31710960 rows x 4 columns]\n"
     ]
    }
   ],
   "source": [
    "print(train_df)"
   ]
  },
  {
   "cell_type": "code",
   "execution_count": 48,
   "metadata": {
    "colab": {
     "base_uri": "https://localhost:8080/"
    },
    "id": "2b8ce426",
    "outputId": "7595069d-3d50-41fb-a5dc-dd63986bec62"
   },
   "outputs": [
    {
     "name": "stdout",
     "output_type": "stream",
     "text": [
      "          Class\n",
      "0             0\n",
      "1             0\n",
      "2             0\n",
      "3             0\n",
      "4             0\n",
      "...         ...\n",
      "31710955      8\n",
      "31710956      8\n",
      "31710957      8\n",
      "31710958      8\n",
      "31710959      8\n",
      "\n",
      "[31710960 rows x 1 columns]\n"
     ]
    }
   ],
   "source": [
    "print(y_train_df)"
   ]
  },
  {
   "cell_type": "code",
   "execution_count": 49,
   "metadata": {},
   "outputs": [
    {
     "data": {
      "text/plain": [
       "8     20463480\n",
       "9      2940120\n",
       "0      2017080\n",
       "5      1767600\n",
       "7      1009440\n",
       "1       889200\n",
       "3       663480\n",
       "2       637200\n",
       "6       537840\n",
       "10      522720\n",
       "4       262800\n",
       "Name: Class, dtype: int64"
      ]
     },
     "execution_count": 49,
     "metadata": {},
     "output_type": "execute_result"
    },
    {
     "data": {
      "image/png": "[encoded data removed]",
      "text/plain": [
       "<Figure size 432x288 with 1 Axes>"
      ]
     },
     "metadata": {
      "needs_background": "light"
     },
     "output_type": "display_data"
    }
   ],
   "source": [
    "y_train_df.hist('Class')\n",
    "y_train_df['Class'].value_counts()"
   ]
  },
  {
   "cell_type": "code",
   "execution_count": 32,
   "metadata": {
    "id": "9ca978fa"
   },
   "outputs": [],
   "source": [
    "labels_ogle_train = pd.concat([train_df, y_train_df], axis=1)"
   ]
  },
  {
   "cell_type": "code",
   "execution_count": 33,
   "metadata": {
    "colab": {
     "base_uri": "https://localhost:8080/"
    },
    "id": "7d1742e2",
    "outputId": "50758cf4-2616-425a-d62d-73f1317dd7d1"
   },
   "outputs": [
    {
     "name": "stdout",
     "output_type": "stream",
     "text": [
      "                Time     Mag  Timediff  Magdiff  Class\n",
      "0         2166.81545  16.059   6.04880   -0.015      0\n",
      "1         2172.86425  16.044  11.01132    0.011      0\n",
      "2         2183.87557  16.055   5.94596   -0.004      0\n",
      "3         2189.82153  16.051   2.02919    0.177      0\n",
      "4         2191.85072  16.228  20.92109   -0.035      0\n",
      "...              ...     ...       ...      ...    ...\n",
      "31710955  4268.77635  13.213   0.74684   -0.004      8\n",
      "31710956  4269.52319  13.209   3.02293   -0.005      8\n",
      "31710957  4272.54612  13.204   1.19902   -0.023      8\n",
      "31710958  4273.74514  13.181   0.85947    0.010      8\n",
      "31710959  4274.60461  13.191   1.03280    0.002      8\n",
      "\n",
      "[31710960 rows x 5 columns]\n"
     ]
    }
   ],
   "source": [
    "print(labels_ogle_train)"
   ]
  },
  {
   "cell_type": "code",
   "execution_count": 34,
   "metadata": {},
   "outputs": [],
   "source": [
    "Class8 = labels_ogle_train[labels_ogle_train[\"Class\"] == 8]\n",
    "Class_rest = labels_ogle_train[labels_ogle_train[\"Class\"] != 8]"
   ]
  },
  {
   "cell_type": "code",
   "execution_count": 35,
   "metadata": {},
   "outputs": [
    {
     "name": "stdout",
     "output_type": "stream",
     "text": [
      "(20463480, 5)\n",
      "(11247480, 5)\n"
     ]
    }
   ],
   "source": [
    "print(Class8.shape)\n",
    "print(Class_rest.shape)"
   ]
  },
  {
   "cell_type": "code",
   "execution_count": 42,
   "metadata": {},
   "outputs": [],
   "source": [
    "Class8 = Class8.to_numpy()"
   ]
  },
  {
   "cell_type": "code",
   "execution_count": 43,
   "metadata": {},
   "outputs": [],
   "source": [
    "# 284215 = (20463480*5)/360\n",
    "Class8 = Class8.reshape(284215,360)"
   ]
  },
  {
   "cell_type": "code",
   "execution_count": 44,
   "metadata": {},
   "outputs": [
    {
     "name": "stdout",
     "output_type": "stream",
     "text": [
      "[[ 2.16789750e+03  1.47350000e+01  2.59222700e+01 ...  1.93481000e+00\n",
      "  -1.40000000e-02  8.00000000e+00]\n",
      " [ 2.65764795e+03  1.47030000e+01  2.15379000e+00 ...  1.10234000e+00\n",
      "   1.80000000e-02  8.00000000e+00]\n",
      " [ 3.04772231e+03  1.47160000e+01  9.31090000e-01 ...  6.05745000e+00\n",
      "  -2.10000000e-02  8.00000000e+00]\n",
      " ...\n",
      " [ 3.09773714e+03  1.31920000e+01  1.99548000e+00 ...  5.00999000e+00\n",
      "   1.00000000e-03  8.00000000e+00]\n",
      " [ 3.22350085e+03  1.32010000e+01  1.00122000e+00 ...  3.71984450e+02\n",
      "   7.00000000e-03  8.00000000e+00]\n",
      " [ 4.15183307e+03  1.32080000e+01  3.00965000e+00 ...  1.03280000e+00\n",
      "   2.00000000e-03  8.00000000e+00]]\n"
     ]
    }
   ],
   "source": [
    "print(Class8)"
   ]
  },
  {
   "cell_type": "code",
   "execution_count": 46,
   "metadata": {},
   "outputs": [],
   "source": [
    "#Class8 = pd.DataFrame(Class8)"
   ]
  },
  {
   "cell_type": "code",
   "execution_count": 50,
   "metadata": {},
   "outputs": [
    {
     "name": "stdout",
     "output_type": "stream",
     "text": [
      "               0       1         2      3    4           5       6        7    \\\n",
      "121958  3468.79160  14.961   0.07384 -0.010  8.0  3468.86544  14.951  0.04957   \n",
      "146867  3138.72475  13.932   1.97175 -0.012  8.0  3140.69650  13.920  0.23380   \n",
      "131932  2645.75626  15.392   0.02061 -0.013  8.0  2645.77687  15.379  0.08579   \n",
      "259178  3135.89906  14.690   2.03902 -0.003  8.0  3137.93808  14.687  0.76269   \n",
      "119879  3541.82998  15.061   4.90475  0.024  8.0  3546.73473  15.085  0.10052   \n",
      "...            ...     ...       ...    ...  ...         ...     ...      ...   \n",
      "233689  3554.62877  13.724   1.98380 -0.004  8.0  3556.61257  13.720  2.06316   \n",
      "37168   1698.81151  13.411   1.78314  0.001  8.0  1700.59465  13.412  3.01485   \n",
      "192171   608.85765  13.392   5.74827 -0.003  8.0   614.60592  13.389  0.18926   \n",
      "250517   998.61935  14.299   7.11289 -0.012  8.0  1005.73224  14.287  1.93688   \n",
      "163435   531.85339  13.660  11.00720 -0.002  8.0   542.86059  13.658  8.03771   \n",
      "\n",
      "          8    9    ...         350     351        352    353  354  \\\n",
      "121958 -0.011  8.0  ...  3523.84705  14.937    0.73425  0.003  8.0   \n",
      "146867  0.009  8.0  ...  3265.54530  13.914    2.05826 -0.012  8.0   \n",
      "131932  0.001  8.0  ...  2677.66475  15.381    0.05871 -0.004  8.0   \n",
      "259178  0.005  8.0  ...  3247.62408  14.690    1.90192  0.003  8.0   \n",
      "119879  0.029  8.0  ...  3675.49889  15.089  100.37496  0.012  8.0   \n",
      "...       ...  ...  ...         ...     ...        ...    ...  ...   \n",
      "233689 -0.009  8.0  ...  3825.86496  13.744    0.97789 -0.022  8.0   \n",
      "37168  -0.010  8.0  ...  2364.88358  13.419    8.01086 -0.011  8.0   \n",
      "192171  0.001  8.0  ...   753.52736  13.386  125.32363  0.000  8.0   \n",
      "250517  0.000  8.0  ...  1364.70399  14.296    1.04990  0.003  8.0   \n",
      "163435  0.006  8.0  ...   713.60844  13.695    6.94525 -0.006  8.0   \n",
      "\n",
      "               355     356       357    358  359  \n",
      "121958  3524.58130  14.940   0.02902  0.003  8.0  \n",
      "146867  3267.60356  13.902   5.89899  0.036  8.0  \n",
      "131932  2677.72346  15.377   0.07272  0.011  8.0  \n",
      "259178  3249.52600  14.693   1.13276 -0.005  8.0  \n",
      "119879  3775.87385  15.101   5.98717 -0.006  8.0  \n",
      "...            ...     ...       ...    ...  ...  \n",
      "233689  3826.84285  13.722   1.02291 -0.004  8.0  \n",
      "37168   2372.89444  13.408  19.03011  0.003  8.0  \n",
      "192171   878.85099  13.386  12.04513  0.004  8.0  \n",
      "250517  1365.75389  14.299   0.99388  0.009  8.0  \n",
      "163435   720.55369  13.689  12.02499 -0.024  8.0  \n",
      "\n",
      "[56843 rows x 360 columns]\n"
     ]
    }
   ],
   "source": [
    "from sklearn.utils import resample\n",
    "Class8_downsample = resample(Class8,\n",
    "             replace=True,\n",
    "             n_samples=56843,\n",
    "             random_state=42)\n",
    "\n",
    "print(Class8_downsample)"
   ]
  },
  {
   "cell_type": "code",
   "execution_count": 51,
   "metadata": {},
   "outputs": [
    {
     "data": {
      "text/plain": [
       "(56843, 360)"
      ]
     },
     "execution_count": 51,
     "metadata": {},
     "output_type": "execute_result"
    }
   ],
   "source": [
    "Class8_downsample.shape"
   ]
  },
  {
   "cell_type": "code",
   "execution_count": 53,
   "metadata": {},
   "outputs": [],
   "source": [
    "Class8_downsample = Class8_downsample.to_numpy()"
   ]
  },
  {
   "cell_type": "code",
   "execution_count": 54,
   "metadata": {},
   "outputs": [],
   "source": [
    "Class8_downsample = Class8_downsample.reshape(4092696,5)"
   ]
  },
  {
   "cell_type": "code",
   "execution_count": 55,
   "metadata": {},
   "outputs": [],
   "source": [
    "Class8_downsample = pd.DataFrame(Class8_downsample)"
   ]
  },
  {
   "cell_type": "code",
   "execution_count": 59,
   "metadata": {},
   "outputs": [],
   "source": [
    "Class8_downsample.columns = ['Time','Mag','Timediff', 'Magdiff', 'Class']"
   ]
  },
  {
   "cell_type": "code",
   "execution_count": 60,
   "metadata": {},
   "outputs": [
    {
     "name": "stdout",
     "output_type": "stream",
     "text": [
      "               Time     Mag  Timediff  Magdiff  Class\n",
      "0        3468.79160  14.961   0.07384   -0.010    8.0\n",
      "1        3468.86544  14.951   0.04957   -0.011    8.0\n",
      "2        3468.91501  14.940   0.87396    0.019    8.0\n",
      "3        3469.78897  14.959   1.01291    0.019    8.0\n",
      "4        3470.80188  14.978   1.12641    0.002    8.0\n",
      "...             ...     ...       ...      ...    ...\n",
      "4092691   700.57625  13.661   3.97909   -0.011    8.0\n",
      "4092692   704.55534  13.650   3.99657    0.021    8.0\n",
      "4092693   708.55191  13.671   5.05653    0.024    8.0\n",
      "4092694   713.60844  13.695   6.94525   -0.006    8.0\n",
      "4092695   720.55369  13.689  12.02499   -0.024    8.0\n",
      "\n",
      "[4092696 rows x 5 columns]\n"
     ]
    }
   ],
   "source": [
    "print(Class8_downsample)"
   ]
  },
  {
   "cell_type": "code",
   "execution_count": 88,
   "metadata": {},
   "outputs": [],
   "source": [
    "labels_ogle_train = pd.concat([Class_rest, Class8_downsample])"
   ]
  },
  {
   "cell_type": "code",
   "execution_count": 89,
   "metadata": {},
   "outputs": [
    {
     "name": "stdout",
     "output_type": "stream",
     "text": [
      "               Time     Mag  Timediff  Magdiff  Class\n",
      "0        2166.81545  16.059   6.04880   -0.015    0.0\n",
      "1        2172.86425  16.044  11.01132    0.011    0.0\n",
      "2        2183.87557  16.055   5.94596   -0.004    0.0\n",
      "3        2189.82153  16.051   2.02919    0.177    0.0\n",
      "4        2191.85072  16.228  20.92109   -0.035    0.0\n",
      "...             ...     ...       ...      ...    ...\n",
      "4092691   700.57625  13.661   3.97909   -0.011    8.0\n",
      "4092692   704.55534  13.650   3.99657    0.021    8.0\n",
      "4092693   708.55191  13.671   5.05653    0.024    8.0\n",
      "4092694   713.60844  13.695   6.94525   -0.006    8.0\n",
      "4092695   720.55369  13.689  12.02499   -0.024    8.0\n",
      "\n",
      "[15340176 rows x 5 columns]\n"
     ]
    }
   ],
   "source": [
    "print(labels_ogle_train)"
   ]
  },
  {
   "cell_type": "code",
   "execution_count": 90,
   "metadata": {},
   "outputs": [],
   "source": [
    "#FLAT DF TO SHUFFLE\n",
    "#labels_ogle_train.shape\n",
    "#pasar a numpy\n",
    "labels_ogle_train = labels_ogle_train.to_numpy()\n",
    "#reshape (15340176*5)/360 = 213058 | (213058,360)\n",
    "labels_ogle_train = labels_ogle_train.reshape(213058,360)\n",
    "#shuffle\n",
    "np.random.shuffle(labels_ogle_train)\n",
    "#volver reshape\n",
    "labels_ogle_train = labels_ogle_train.reshape(15340176, 5)\n",
    "#pasar a pandas\n",
    "labels_ogle_train = pd.DataFrame(labels_ogle_train)\n",
    "labels_ogle_train.columns = ['Time','Mag','Timediff', 'Magdiff', 'Class']"
   ]
  },
  {
   "cell_type": "code",
   "execution_count": 78,
   "metadata": {},
   "outputs": [
    {
     "name": "stdout",
     "output_type": "stream",
     "text": [
      "                Time     Mag  Timediff  Magdiff  Class\n",
      "0         2906.75290  14.448   1.97703    0.008    9.0\n",
      "1         2908.72993  14.456   1.99490    0.001    9.0\n",
      "2         2910.72483  14.457   2.00591   -0.002    9.0\n",
      "3         2912.73074  14.455   4.01266    0.008    9.0\n",
      "4         2916.74340  14.463   1.97704    0.000    9.0\n",
      "...              ...     ...       ...      ...    ...\n",
      "15340171  2191.68606  16.423   0.96310    0.496    3.0\n",
      "15340172  2192.64916  16.919   0.01751    0.039    3.0\n",
      "15340173  2192.66667  16.958   1.00360   -0.246    3.0\n",
      "15340174  2193.67027  16.712   0.01746    0.015    3.0\n",
      "15340175  2193.68773  16.727   0.95069    0.267    3.0\n",
      "\n",
      "[15340176 rows x 5 columns]\n"
     ]
    }
   ],
   "source": [
    "print(labels_ogle_train)"
   ]
  },
  {
   "cell_type": "code",
   "execution_count": 91,
   "metadata": {
    "colab": {
     "base_uri": "https://localhost:8080/",
     "height": 398
    },
    "id": "9d74ef65",
    "outputId": "e336aed8-2102-4304-fdf9-7ecb3860f8ab"
   },
   "outputs": [
    {
     "name": "stdout",
     "output_type": "stream",
     "text": [
      "Class=0, n=2017080 (17.934%)\n",
      "Class=7, n=1009440 (8.975%)\n",
      "Class=1, n=889200 (7.906%)\n",
      "Class=8, n=2940120 (26.140%)\n",
      "Class=4, n=262800 (2.337%)\n",
      "Class=9, n=522720 (4.647%)\n",
      "Class=3, n=663480 (5.899%)\n",
      "Class=5, n=1767600 (15.716%)\n",
      "Class=2, n=637200 (5.665%)\n",
      "Class=6, n=537840 (4.782%)\n"
     ]
    },
    {
     "data": {
      "image/png": "[encoded data removed]",
      "text/plain": [
       "<Figure size 432x288 with 1 Axes>"
      ]
     },
     "metadata": {
      "needs_background": "light"
     },
     "output_type": "display_data"
    }
   ],
   "source": [
    "data = Class_rest.values\n",
    "# split into input and output elements\n",
    "X, y = data[:, :-1], data[:, -1]\n",
    "# label encode the target variable\n",
    "y = LabelEncoder().fit_transform(y)\n",
    "# summarize distribution\n",
    "counter = Counter(y)\n",
    "for k,v in counter.items():\n",
    "    per = v / len(y) * 100\n",
    "    print('Class=%d, n=%d (%.3f%%)' % (k, v, per))\n",
    "# plot the distribution\n",
    "plt.bar(counter.keys(), counter.values())\n",
    "plt.show()"
   ]
  },
  {
   "cell_type": "code",
   "execution_count": 93,
   "metadata": {
    "colab": {
     "base_uri": "https://localhost:8080/",
     "height": 398
    },
    "id": "12a138c6",
    "outputId": "25adaa21-d912-4d8c-cf85-d55b0b5ccaf3"
   },
   "outputs": [
    {
     "name": "stdout",
     "output_type": "stream",
     "text": [
      "Class=0, n=2017080 (10.360%)\n",
      "Class=7, n=2018880 (10.369%)\n",
      "Class=1, n=1778400 (9.134%)\n",
      "Class=8, n=2940120 (15.101%)\n",
      "Class=4, n=788400 (4.049%)\n",
      "Class=9, n=1568160 (8.054%)\n",
      "Class=3, n=1990440 (10.223%)\n",
      "Class=5, n=1767600 (9.079%)\n",
      "Class=2, n=1911600 (9.818%)\n",
      "Class=6, n=2689200 (13.812%)\n"
     ]
    },
    {
     "data": {
      "image/png": "[encoded data removed]",
      "text/plain": [
       "<Figure size 432x288 with 1 Axes>"
      ]
     },
     "metadata": {
      "needs_background": "light"
     },
     "output_type": "display_data"
    }
   ],
   "source": [
    "#Ajustamos todas las clases a un minimo de 8000 salidas. Es decir minimo 2.880.000 entradas por clase\n",
    "data = Class_rest.values\n",
    "# split into input and output elements\n",
    "X, y = data[:, :-1], data[:, -1]\n",
    "# label encode the target variable\n",
    "y = LabelEncoder().fit_transform(y)\n",
    "# transform the dataset\n",
    "strategy = {0:2017080*1, \n",
    "            1:889200*2, \n",
    "            2:637200*3, \n",
    "            3:663480*3, \n",
    "            4:262800*3, \n",
    "            5:1767600*1, \n",
    "            6:537840*5, \n",
    "            7:1009440*2, \n",
    "            8:2940120*1, \n",
    "            9:522720*3}\n",
    "oversample = SMOTE(sampling_strategy=strategy)\n",
    "X, y = oversample.fit_resample(X, y)\n",
    "# summarize distribution\n",
    "counter = Counter(y)\n",
    "for k,v in counter.items():\n",
    "    per = v / len(y) * 100\n",
    "    print('Class=%d, n=%d (%.3f%%)' % (k, v, per))\n",
    "# plot the distribution\n",
    "plt.bar(counter.keys(), counter.values())\n",
    "plt.show()"
   ]
  },
  {
   "cell_type": "code",
   "execution_count": 94,
   "metadata": {
    "colab": {
     "base_uri": "https://localhost:8080/"
    },
    "id": "b5cb3314",
    "outputId": "7e95a6be-7510-46d3-d247-25b82729c206"
   },
   "outputs": [
    {
     "name": "stdout",
     "output_type": "stream",
     "text": [
      "[[ 2.16681545e+03  1.60590000e+01  6.04880000e+00 -1.50000000e-02\n",
      "   0.00000000e+00]\n",
      " [ 2.17286425e+03  1.60440000e+01  1.10113200e+01  1.10000000e-02\n",
      "   0.00000000e+00]\n",
      " [ 2.18387557e+03  1.60550000e+01  5.94596000e+00 -4.00000000e-03\n",
      "   0.00000000e+00]\n",
      " ...\n",
      " [ 2.67378420e+03  1.96160000e+01  2.98030000e+00 -3.45000000e-01\n",
      "   5.00000000e+00]\n",
      " [ 2.67676450e+03  1.92710000e+01  2.04593000e+00  6.90000000e-02\n",
      "   5.00000000e+00]\n",
      " [ 2.67881043e+03  1.93400000e+01  1.89220000e+00  2.19000000e-01\n",
      "   5.00000000e+00]]\n"
     ]
    }
   ],
   "source": [
    "print(data)"
   ]
  },
  {
   "cell_type": "code",
   "execution_count": 95,
   "metadata": {
    "colab": {
     "base_uri": "https://localhost:8080/"
    },
    "id": "fc5dd3a2",
    "outputId": "f013033f-c015-451f-d1af-a3606bafa7a7"
   },
   "outputs": [
    {
     "name": "stdout",
     "output_type": "stream",
     "text": [
      "[[ 2.16681545e+03  1.60590000e+01  6.04880000e+00 -1.50000000e-02]\n",
      " [ 2.17286425e+03  1.60440000e+01  1.10113200e+01  1.10000000e-02]\n",
      " [ 2.18387557e+03  1.60550000e+01  5.94596000e+00 -4.00000000e-03]\n",
      " ...\n",
      " [ 3.12485646e+03  1.91530007e+01  1.83039416e+00  2.93052026e-01]\n",
      " [ 2.46664535e+03  1.62831223e+01  2.02816314e+00 -2.74020316e-02]\n",
      " [ 3.13870466e+03  1.36225641e+01  1.17727386e+00  1.42971210e-02]] [0 0 0 ... 9 9 9]\n"
     ]
    }
   ],
   "source": [
    "print(X, y)"
   ]
  },
  {
   "cell_type": "code",
   "execution_count": 96,
   "metadata": {
    "colab": {
     "base_uri": "https://localhost:8080/"
    },
    "id": "1ed05812",
    "outputId": "3f100cbb-585d-406a-c7c7-eeb6777268ef"
   },
   "outputs": [
    {
     "name": "stdout",
     "output_type": "stream",
     "text": [
      "[0 0 0 ... 9 9 9]\n"
     ]
    }
   ],
   "source": [
    "print(y)"
   ]
  },
  {
   "cell_type": "code",
   "execution_count": 97,
   "metadata": {
    "id": "30143f35"
   },
   "outputs": [],
   "source": [
    "train_df = X\n",
    "y_train_df = y"
   ]
  },
  {
   "cell_type": "code",
   "execution_count": 98,
   "metadata": {
    "colab": {
     "base_uri": "https://localhost:8080/"
    },
    "id": "99d11fbf",
    "outputId": "fe282924-3e84-457a-cd28-0acf534d2654"
   },
   "outputs": [
    {
     "name": "stdout",
     "output_type": "stream",
     "text": [
      "(19469880, 4)\n",
      "(19469880,)\n",
      "(10889, 360, 4)\n",
      "(10999, 360, 4)\n"
     ]
    }
   ],
   "source": [
    "print(train_df.shape)\n",
    "print(y_train_df.shape)\n",
    "print(val_df.shape)\n",
    "print(test_df.shape)"
   ]
  },
  {
   "cell_type": "code",
   "execution_count": 99,
   "metadata": {
    "id": "9f66147b"
   },
   "outputs": [],
   "source": [
    "train_df = np.asarray(train_df).reshape(int(train_df.shape[0]/sample_size),sample_size,train_df.shape[1])"
   ]
  },
  {
   "cell_type": "code",
   "execution_count": 100,
   "metadata": {
    "id": "c07d14f2"
   },
   "outputs": [],
   "source": [
    "y_train_df = pd.DataFrame(y_train_df)\n",
    "y_val_df = pd.DataFrame(y_val_df)\n",
    "y_test_df = pd.DataFrame(y_test_df)"
   ]
  },
  {
   "cell_type": "code",
   "execution_count": 101,
   "metadata": {
    "colab": {
     "base_uri": "https://localhost:8080/"
    },
    "id": "9d507d10",
    "outputId": "70dc3345-e4a6-4898-bbd0-671fb9f3305c"
   },
   "outputs": [
    {
     "data": {
      "text/plain": [
       "(54083, 360, 4)"
      ]
     },
     "execution_count": 101,
     "metadata": {},
     "output_type": "execute_result"
    }
   ],
   "source": [
    "train_df.shape"
   ]
  },
  {
   "cell_type": "code",
   "execution_count": 102,
   "metadata": {
    "colab": {
     "base_uri": "https://localhost:8080/"
    },
    "id": "8459edb6",
    "outputId": "0ec78ae4-17fe-48e3-a355-b3874dcde0e5"
   },
   "outputs": [
    {
     "data": {
      "text/plain": [
       "(19469880, 1)"
      ]
     },
     "execution_count": 102,
     "metadata": {},
     "output_type": "execute_result"
    }
   ],
   "source": [
    "y_train_df.shape"
   ]
  },
  {
   "cell_type": "code",
   "execution_count": 103,
   "metadata": {
    "colab": {
     "base_uri": "https://localhost:8080/"
    },
    "id": "c968a9bd",
    "outputId": "b5d7903a-698f-4a92-b640-607006eeb7b0"
   },
   "outputs": [
    {
     "name": "stdout",
     "output_type": "stream",
     "text": [
      "train_df:  (54083, 360, 4)\n",
      "y_train_df:  (19469880, 1)\n",
      "val_df:  (10889, 360, 4)\n",
      "y_val_df:  (10889, 1)\n"
     ]
    }
   ],
   "source": [
    "print('train_df: ',train_df.shape)\n",
    "print('y_train_df: ',y_train_df.shape)\n",
    "print('val_df: ',val_df.shape)\n",
    "print('y_val_df: ',y_val_df.shape)"
   ]
  },
  {
   "cell_type": "code",
   "execution_count": 104,
   "metadata": {
    "id": "0a0643ee"
   },
   "outputs": [],
   "source": [
    "y_train_df = y_train_df[y_train_df.index % sample_size == 0]"
   ]
  },
  {
   "cell_type": "code",
   "execution_count": 105,
   "metadata": {
    "colab": {
     "base_uri": "https://localhost:8080/"
    },
    "id": "f14793b0",
    "outputId": "63de72cb-9ca9-4018-c8a6-b77d66ee507b"
   },
   "outputs": [
    {
     "name": "stdout",
     "output_type": "stream",
     "text": [
      "train_df:  (54083, 360, 4)\n",
      "y_train_df:  (54083, 1)\n",
      "val_df:  (10889, 360, 4)\n",
      "y_val_df:  (10889, 1)\n"
     ]
    }
   ],
   "source": [
    "print('train_df: ',train_df.shape)\n",
    "print('y_train_df: ',y_train_df.shape)\n",
    "print('val_df: ',val_df.shape)\n",
    "print('y_val_df: ',y_val_df.shape)"
   ]
  },
  {
   "cell_type": "code",
   "execution_count": 106,
   "metadata": {},
   "outputs": [
    {
     "name": "stdout",
     "output_type": "stream",
     "text": [
      "          0\n",
      "0         0\n",
      "360       7\n",
      "720       7\n",
      "1080      1\n",
      "1440      8\n",
      "...      ..\n",
      "19468080  9\n",
      "19468440  9\n",
      "19468800  9\n",
      "19469160  9\n",
      "19469520  9\n",
      "\n",
      "[54083 rows x 1 columns]\n"
     ]
    }
   ],
   "source": [
    "print(y_train_df)"
   ]
  },
  {
   "cell_type": "code",
   "execution_count": 107,
   "metadata": {
    "id": "4ef283f5"
   },
   "outputs": [],
   "source": [
    "#Normalización de siempre\n",
    "\n",
    "train_mean = train_df.mean()\n",
    "train_std = train_df.std()\n",
    "\n",
    "train_df = (train_df - train_mean) / train_std\n",
    "val_df = (val_df - train_mean) / train_std\n",
    "test_df = (test_df - train_mean) / train_std"
   ]
  },
  {
   "cell_type": "code",
   "execution_count": 108,
   "metadata": {
    "id": "6fb94b91"
   },
   "outputs": [],
   "source": [
    "MAX_EPOCHS = 500\n",
    "checkpoint_filepath = \"OGLE\"\n",
    "\n",
    "def compile_and_fit(model, x, y, x_val,y_val, patience=10):\n",
    "  early_stopping = tf.keras.callbacks.EarlyStopping(monitor='val_loss',\n",
    "                                                    patience=patience,\n",
    "                                                    mode='min')\n",
    "#   print(x.shape)\n",
    "#   print(y.shape)\n",
    "\n",
    "  # early_stopping = tf.keras.callbacks.EarlyStopping(monitor='val_mean_absolute_error',\n",
    "  #                                                   patience=patience,\n",
    "  #                                                   mode='min')\n",
    "  \n",
    "  model_checkpoint_callback = tf.keras.callbacks.ModelCheckpoint(\n",
    "    filepath=checkpoint_filepath,\n",
    "    save_weights_only=True,\n",
    "    monitor='val_accuracy',\n",
    "    mode='max',\n",
    "    save_best_only=True)\n",
    "\n",
    "  model.compile(loss=tf.losses.SparseCategoricalCrossentropy(),\n",
    "                optimizer=tf.optimizers.Adam(),\n",
    "                metrics=['accuracy'])\n",
    "  #print(model.summary())\n",
    "  history = model.fit(x, y, epochs=MAX_EPOCHS,\n",
    "                      validation_data=(x_val, y_val),\n",
    "                      callbacks=[early_stopping, model_checkpoint_callback])\n",
    "  return history"
   ]
  },
  {
   "cell_type": "code",
   "execution_count": 109,
   "metadata": {
    "id": "00a0df12"
   },
   "outputs": [],
   "source": [
    "lstm_model = tf.keras.models.Sequential([\n",
    "\n",
    "    # Shape [batch, time, features] => [batch, time, lstm_units]\n",
    "    tf.keras.layers.LSTM(128, return_sequences=True),\n",
    "    #tf.keras.layers.Dropout(0.1),\n",
    "    tf.keras.layers.LSTM(64, return_sequences=True),\n",
    "    #tf.keras.layers.Dropout(0.1),\n",
    "    tf.keras.layers.LSTM(16, return_sequences=False),\n",
    "    tf.keras.layers.Dense(units=11 , activation = 'softmax')\n",
    "])"
   ]
  },
  {
   "cell_type": "markdown",
   "metadata": {
    "id": "YfGidbg57Hfb"
   },
   "source": [
    "# Sección nueva"
   ]
  },
  {
   "cell_type": "code",
   "execution_count": 110,
   "metadata": {
    "colab": {
     "base_uri": "https://localhost:8080/"
    },
    "id": "1c8452ec",
    "outputId": "93fae48c-9839-4eb6-ad6e-3532ee4d55a4"
   },
   "outputs": [
    {
     "name": "stdout",
     "output_type": "stream",
     "text": [
      "Epoch 1/500\n",
      "1112/1691 [==================>...........] - ETA: 2:40 - loss: 1.7322 - accuracy: 0.3782"
     ]
    },
    {
     "ename": "KeyboardInterrupt",
     "evalue": "",
     "output_type": "error",
     "traceback": [
      "\u001b[1;31m---------------------------------------------------------------------------\u001b[0m",
      "\u001b[1;31mKeyboardInterrupt\u001b[0m                         Traceback (most recent call last)",
      "\u001b[1;32m<ipython-input-110-25cc3fc60738>\u001b[0m in \u001b[0;36m<module>\u001b[1;34m\u001b[0m\n\u001b[1;32m----> 1\u001b[1;33m \u001b[0mhistory\u001b[0m \u001b[1;33m=\u001b[0m \u001b[0mcompile_and_fit\u001b[0m\u001b[1;33m(\u001b[0m\u001b[0mlstm_model\u001b[0m\u001b[1;33m,\u001b[0m \u001b[0mtrain_df\u001b[0m\u001b[1;33m,\u001b[0m \u001b[0my_train_df\u001b[0m\u001b[1;33m,\u001b[0m \u001b[0mval_df\u001b[0m\u001b[1;33m,\u001b[0m \u001b[0my_val_df\u001b[0m\u001b[1;33m)\u001b[0m\u001b[1;33m\u001b[0m\u001b[1;33m\u001b[0m\u001b[0m\n\u001b[0m\u001b[0;32m      2\u001b[0m \u001b[0mval_performance\u001b[0m \u001b[1;33m=\u001b[0m \u001b[1;33m{\u001b[0m\u001b[1;33m}\u001b[0m\u001b[1;33m\u001b[0m\u001b[1;33m\u001b[0m\u001b[0m\n\u001b[0;32m      3\u001b[0m \u001b[0mperformance\u001b[0m \u001b[1;33m=\u001b[0m \u001b[1;33m{\u001b[0m\u001b[1;33m}\u001b[0m\u001b[1;33m\u001b[0m\u001b[1;33m\u001b[0m\u001b[0m\n\u001b[0;32m      4\u001b[0m \u001b[0mIPython\u001b[0m\u001b[1;33m.\u001b[0m\u001b[0mdisplay\u001b[0m\u001b[1;33m.\u001b[0m\u001b[0mclear_output\u001b[0m\u001b[1;33m(\u001b[0m\u001b[1;33m)\u001b[0m\u001b[1;33m\u001b[0m\u001b[1;33m\u001b[0m\u001b[0m\n\u001b[0;32m      5\u001b[0m \u001b[0mval_performance\u001b[0m\u001b[1;33m[\u001b[0m\u001b[1;34m'LSTM'\u001b[0m\u001b[1;33m]\u001b[0m \u001b[1;33m=\u001b[0m \u001b[0mlstm_model\u001b[0m\u001b[1;33m.\u001b[0m\u001b[0mevaluate\u001b[0m\u001b[1;33m(\u001b[0m\u001b[0mval_df\u001b[0m\u001b[1;33m,\u001b[0m \u001b[0my_val_df\u001b[0m\u001b[1;33m)\u001b[0m\u001b[1;33m\u001b[0m\u001b[1;33m\u001b[0m\u001b[0m\n",
      "\u001b[1;32m<ipython-input-108-473fa4c4259d>\u001b[0m in \u001b[0;36mcompile_and_fit\u001b[1;34m(model, x, y, x_val, y_val, patience)\u001b[0m\n\u001b[0;32m     24\u001b[0m                 metrics=['accuracy'])\n\u001b[0;32m     25\u001b[0m   \u001b[1;31m#print(model.summary())\u001b[0m\u001b[1;33m\u001b[0m\u001b[1;33m\u001b[0m\u001b[1;33m\u001b[0m\u001b[0m\n\u001b[1;32m---> 26\u001b[1;33m   history = model.fit(x, y, epochs=MAX_EPOCHS,\n\u001b[0m\u001b[0;32m     27\u001b[0m                       \u001b[0mvalidation_data\u001b[0m\u001b[1;33m=\u001b[0m\u001b[1;33m(\u001b[0m\u001b[0mx_val\u001b[0m\u001b[1;33m,\u001b[0m \u001b[0my_val\u001b[0m\u001b[1;33m)\u001b[0m\u001b[1;33m,\u001b[0m\u001b[1;33m\u001b[0m\u001b[1;33m\u001b[0m\u001b[0m\n\u001b[0;32m     28\u001b[0m                       callbacks=[early_stopping, model_checkpoint_callback])\n",
      "\u001b[1;32m~\\anaconda3\\envs\\tf2.4\\lib\\site-packages\\keras\\utils\\traceback_utils.py\u001b[0m in \u001b[0;36merror_handler\u001b[1;34m(*args, **kwargs)\u001b[0m\n\u001b[0;32m     62\u001b[0m     \u001b[0mfiltered_tb\u001b[0m \u001b[1;33m=\u001b[0m \u001b[1;32mNone\u001b[0m\u001b[1;33m\u001b[0m\u001b[1;33m\u001b[0m\u001b[0m\n\u001b[0;32m     63\u001b[0m     \u001b[1;32mtry\u001b[0m\u001b[1;33m:\u001b[0m\u001b[1;33m\u001b[0m\u001b[1;33m\u001b[0m\u001b[0m\n\u001b[1;32m---> 64\u001b[1;33m       \u001b[1;32mreturn\u001b[0m \u001b[0mfn\u001b[0m\u001b[1;33m(\u001b[0m\u001b[1;33m*\u001b[0m\u001b[0margs\u001b[0m\u001b[1;33m,\u001b[0m \u001b[1;33m**\u001b[0m\u001b[0mkwargs\u001b[0m\u001b[1;33m)\u001b[0m\u001b[1;33m\u001b[0m\u001b[1;33m\u001b[0m\u001b[0m\n\u001b[0m\u001b[0;32m     65\u001b[0m     \u001b[1;32mexcept\u001b[0m \u001b[0mException\u001b[0m \u001b[1;32mas\u001b[0m \u001b[0me\u001b[0m\u001b[1;33m:\u001b[0m  \u001b[1;31m# pylint: disable=broad-except\u001b[0m\u001b[1;33m\u001b[0m\u001b[1;33m\u001b[0m\u001b[0m\n\u001b[0;32m     66\u001b[0m       \u001b[0mfiltered_tb\u001b[0m \u001b[1;33m=\u001b[0m \u001b[0m_process_traceback_frames\u001b[0m\u001b[1;33m(\u001b[0m\u001b[0me\u001b[0m\u001b[1;33m.\u001b[0m\u001b[0m__traceback__\u001b[0m\u001b[1;33m)\u001b[0m\u001b[1;33m\u001b[0m\u001b[1;33m\u001b[0m\u001b[0m\n",
      "\u001b[1;32m~\\anaconda3\\envs\\tf2.4\\lib\\site-packages\\keras\\engine\\training.py\u001b[0m in \u001b[0;36mfit\u001b[1;34m(self, x, y, batch_size, epochs, verbose, callbacks, validation_split, validation_data, shuffle, class_weight, sample_weight, initial_epoch, steps_per_epoch, validation_steps, validation_batch_size, validation_freq, max_queue_size, workers, use_multiprocessing)\u001b[0m\n\u001b[0;32m   1382\u001b[0m                 _r=1):\n\u001b[0;32m   1383\u001b[0m               \u001b[0mcallbacks\u001b[0m\u001b[1;33m.\u001b[0m\u001b[0mon_train_batch_begin\u001b[0m\u001b[1;33m(\u001b[0m\u001b[0mstep\u001b[0m\u001b[1;33m)\u001b[0m\u001b[1;33m\u001b[0m\u001b[1;33m\u001b[0m\u001b[0m\n\u001b[1;32m-> 1384\u001b[1;33m               \u001b[0mtmp_logs\u001b[0m \u001b[1;33m=\u001b[0m \u001b[0mself\u001b[0m\u001b[1;33m.\u001b[0m\u001b[0mtrain_function\u001b[0m\u001b[1;33m(\u001b[0m\u001b[0miterator\u001b[0m\u001b[1;33m)\u001b[0m\u001b[1;33m\u001b[0m\u001b[1;33m\u001b[0m\u001b[0m\n\u001b[0m\u001b[0;32m   1385\u001b[0m               \u001b[1;32mif\u001b[0m \u001b[0mdata_handler\u001b[0m\u001b[1;33m.\u001b[0m\u001b[0mshould_sync\u001b[0m\u001b[1;33m:\u001b[0m\u001b[1;33m\u001b[0m\u001b[1;33m\u001b[0m\u001b[0m\n\u001b[0;32m   1386\u001b[0m                 \u001b[0mcontext\u001b[0m\u001b[1;33m.\u001b[0m\u001b[0masync_wait\u001b[0m\u001b[1;33m(\u001b[0m\u001b[1;33m)\u001b[0m\u001b[1;33m\u001b[0m\u001b[1;33m\u001b[0m\u001b[0m\n",
      "\u001b[1;32m~\\anaconda3\\envs\\tf2.4\\lib\\site-packages\\tensorflow\\python\\util\\traceback_utils.py\u001b[0m in \u001b[0;36merror_handler\u001b[1;34m(*args, **kwargs)\u001b[0m\n\u001b[0;32m    148\u001b[0m     \u001b[0mfiltered_tb\u001b[0m \u001b[1;33m=\u001b[0m \u001b[1;32mNone\u001b[0m\u001b[1;33m\u001b[0m\u001b[1;33m\u001b[0m\u001b[0m\n\u001b[0;32m    149\u001b[0m     \u001b[1;32mtry\u001b[0m\u001b[1;33m:\u001b[0m\u001b[1;33m\u001b[0m\u001b[1;33m\u001b[0m\u001b[0m\n\u001b[1;32m--> 150\u001b[1;33m       \u001b[1;32mreturn\u001b[0m \u001b[0mfn\u001b[0m\u001b[1;33m(\u001b[0m\u001b[1;33m*\u001b[0m\u001b[0margs\u001b[0m\u001b[1;33m,\u001b[0m \u001b[1;33m**\u001b[0m\u001b[0mkwargs\u001b[0m\u001b[1;33m)\u001b[0m\u001b[1;33m\u001b[0m\u001b[1;33m\u001b[0m\u001b[0m\n\u001b[0m\u001b[0;32m    151\u001b[0m     \u001b[1;32mexcept\u001b[0m \u001b[0mException\u001b[0m \u001b[1;32mas\u001b[0m \u001b[0me\u001b[0m\u001b[1;33m:\u001b[0m\u001b[1;33m\u001b[0m\u001b[1;33m\u001b[0m\u001b[0m\n\u001b[0;32m    152\u001b[0m       \u001b[0mfiltered_tb\u001b[0m \u001b[1;33m=\u001b[0m \u001b[0m_process_traceback_frames\u001b[0m\u001b[1;33m(\u001b[0m\u001b[0me\u001b[0m\u001b[1;33m.\u001b[0m\u001b[0m__traceback__\u001b[0m\u001b[1;33m)\u001b[0m\u001b[1;33m\u001b[0m\u001b[1;33m\u001b[0m\u001b[0m\n",
      "\u001b[1;32m~\\anaconda3\\envs\\tf2.4\\lib\\site-packages\\tensorflow\\python\\eager\\def_function.py\u001b[0m in \u001b[0;36m__call__\u001b[1;34m(self, *args, **kwds)\u001b[0m\n\u001b[0;32m    913\u001b[0m \u001b[1;33m\u001b[0m\u001b[0m\n\u001b[0;32m    914\u001b[0m       \u001b[1;32mwith\u001b[0m \u001b[0mOptionalXlaContext\u001b[0m\u001b[1;33m(\u001b[0m\u001b[0mself\u001b[0m\u001b[1;33m.\u001b[0m\u001b[0m_jit_compile\u001b[0m\u001b[1;33m)\u001b[0m\u001b[1;33m:\u001b[0m\u001b[1;33m\u001b[0m\u001b[1;33m\u001b[0m\u001b[0m\n\u001b[1;32m--> 915\u001b[1;33m         \u001b[0mresult\u001b[0m \u001b[1;33m=\u001b[0m \u001b[0mself\u001b[0m\u001b[1;33m.\u001b[0m\u001b[0m_call\u001b[0m\u001b[1;33m(\u001b[0m\u001b[1;33m*\u001b[0m\u001b[0margs\u001b[0m\u001b[1;33m,\u001b[0m \u001b[1;33m**\u001b[0m\u001b[0mkwds\u001b[0m\u001b[1;33m)\u001b[0m\u001b[1;33m\u001b[0m\u001b[1;33m\u001b[0m\u001b[0m\n\u001b[0m\u001b[0;32m    916\u001b[0m \u001b[1;33m\u001b[0m\u001b[0m\n\u001b[0;32m    917\u001b[0m       \u001b[0mnew_tracing_count\u001b[0m \u001b[1;33m=\u001b[0m \u001b[0mself\u001b[0m\u001b[1;33m.\u001b[0m\u001b[0mexperimental_get_tracing_count\u001b[0m\u001b[1;33m(\u001b[0m\u001b[1;33m)\u001b[0m\u001b[1;33m\u001b[0m\u001b[1;33m\u001b[0m\u001b[0m\n",
      "\u001b[1;32m~\\anaconda3\\envs\\tf2.4\\lib\\site-packages\\tensorflow\\python\\eager\\def_function.py\u001b[0m in \u001b[0;36m_call\u001b[1;34m(self, *args, **kwds)\u001b[0m\n\u001b[0;32m    945\u001b[0m       \u001b[1;31m# In this case we have created variables on the first call, so we run the\u001b[0m\u001b[1;33m\u001b[0m\u001b[1;33m\u001b[0m\u001b[1;33m\u001b[0m\u001b[0m\n\u001b[0;32m    946\u001b[0m       \u001b[1;31m# defunned version which is guaranteed to never create variables.\u001b[0m\u001b[1;33m\u001b[0m\u001b[1;33m\u001b[0m\u001b[1;33m\u001b[0m\u001b[0m\n\u001b[1;32m--> 947\u001b[1;33m       \u001b[1;32mreturn\u001b[0m \u001b[0mself\u001b[0m\u001b[1;33m.\u001b[0m\u001b[0m_stateless_fn\u001b[0m\u001b[1;33m(\u001b[0m\u001b[1;33m*\u001b[0m\u001b[0margs\u001b[0m\u001b[1;33m,\u001b[0m \u001b[1;33m**\u001b[0m\u001b[0mkwds\u001b[0m\u001b[1;33m)\u001b[0m  \u001b[1;31m# pylint: disable=not-callable\u001b[0m\u001b[1;33m\u001b[0m\u001b[1;33m\u001b[0m\u001b[0m\n\u001b[0m\u001b[0;32m    948\u001b[0m     \u001b[1;32melif\u001b[0m \u001b[0mself\u001b[0m\u001b[1;33m.\u001b[0m\u001b[0m_stateful_fn\u001b[0m \u001b[1;32mis\u001b[0m \u001b[1;32mnot\u001b[0m \u001b[1;32mNone\u001b[0m\u001b[1;33m:\u001b[0m\u001b[1;33m\u001b[0m\u001b[1;33m\u001b[0m\u001b[0m\n\u001b[0;32m    949\u001b[0m       \u001b[1;31m# Release the lock early so that multiple threads can perform the call\u001b[0m\u001b[1;33m\u001b[0m\u001b[1;33m\u001b[0m\u001b[1;33m\u001b[0m\u001b[0m\n",
      "\u001b[1;32m~\\anaconda3\\envs\\tf2.4\\lib\\site-packages\\tensorflow\\python\\eager\\function.py\u001b[0m in \u001b[0;36m__call__\u001b[1;34m(self, *args, **kwargs)\u001b[0m\n\u001b[0;32m   2954\u001b[0m       (graph_function,\n\u001b[0;32m   2955\u001b[0m        filtered_flat_args) = self._maybe_define_function(args, kwargs)\n\u001b[1;32m-> 2956\u001b[1;33m     return graph_function._call_flat(\n\u001b[0m\u001b[0;32m   2957\u001b[0m         filtered_flat_args, captured_inputs=graph_function.captured_inputs)  # pylint: disable=protected-access\n\u001b[0;32m   2958\u001b[0m \u001b[1;33m\u001b[0m\u001b[0m\n",
      "\u001b[1;32m~\\anaconda3\\envs\\tf2.4\\lib\\site-packages\\tensorflow\\python\\eager\\function.py\u001b[0m in \u001b[0;36m_call_flat\u001b[1;34m(self, args, captured_inputs, cancellation_manager)\u001b[0m\n\u001b[0;32m   1851\u001b[0m         and executing_eagerly):\n\u001b[0;32m   1852\u001b[0m       \u001b[1;31m# No tape is watching; skip to running the function.\u001b[0m\u001b[1;33m\u001b[0m\u001b[1;33m\u001b[0m\u001b[1;33m\u001b[0m\u001b[0m\n\u001b[1;32m-> 1853\u001b[1;33m       return self._build_call_outputs(self._inference_function.call(\n\u001b[0m\u001b[0;32m   1854\u001b[0m           ctx, args, cancellation_manager=cancellation_manager))\n\u001b[0;32m   1855\u001b[0m     forward_backward = self._select_forward_and_backward_functions(\n",
      "\u001b[1;32m~\\anaconda3\\envs\\tf2.4\\lib\\site-packages\\tensorflow\\python\\eager\\function.py\u001b[0m in \u001b[0;36mcall\u001b[1;34m(self, ctx, args, cancellation_manager)\u001b[0m\n\u001b[0;32m    497\u001b[0m       \u001b[1;32mwith\u001b[0m \u001b[0m_InterpolateFunctionError\u001b[0m\u001b[1;33m(\u001b[0m\u001b[0mself\u001b[0m\u001b[1;33m)\u001b[0m\u001b[1;33m:\u001b[0m\u001b[1;33m\u001b[0m\u001b[1;33m\u001b[0m\u001b[0m\n\u001b[0;32m    498\u001b[0m         \u001b[1;32mif\u001b[0m \u001b[0mcancellation_manager\u001b[0m \u001b[1;32mis\u001b[0m \u001b[1;32mNone\u001b[0m\u001b[1;33m:\u001b[0m\u001b[1;33m\u001b[0m\u001b[1;33m\u001b[0m\u001b[0m\n\u001b[1;32m--> 499\u001b[1;33m           outputs = execute.execute(\n\u001b[0m\u001b[0;32m    500\u001b[0m               \u001b[0mstr\u001b[0m\u001b[1;33m(\u001b[0m\u001b[0mself\u001b[0m\u001b[1;33m.\u001b[0m\u001b[0msignature\u001b[0m\u001b[1;33m.\u001b[0m\u001b[0mname\u001b[0m\u001b[1;33m)\u001b[0m\u001b[1;33m,\u001b[0m\u001b[1;33m\u001b[0m\u001b[1;33m\u001b[0m\u001b[0m\n\u001b[0;32m    501\u001b[0m               \u001b[0mnum_outputs\u001b[0m\u001b[1;33m=\u001b[0m\u001b[0mself\u001b[0m\u001b[1;33m.\u001b[0m\u001b[0m_num_outputs\u001b[0m\u001b[1;33m,\u001b[0m\u001b[1;33m\u001b[0m\u001b[1;33m\u001b[0m\u001b[0m\n",
      "\u001b[1;32m~\\anaconda3\\envs\\tf2.4\\lib\\site-packages\\tensorflow\\python\\eager\\execute.py\u001b[0m in \u001b[0;36mquick_execute\u001b[1;34m(op_name, num_outputs, inputs, attrs, ctx, name)\u001b[0m\n\u001b[0;32m     52\u001b[0m   \u001b[1;32mtry\u001b[0m\u001b[1;33m:\u001b[0m\u001b[1;33m\u001b[0m\u001b[1;33m\u001b[0m\u001b[0m\n\u001b[0;32m     53\u001b[0m     \u001b[0mctx\u001b[0m\u001b[1;33m.\u001b[0m\u001b[0mensure_initialized\u001b[0m\u001b[1;33m(\u001b[0m\u001b[1;33m)\u001b[0m\u001b[1;33m\u001b[0m\u001b[1;33m\u001b[0m\u001b[0m\n\u001b[1;32m---> 54\u001b[1;33m     tensors = pywrap_tfe.TFE_Py_Execute(ctx._handle, device_name, op_name,\n\u001b[0m\u001b[0;32m     55\u001b[0m                                         inputs, attrs, num_outputs)\n\u001b[0;32m     56\u001b[0m   \u001b[1;32mexcept\u001b[0m \u001b[0mcore\u001b[0m\u001b[1;33m.\u001b[0m\u001b[0m_NotOkStatusException\u001b[0m \u001b[1;32mas\u001b[0m \u001b[0me\u001b[0m\u001b[1;33m:\u001b[0m\u001b[1;33m\u001b[0m\u001b[1;33m\u001b[0m\u001b[0m\n",
      "\u001b[1;31mKeyboardInterrupt\u001b[0m: "
     ]
    }
   ],
   "source": [
    "history = compile_and_fit(lstm_model, train_df, y_train_df, val_df, y_val_df)\n",
    "val_performance = {}\n",
    "performance = {}\n",
    "IPython.display.clear_output()\n",
    "val_performance['LSTM'] = lstm_model.evaluate(val_df, y_val_df)\n",
    "performance['LSTM'] = lstm_model.evaluate(test_df, y_test_df, verbose=1)"
   ]
  },
  {
   "cell_type": "code",
   "execution_count": null,
   "metadata": {
    "id": "46e54ffd"
   },
   "outputs": [],
   "source": [
    "lstm_model.save(\"lstm_model_diff_ogle.h5\") "
   ]
  },
  {
   "cell_type": "code",
   "execution_count": null,
   "metadata": {},
   "outputs": [],
   "source": []
  }
 ],
 "metadata": {
  "accelerator": "GPU",
  "colab": {
   "collapsed_sections": [],
   "name": "Gaia_labeled_SMOTE.ipynb",
   "provenance": []
  },
  "kernelspec": {
   "display_name": "Python 3",
   "language": "python",
   "name": "python3"
  },
  "language_info": {
   "codemirror_mode": {
    "name": "ipython",
    "version": 3
   },
   "file_extension": ".py",
   "mimetype": "text/x-python",
   "name": "python",
   "nbconvert_exporter": "python",
   "pygments_lexer": "ipython3",
   "version": "3.8.3"
  }
 },
 "nbformat": 4,
 "nbformat_minor": 5
}
